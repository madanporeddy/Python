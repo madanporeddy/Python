{
 "cells": [
  {
   "cell_type": "markdown",
   "metadata": {},
   "source": [
    "\n",
    "#### Topics Covered\n",
    "* Comprehensions\n",
    "* Lambdas<br>\n",
    "* Functional Programming<br>\n",
    "* List Comprehension<br>\n",
    "* Tuple Comprehension<br>\n",
    "* set and dictionary comprehension<br>\n",
    "* enumerate<br>\n",
    "* zip<br>"
   ]
  },
  {
   "cell_type": "markdown",
   "metadata": {},
   "source": [
    "### List Comprehension"
   ]
  },
  {
   "cell_type": "code",
   "execution_count": 1,
   "metadata": {
    "collapsed": false
   },
   "outputs": [
    {
     "data": {
      "text/plain": [
       "[2, 5, 10, 17, 26, 37, 50, 65, 82, 101]"
      ]
     },
     "execution_count": 1,
     "metadata": {},
     "output_type": "execute_result"
    }
   ],
   "source": [
    "l = []\n",
    "for i in range(1,11):\n",
    "    a=i*i+1\n",
    "    l.append(a)\n",
    "l"
   ]
  },
  {
   "cell_type": "code",
   "execution_count": 2,
   "metadata": {
    "collapsed": false
   },
   "outputs": [],
   "source": [
    "l = [i for i in range(2, 20)]    # Expression/Operation follwed by loop"
   ]
  },
  {
   "cell_type": "code",
   "execution_count": 3,
   "metadata": {
    "collapsed": false
   },
   "outputs": [
    {
     "data": {
      "text/plain": [
       "[2, 3, 4, 5, 6, 7, 8, 9, 10, 11, 12, 13, 14, 15, 16, 17, 18, 19]"
      ]
     },
     "execution_count": 3,
     "metadata": {},
     "output_type": "execute_result"
    }
   ],
   "source": [
    "l"
   ]
  },
  {
   "cell_type": "code",
   "execution_count": 4,
   "metadata": {
    "collapsed": false
   },
   "outputs": [
    {
     "name": "stdout",
     "output_type": "stream",
     "text": [
      "[2, 5, 10, 17, 26, 37, 50, 65, 82, 101]\n"
     ]
    }
   ],
   "source": [
    "l = [i*i+1 for i in range(1, 11)]   # Expression/Operation follwed by loop which will result into list\n",
    "print (l)"
   ]
  },
  {
   "cell_type": "code",
   "execution_count": 6,
   "metadata": {
    "collapsed": false
   },
   "outputs": [
    {
     "name": "stdout",
     "output_type": "stream",
     "text": [
      "[0.0, 0.8414709848078965, 0.9092974268256817, 0.1411200080598672, -0.7568024953079282, -0.9589242746631385, -0.27941549819892586, 0.6569865987187891, 0.9893582466233818, 0.4121184852417566, -0.5440211108893698]\n"
     ]
    }
   ],
   "source": [
    "from math import sin\n",
    "l = [sin(x) for x in range(0, 11)]\n",
    "print (l)"
   ]
  },
  {
   "cell_type": "code",
   "execution_count": null,
   "metadata": {
    "collapsed": true
   },
   "outputs": [],
   "source": [
    "#ternary operation -> Conditional expressions"
   ]
  },
  {
   "cell_type": "code",
   "execution_count": 7,
   "metadata": {
    "collapsed": false
   },
   "outputs": [
    {
     "data": {
      "text/plain": [
       "[34, 33, 12]"
      ]
     },
     "execution_count": 7,
     "metadata": {},
     "output_type": "execute_result"
    }
   ],
   "source": [
    "l = [34, 56, 78, 59, 33, 12, 98]\n",
    "l1 = []\n",
    "for i in l:\n",
    "    if i < 50:\n",
    "        l1.append(i)\n",
    "l1\n",
    "        "
   ]
  },
  {
   "cell_type": "code",
   "execution_count": 8,
   "metadata": {
    "collapsed": false
   },
   "outputs": [
    {
     "name": "stdout",
     "output_type": "stream",
     "text": [
      "[34, 33, 12]\n"
     ]
    }
   ],
   "source": [
    "l = [34, 56, 78, 59, 33, 12, 98]\n",
    "l1 = [x for x in l if x < 50]   # operation loop stmt   condtion \n",
    "print (l1)"
   ]
  },
  {
   "cell_type": "code",
   "execution_count": 9,
   "metadata": {
    "collapsed": false
   },
   "outputs": [
    {
     "name": "stdout",
     "output_type": "stream",
     "text": [
      "[-0.7568024953079282, -0.9589242746631385, -0.27941549819892586, -0.5440211108893698]\n"
     ]
    }
   ],
   "source": [
    "from math import sin\n",
    "l = [sin(x) for x in range(1, 11) if sin(x) < 0]\n",
    "print (l)"
   ]
  },
  {
   "cell_type": "code",
   "execution_count": 10,
   "metadata": {
    "collapsed": false
   },
   "outputs": [
    {
     "data": {
      "text/plain": [
       "[89.6, 113.0, 91.4, 105.8, 82.4, 102.2, 95.0]"
      ]
     },
     "execution_count": 10,
     "metadata": {},
     "output_type": "execute_result"
    }
   ],
   "source": [
    "temps = [32, 45, 33, 41, 28, 39, 35]\n",
    "def to_fahrenheit(t):\n",
    "    return t*(9/5.0) + 32\n",
    "\n",
    "l = []\n",
    "for i in temps:\n",
    "    a = i*(9/5.0) + 32\n",
    "    l.append(a)\n",
    "l"
   ]
  },
  {
   "cell_type": "code",
   "execution_count": 11,
   "metadata": {
    "collapsed": true
   },
   "outputs": [],
   "source": [
    "from math import sin, cos\n",
    "temps = [32, 45, 33, 41, 28, 39, 35]\n",
    "def to_fahrenheit(t):\n",
    "    return t*(9/5.0) + 32\n",
    "\n",
    "l = [to_fahrenheit(t) for t in temps] # map in functional programming"
   ]
  },
  {
   "cell_type": "code",
   "execution_count": 12,
   "metadata": {
    "collapsed": false
   },
   "outputs": [
    {
     "data": {
      "text/plain": [
       "[89.6, 113.0, 91.4, 105.8, 82.4, 102.2, 95.0]"
      ]
     },
     "execution_count": 12,
     "metadata": {},
     "output_type": "execute_result"
    }
   ],
   "source": [
    "l"
   ]
  },
  {
   "cell_type": "code",
   "execution_count": 13,
   "metadata": {
    "collapsed": false
   },
   "outputs": [
    {
     "data": {
      "text/plain": [
       "[89.6, 113.0, 91.4, 105.8, 82.4, 102.2, 95.0]"
      ]
     },
     "execution_count": 13,
     "metadata": {},
     "output_type": "execute_result"
    }
   ],
   "source": [
    "# how we can acheive above case with map?\n",
    "l= list(map(lambda t:t*(9/5.0) + 32, temps))     # map(function, iterable item)\n",
    "l"
   ]
  },
  {
   "cell_type": "code",
   "execution_count": 14,
   "metadata": {
    "collapsed": true
   },
   "outputs": [],
   "source": [
    "l2 = [i for i in l if i < 90] # filter in functional programming"
   ]
  },
  {
   "cell_type": "code",
   "execution_count": 15,
   "metadata": {
    "collapsed": false
   },
   "outputs": [
    {
     "data": {
      "text/plain": [
       "[89.6, 82.4]"
      ]
     },
     "execution_count": 15,
     "metadata": {},
     "output_type": "execute_result"
    }
   ],
   "source": [
    "l2"
   ]
  },
  {
   "cell_type": "code",
   "execution_count": 16,
   "metadata": {
    "collapsed": true
   },
   "outputs": [],
   "source": [
    "# how we can acheive above case with filter?\n",
    "l2 = list(filter(lambda x: x < 90, l))   #filter(function,iterable item)  # lambda arguments: operation"
   ]
  },
  {
   "cell_type": "code",
   "execution_count": 17,
   "metadata": {
    "collapsed": false
   },
   "outputs": [
    {
     "data": {
      "text/plain": [
       "[89.6, 82.4]"
      ]
     },
     "execution_count": 17,
     "metadata": {},
     "output_type": "execute_result"
    }
   ],
   "source": [
    "l2"
   ]
  },
  {
   "cell_type": "code",
   "execution_count": 18,
   "metadata": {
    "collapsed": false
   },
   "outputs": [
    {
     "data": {
      "text/plain": [
       "[('a', 'p'), ('a', 'q'), ('b', 'p'), ('b', 'q')]"
      ]
     },
     "execution_count": 18,
     "metadata": {},
     "output_type": "execute_result"
    }
   ],
   "source": [
    "cartesian = [(x, y) for x in ['a', 'b'] for y in ['p', 'q']]\n",
    "cartesian"
   ]
  },
  {
   "cell_type": "code",
   "execution_count": 19,
   "metadata": {
    "collapsed": false
   },
   "outputs": [
    {
     "name": "stdout",
     "output_type": "stream",
     "text": [
      "a p\n",
      "a q\n",
      "b p\n",
      "b q\n"
     ]
    }
   ],
   "source": [
    "for x in ['a', 'b']:\n",
    "    for y in ['p', 'q']:\n",
    "        print (x, y)"
   ]
  },
  {
   "cell_type": "code",
   "execution_count": 22,
   "metadata": {
    "collapsed": false
   },
   "outputs": [
    {
     "name": "stdout",
     "output_type": "stream",
     "text": [
      "20\n"
     ]
    }
   ],
   "source": [
    "y = 5\n",
    "x = 10 if y > 20 else 20   # ternary \n",
    "print (x)"
   ]
  },
  {
   "cell_type": "markdown",
   "metadata": {},
   "source": [
    "### Tuple comprehension\n",
    "Note: Tuple comprehension is a generator"
   ]
  },
  {
   "cell_type": "code",
   "execution_count": 24,
   "metadata": {
    "collapsed": true
   },
   "outputs": [],
   "source": [
    "gen = tuple((i for i in range(11, 21)))"
   ]
  },
  {
   "cell_type": "code",
   "execution_count": 25,
   "metadata": {
    "collapsed": false
   },
   "outputs": [],
   "source": [
    "gen = (i for i in range(11, 21))"
   ]
  },
  {
   "cell_type": "code",
   "execution_count": 26,
   "metadata": {
    "collapsed": false
   },
   "outputs": [
    {
     "data": {
      "text/plain": [
       "<function generator.throw>"
      ]
     },
     "execution_count": 26,
     "metadata": {},
     "output_type": "execute_result"
    }
   ],
   "source": [
    "gen.throw"
   ]
  },
  {
   "cell_type": "code",
   "execution_count": 27,
   "metadata": {
    "collapsed": false
   },
   "outputs": [
    {
     "data": {
      "text/plain": [
       "11"
      ]
     },
     "execution_count": 27,
     "metadata": {},
     "output_type": "execute_result"
    }
   ],
   "source": [
    "next(gen, None)"
   ]
  },
  {
   "cell_type": "code",
   "execution_count": 28,
   "metadata": {
    "collapsed": false
   },
   "outputs": [
    {
     "data": {
      "text/plain": [
       "12"
      ]
     },
     "execution_count": 28,
     "metadata": {},
     "output_type": "execute_result"
    }
   ],
   "source": [
    "next(gen)"
   ]
  },
  {
   "cell_type": "markdown",
   "metadata": {
    "collapsed": true
   },
   "source": [
    "### Set Comprehension"
   ]
  },
  {
   "cell_type": "code",
   "execution_count": 29,
   "metadata": {
    "collapsed": true
   },
   "outputs": [],
   "source": [
    "nums = {n**2 for n in range(10)}"
   ]
  },
  {
   "cell_type": "code",
   "execution_count": 30,
   "metadata": {
    "collapsed": false
   },
   "outputs": [
    {
     "data": {
      "text/plain": [
       "{0, 1, 4, 9, 16, 25, 36, 49, 64, 81}"
      ]
     },
     "execution_count": 30,
     "metadata": {},
     "output_type": "execute_result"
    }
   ],
   "source": [
    "nums"
   ]
  },
  {
   "cell_type": "markdown",
   "metadata": {},
   "source": [
    "### Zip and Enumerate"
   ]
  },
  {
   "cell_type": "code",
   "execution_count": 31,
   "metadata": {
    "collapsed": false
   },
   "outputs": [
    {
     "name": "stdout",
     "output_type": "stream",
     "text": [
      "no zip operartion\n"
     ]
    }
   ],
   "source": [
    "l1 = [3,   4,   5,   7,   1,  8,  9]   # 7\n",
    "l2 = [\"Q\", \"P\", \"A\", \"Z\", \"T\"]  #5\n",
    "\n",
    "len1 = len(l1)\n",
    "len2 = len(l2)\n",
    "\n",
    "if len1 == len2:\n",
    "    a = list(zip(l1, l2))\n",
    "else:\n",
    "    print(\"no zip operartion\")"
   ]
  },
  {
   "cell_type": "code",
   "execution_count": 41,
   "metadata": {
    "collapsed": false
   },
   "outputs": [
    {
     "data": {
      "text/plain": [
       "[(3, 'Q'), (4, 'P'), (5, 'A'), (7, 'Z'), (1, 'T')]"
      ]
     },
     "execution_count": 41,
     "metadata": {},
     "output_type": "execute_result"
    }
   ],
   "source": [
    "a"
   ]
  },
  {
   "cell_type": "code",
   "execution_count": 32,
   "metadata": {
    "collapsed": false
   },
   "outputs": [
    {
     "name": "stdout",
     "output_type": "stream",
     "text": [
      "3 Q\n",
      "4 P\n",
      "5 A\n",
      "7 Z\n",
      "1 T\n"
     ]
    }
   ],
   "source": [
    "for x, y in zip(l1, l2):\n",
    "    print (x, y)"
   ]
  },
  {
   "cell_type": "code",
   "execution_count": 43,
   "metadata": {
    "collapsed": false
   },
   "outputs": [
    {
     "data": {
      "text/plain": [
       "{1: 'T', 3: 'Q', 4: 'P', 5: 'A', 7: 'Z'}"
      ]
     },
     "execution_count": 43,
     "metadata": {},
     "output_type": "execute_result"
    }
   ],
   "source": [
    "dict(zip(l1, l2))"
   ]
  },
  {
   "cell_type": "code",
   "execution_count": 90,
   "metadata": {
    "collapsed": false
   },
   "outputs": [
    {
     "name": "stdout",
     "output_type": "stream",
     "text": [
      "0 : Q\n",
      "1 : P\n",
      "2 : A\n",
      "3 : Z\n",
      "4 : T\n"
     ]
    }
   ],
   "source": [
    "l = [\"Q\", \"P\", \"A\", \"Z\", \"T\"]\n",
    "i = 0\n",
    "for val in l:\n",
    "    print (i, \":\", val)\n",
    "    i += 1"
   ]
  },
  {
   "cell_type": "code",
   "execution_count": 33,
   "metadata": {
    "collapsed": false
   },
   "outputs": [
    {
     "name": "stdout",
     "output_type": "stream",
     "text": [
      "1 -> Q\n",
      "2 -> P\n",
      "3 -> A\n",
      "4 -> Z\n",
      "5 -> T\n"
     ]
    }
   ],
   "source": [
    "l = [\"Q\", \"P\", \"A\", \"Z\", \"T\"]\n",
    "\n",
    "for idx, val in enumerate(l, start=1):\n",
    "    print (idx, \"->\", val)"
   ]
  },
  {
   "cell_type": "markdown",
   "metadata": {},
   "source": [
    "### Dict Comprehension"
   ]
  },
  {
   "cell_type": "code",
   "execution_count": 34,
   "metadata": {
    "collapsed": true
   },
   "outputs": [],
   "source": [
    "keys = [x for x in range(1, 6)]\n",
    "values = ['one', 'Two', 'Three', 'Four', 'Five']\n",
    "d = {k: v for k, v in zip(keys, values)}"
   ]
  },
  {
   "cell_type": "code",
   "execution_count": 35,
   "metadata": {
    "collapsed": false
   },
   "outputs": [
    {
     "data": {
      "text/plain": [
       "{1: 'one', 2: 'Two', 3: 'Three', 4: 'Four', 5: 'Five'}"
      ]
     },
     "execution_count": 35,
     "metadata": {},
     "output_type": "execute_result"
    }
   ],
   "source": [
    "d"
   ]
  },
  {
   "cell_type": "code",
   "execution_count": 36,
   "metadata": {
    "collapsed": true
   },
   "outputs": [],
   "source": [
    "# setting default value 0 for all keys\n",
    "keys = ['Orange', 'Apple', 'Peach', 'Banana', 'Grape']\n",
    "d = {k: 0 for k in keys}"
   ]
  },
  {
   "cell_type": "code",
   "execution_count": 37,
   "metadata": {
    "collapsed": false
   },
   "outputs": [
    {
     "data": {
      "text/plain": [
       "{'Apple': 0, 'Banana': 0, 'Grape': 0, 'Orange': 0, 'Peach': 0}"
      ]
     },
     "execution_count": 37,
     "metadata": {},
     "output_type": "execute_result"
    }
   ],
   "source": [
    "d"
   ]
  },
  {
   "cell_type": "code",
   "execution_count": 38,
   "metadata": {
    "collapsed": true
   },
   "outputs": [],
   "source": [
    "d = dict(zip(keys, values))"
   ]
  },
  {
   "cell_type": "code",
   "execution_count": 39,
   "metadata": {
    "collapsed": false
   },
   "outputs": [
    {
     "data": {
      "text/plain": [
       "{'Apple': 'Two',\n",
       " 'Banana': 'Four',\n",
       " 'Grape': 'Five',\n",
       " 'Orange': 'one',\n",
       " 'Peach': 'Three'}"
      ]
     },
     "execution_count": 39,
     "metadata": {},
     "output_type": "execute_result"
    }
   ],
   "source": [
    "d"
   ]
  },
  {
   "cell_type": "markdown",
   "metadata": {},
   "source": [
    "### Functional Programming\n",
    "* map()\n",
    "* filter()\n",
    "* reduce() # this has been moved to functools\n",
    "\n",
    "Note: in python 3.x, reduce() has been moved to functools module"
   ]
  },
  {
   "cell_type": "markdown",
   "metadata": {},
   "source": [
    "#### Procedural style"
   ]
  },
  {
   "cell_type": "code",
   "execution_count": null,
   "metadata": {
    "collapsed": false
   },
   "outputs": [],
   "source": [
    "temps_farenheit = [45, 67, 89, 73, 45, 89, 113]\n",
    "\n",
    "def farenheit_to_celcius(f):\n",
    "    c = (f-32.0)/(9.0/5.0)\n",
    "    return c\n",
    "\n",
    "temps_celicius = []\n",
    "\n",
    "for t in temps_farenheit:\n",
    "    temps_celicius.append(farenheit_to_celcius(t))\n",
    "\n",
    "print (temps_celicius)"
   ]
  },
  {
   "cell_type": "markdown",
   "metadata": {},
   "source": [
    "#### List Comprehension"
   ]
  },
  {
   "cell_type": "code",
   "execution_count": null,
   "metadata": {
    "collapsed": false
   },
   "outputs": [],
   "source": [
    "temps_farenheit = [45, 67, 89, 73, 45, 89, 113]\n",
    "\n",
    "def farenheit_to_celcius(f):\n",
    "    c = (f-32.0)/(9.0/5.0)\n",
    "    return c\n",
    "\n",
    "temps_celcius = [farenheit_to_celcius(t) for t in temps_farenheit]\n",
    "print (temps_celcius)"
   ]
  },
  {
   "cell_type": "markdown",
   "metadata": {},
   "source": [
    "#### Functional Style"
   ]
  },
  {
   "cell_type": "code",
   "execution_count": null,
   "metadata": {
    "collapsed": false
   },
   "outputs": [],
   "source": [
    "temps_farenheit = [45, 67, 89, 73, 45, 89, 113]\n",
    "\n",
    "def farenheit_to_celcius(f):\n",
    "    c = (f-32.0)/(9.0/5.0)\n",
    "    return c\n",
    "\n",
    "temps_celcius = list(map(farenheit_to_celcius, temps_farenheit))\n",
    "print (temps_celcius)\n"
   ]
  },
  {
   "cell_type": "markdown",
   "metadata": {},
   "source": [
    "#### Ternary operator in python"
   ]
  },
  {
   "cell_type": "code",
   "execution_count": null,
   "metadata": {
    "collapsed": false
   },
   "outputs": [],
   "source": [
    "[t for t in temps_celcius if t > 31.0]"
   ]
  },
  {
   "cell_type": "code",
   "execution_count": null,
   "metadata": {
    "collapsed": false
   },
   "outputs": [],
   "source": [
    "x = 35\n",
    "y = 20 if x > 30 else 40\n",
    "print (y)"
   ]
  },
  {
   "cell_type": "code",
   "execution_count": null,
   "metadata": {
    "collapsed": false
   },
   "outputs": [],
   "source": [
    "# [t for t in temps_celcius if t > 31.0]\n",
    "print (temps_celcius)\n",
    "\n",
    "def less_than_31(t):\n",
    "    return True if t > 31.0 else False\n",
    "\n",
    "l = filter(less_than_31, temps_celcius)\n",
    "print (list(l))"
   ]
  },
  {
   "cell_type": "markdown",
   "metadata": {},
   "source": [
    "### Ref: sorting list of tuples"
   ]
  },
  {
   "cell_type": "code",
   "execution_count": 40,
   "metadata": {
    "collapsed": false
   },
   "outputs": [
    {
     "data": {
      "text/plain": [
       "[(5, 7), (9, 20), (10, 3)]"
      ]
     },
     "execution_count": 40,
     "metadata": {},
     "output_type": "execute_result"
    }
   ],
   "source": [
    "l = [(10, 3), (9, 20), (5, 7)]\n",
    "sorted(l)"
   ]
  },
  {
   "cell_type": "code",
   "execution_count": 41,
   "metadata": {
    "collapsed": false
   },
   "outputs": [
    {
     "data": {
      "text/plain": [
       "[(10, 3), (5, 7), (9, 20)]"
      ]
     },
     "execution_count": 41,
     "metadata": {},
     "output_type": "execute_result"
    }
   ],
   "source": [
    "sorted(l, key=lambda t: t[1])"
   ]
  },
  {
   "cell_type": "markdown",
   "metadata": {
    "collapsed": true
   },
   "source": [
    "#### Using lambdas\n",
    "* lambda is single line function\n",
    "* lambda is anonymous function\n",
    "\n",
    "Syntax:<br>\n",
    "```python\n",
    " lambda params: expression\n",
    "```"
   ]
  },
  {
   "cell_type": "code",
   "execution_count": 42,
   "metadata": {
    "collapsed": false
   },
   "outputs": [
    {
     "data": {
      "text/plain": [
       "16"
      ]
     },
     "execution_count": 42,
     "metadata": {},
     "output_type": "execute_result"
    }
   ],
   "source": [
    "f = lambda x: x*x\n",
    "f(4)"
   ]
  },
  {
   "cell_type": "code",
   "execution_count": 43,
   "metadata": {
    "collapsed": false
   },
   "outputs": [
    {
     "data": {
      "text/plain": [
       "20"
      ]
     },
     "execution_count": 43,
     "metadata": {},
     "output_type": "execute_result"
    }
   ],
   "source": [
    "f = lambda x, y: x*y\n",
    "f(4,5)"
   ]
  },
  {
   "cell_type": "code",
   "execution_count": 44,
   "metadata": {
    "collapsed": false
   },
   "outputs": [
    {
     "ename": "SyntaxError",
     "evalue": "Missing parentheses in call to 'print' (<ipython-input-44-8e1930a683b0>, line 6)",
     "output_type": "error",
     "traceback": [
      "\u001b[1;36m  File \u001b[1;32m\"<ipython-input-44-8e1930a683b0>\"\u001b[1;36m, line \u001b[1;32m6\u001b[0m\n\u001b[1;33m    print temps_celcius\u001b[0m\n\u001b[1;37m                      ^\u001b[0m\n\u001b[1;31mSyntaxError\u001b[0m\u001b[1;31m:\u001b[0m Missing parentheses in call to 'print'\n"
     ]
    }
   ],
   "source": [
    "temps_farenheit = [45, 67, 89, 73, 45, 89, 113]\n",
    "\n",
    "# [farenheit_to_celcius(t) for t in temps_farenheit]\n",
    "\n",
    "temps_celcius = map(lambda t: (t-32.0)/(9.0/5.0), temps_farenheit)\n",
    "print temps_celcius\n",
    "\n",
    "# [t for t in temps_celcius if t > 31.0]\n",
    "\n",
    "f = lambda t: True if t > 31.0 else False\n",
    "\n",
    "vals = filter(f, temps_celcius)\n",
    "print vals\n",
    "\n"
   ]
  },
  {
   "cell_type": "code",
   "execution_count": null,
   "metadata": {
    "collapsed": false
   },
   "outputs": [],
   "source": [
    "cum_sum = reduce(lambda x, y: x + y, [5, 6, 7, 8, 9, 1])\n",
    "print cum_sum"
   ]
  },
  {
   "cell_type": "code",
   "execution_count": null,
   "metadata": {
    "collapsed": true
   },
   "outputs": [],
   "source": [
    "\n",
    "def fun():\n",
    "    g = 1.8\n",
    "    # closure, captures g value and takes it out-side of the scope\n",
    "    return lambda x: x*g\n",
    "\n",
    "f = fun()\n",
    "\n",
    "print f(10)"
   ]
  },
  {
   "cell_type": "markdown",
   "metadata": {},
   "source": [
    "### all()\n",
    "Instead using mutiple 'and' conditions we can use all() to check all\n",
    "values are non-None values."
   ]
  },
  {
   "cell_type": "code",
   "execution_count": null,
   "metadata": {
    "collapsed": false
   },
   "outputs": [],
   "source": [
    "l = [3, 4, 6, 5, 3, 9]\n",
    "\n",
    "if a == 3 and b==4 and c==6:\n",
    "    asdsdgdf\n",
    "\n",
    "a = 3\n",
    "b = 4\n",
    "c = 7\n",
    "\n",
    "l1 = []\n",
    "l1.append(a)\n",
    "\n",
    "l1 = [3,4,6]    \n",
    "    \n",
    "\n",
    "if all(l1):\n",
    "    print ('Valid data')\n",
    "else:\n",
    "    print ('Invalid data')"
   ]
  },
  {
   "cell_type": "code",
   "execution_count": null,
   "metadata": {
    "collapsed": false
   },
   "outputs": [],
   "source": [
    "l = [3, 4, 6, '', 3, 9]\n",
    "if all(l):\n",
    "    print ('Valid data')\n",
    "else:\n",
    "    print ('Invalid data')"
   ]
  },
  {
   "cell_type": "markdown",
   "metadata": {},
   "source": [
    "### any()\n",
    "Instead using mutiple 'or' conditions we can use any() to check\n",
    "atleast there is one non-None value."
   ]
  },
  {
   "cell_type": "code",
   "execution_count": null,
   "metadata": {
    "collapsed": false
   },
   "outputs": [],
   "source": [
    "l = [None, 0.0, 0, '', 2, False]\n",
    "if any(l):\n",
    "    print ('Valid data')\n",
    "else:\n",
    "    print ('Invalid data')"
   ]
  }
 ],
 "metadata": {
  "anaconda-cloud": {},
  "kernelspec": {
   "display_name": "Python 3",
   "language": "python",
   "name": "python3"
  },
  "language_info": {
   "codemirror_mode": {
    "name": "ipython",
    "version": 3
   },
   "file_extension": ".py",
   "mimetype": "text/x-python",
   "name": "python",
   "nbconvert_exporter": "python",
   "pygments_lexer": "ipython3",
   "version": "3.5.2"
  }
 },
 "nbformat": 4,
 "nbformat_minor": 1
}
