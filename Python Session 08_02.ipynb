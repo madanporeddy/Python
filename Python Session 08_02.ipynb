{
 "cells": [
  {
   "cell_type": "markdown",
   "metadata": {},
   "source": [
    "# Python Programming\n",
    "\n",
    "### Narendra Allam\n",
    "\n",
    "class 20, 21, 22, 23, 24, 25 and 26\n",
    "\n",
    "### Object Orientation\n"
   ]
  },
  {
   "cell_type": "markdown",
   "metadata": {
    "collapsed": true
   },
   "source": [
    "#### Abstraction:\n",
    "Hiding Complex details, providing simple interface.<br>\n",
    "Abstractions allow us to think of complex things in a simpler way.<br>\n",
    "e.g., a Car is an abstraction of details such as a Chassis, Motor, Wheels, etc.<br>\n",
    "\n",
    "#### Encapsulation:\n",
    "Encapsulation is how we decide the level of detail of the elements<br>\n",
    "comprising our abstractions. Good encapsulation applies<br>\n",
    "information hiding, to enforce limits of details.<br>\n",
    "\n",
    "##### Data hiding:\n",
    "> Limiting access to details of an implementation(Data or functions).\n",
    "\n",
    "##### Data binding:\n",
    "> Establishing a connection between data and the functions which depend and<br>\n",
    "makes use of that data is called Data binding.<br>\n",
    ">Note: In functional style of programming there is no relation between data <br>\n",
    "and functions, becoz funtions don't depend on data.<br>\n",
    "\n",
    "#### Inheritance:\n",
    "It is a technique of reusing code, by extending or modifying the existing code.<br>\n",
    "\n",
    "#### polymorphism:\n",
    "Single interface multiple functionalities.<br>\n",
    "(or)\n",
    "polymorphism is the ability of doing different things by using the same name.<br>\n",
    "(or)\n",
    "Plymorphism is conditional and contextual execution of a functionality."
   ]
  },
  {
   "cell_type": "markdown",
   "metadata": {
    "collapsed": true
   },
   "source": [
    "#### Class\n",
    "Class is a model of any real-world entity, process or an idea.<br>\n",
    "A class is an extensible program-code-template for creating objects,<br>\n",
    "providing initial values for state (member variables) and implementations<br>\n",
    "of behavior (member functions or methods)\n",
    "\n",
    "Syntax:\n",
    "```python\n",
    "class class_name(object):\n",
    "    definition\n",
    "    ----------\n",
    "    ----------\n",
    "```"
   ]
  },
  {
   "cell_type": "code",
   "execution_count": 24,
   "metadata": {
    "collapsed": true
   },
   "outputs": [],
   "source": [
    "class Employee(object):\n",
    "    def __init__(self):\n",
    "        self.num = 0\n",
    "        self.name = ''\n",
    "        self.salary = 0.0\n",
    "        \n",
    "    def getSalary(self):\n",
    "        return self.salary\n",
    "    \n",
    "    def getName(self):\n",
    "        return self.name\n",
    "    \n",
    "    def printEmployee(self):\n",
    "        print 'num=', self.num, ' name=', self.name, ' sal=', self.salary"
   ]
  },
  {
   "cell_type": "code",
   "execution_count": 14,
   "metadata": {
    "collapsed": true
   },
   "outputs": [],
   "source": [
    "e1 = Employee() # e1 = Employee.__new__().__init__()"
   ]
  },
  {
   "cell_type": "code",
   "execution_count": 6,
   "metadata": {
    "collapsed": true
   },
   "outputs": [],
   "source": [
    "e2 = Employee()\n",
    "# e1, e2 are objects or instances"
   ]
  },
  {
   "cell_type": "code",
   "execution_count": 7,
   "metadata": {
    "collapsed": false
   },
   "outputs": [
    {
     "name": "stdout",
     "output_type": "stream",
     "text": [
      "0  0.0\n"
     ]
    }
   ],
   "source": [
    "print e1.num, e1.name, e1.salary"
   ]
  },
  {
   "cell_type": "code",
   "execution_count": 22,
   "metadata": {
    "collapsed": false
   },
   "outputs": [
    {
     "name": "stdout",
     "output_type": "stream",
     "text": [
      "1234 John 23000\n"
     ]
    }
   ],
   "source": [
    "e1.num = 1234\n",
    "e1.name = 'John'\n",
    "e1.salary = 23000\n",
    "\n",
    "print e1.num, e1.name, e1.salary"
   ]
  },
  {
   "cell_type": "code",
   "execution_count": 23,
   "metadata": {
    "collapsed": false
   },
   "outputs": [
    {
     "name": "stdout",
     "output_type": "stream",
     "text": [
      "num= 1234  name= John  sal= 23000\n"
     ]
    }
   ],
   "source": [
    "e1.printEmployee()"
   ]
  },
  {
   "cell_type": "code",
   "execution_count": 20,
   "metadata": {
    "collapsed": false
   },
   "outputs": [
    {
     "data": {
      "text/plain": [
       "23000"
      ]
     },
     "execution_count": 20,
     "metadata": {},
     "output_type": "execute_result"
    }
   ],
   "source": [
    "e1.getSalary()"
   ]
  },
  {
   "cell_type": "code",
   "execution_count": 12,
   "metadata": {
    "collapsed": false
   },
   "outputs": [
    {
     "data": {
      "text/plain": [
       "(4365789456, 4365789840)"
      ]
     },
     "execution_count": 12,
     "metadata": {},
     "output_type": "execute_result"
    }
   ],
   "source": [
    "id(e1), id(e2)"
   ]
  },
  {
   "cell_type": "markdown",
   "metadata": {},
   "source": [
    "#### Writing an Employee class"
   ]
  },
  {
   "cell_type": "code",
   "execution_count": 25,
   "metadata": {
    "collapsed": false
   },
   "outputs": [
    {
     "name": "stdout",
     "output_type": "stream",
     "text": [
      "EmpId: 1234, EmpName: John, EmpSalary: 23600.0\n",
      "EmpId: 1235, EmpName: Samanta, EmpSalary: 45000.0\n"
     ]
    }
   ],
   "source": [
    "class Employee(object):\n",
    "    def __init__(self, _num=0, _name='', _salary=0.0):\n",
    "        self.num = _num\n",
    "        self.name = _name\n",
    "        self.salary = _salary\n",
    "        \n",
    "    def print_data(self):\n",
    "        print 'EmpId: {}, EmpName: {}, EmpSalary: {}'.format(self.num,\n",
    "                                                             self.name,\n",
    "                                                             self.salary)\n",
    "    def calculate_tax(self):\n",
    "        slab = (self.salary * 12) - 300000\n",
    "        tax = 0\n",
    "        if slab > 0:\n",
    "            tax = slab * 0.1\n",
    "        print \"tax for empid: {} is {}\".format(self.num, tax)\n",
    "        \n",
    "e1 = Employee(1234, 'John', 23600.0) # e1.__init__(1234, 'John', 23500)\n",
    "e2 = Employee(1235, 'Samanta', 45000.0) # e2.__init__(1235, 'Samanta', 45000.0)\n",
    "e1.print_data()\n",
    "e2.print_data()"
   ]
  },
  {
   "cell_type": "code",
   "execution_count": 26,
   "metadata": {
    "collapsed": false
   },
   "outputs": [
    {
     "name": "stdout",
     "output_type": "stream",
     "text": [
      "tax for empid: 1234 is 0\n"
     ]
    }
   ],
   "source": [
    "e1.calculate_tax()"
   ]
  },
  {
   "cell_type": "code",
   "execution_count": 27,
   "metadata": {
    "collapsed": false
   },
   "outputs": [
    {
     "name": "stdout",
     "output_type": "stream",
     "text": [
      "tax for empid: 1235 is 24000.0\n"
     ]
    }
   ],
   "source": [
    "e2.calculate_tax()"
   ]
  },
  {
   "cell_type": "markdown",
   "metadata": {},
   "source": [
    "#### Printing objects"
   ]
  },
  {
   "cell_type": "code",
   "execution_count": 28,
   "metadata": {
    "collapsed": false
   },
   "outputs": [
    {
     "name": "stdout",
     "output_type": "stream",
     "text": [
      "<__main__.Employee object at 0x10438aa10>\n"
     ]
    }
   ],
   "source": [
    "print e1"
   ]
  },
  {
   "cell_type": "code",
   "execution_count": 29,
   "metadata": {
    "collapsed": false
   },
   "outputs": [
    {
     "data": {
      "text/plain": [
       "<__main__.Employee at 0x10438aa10>"
      ]
     },
     "execution_count": 29,
     "metadata": {},
     "output_type": "execute_result"
    }
   ],
   "source": [
    "e1"
   ]
  },
  {
   "cell_type": "code",
   "execution_count": 33,
   "metadata": {
    "collapsed": false
   },
   "outputs": [],
   "source": [
    "class Employee(object):\n",
    "\n",
    "    def __init__(self, _num, _name, _salary):\n",
    "        self.empNum = _num\n",
    "        self.empName = _name\n",
    "        self.empSalary = _salary\n",
    "        \n",
    "    def printData(self):\n",
    "        print 'EmpId: {}, EmpName: {}, EmpSalary: {}'.format(self.empNum,\n",
    "                                                             self.empName,\n",
    "                                                             self.empSalary)\n",
    "    def calculateTax(self):\n",
    "        slab = (self.empSalary * 12) - 300000\n",
    "        tax = 0\n",
    "        if slab > 0:\n",
    "            tax = slab * 0.1\n",
    "        print \"tax for empid: {} is {}\".format(self.empNum, tax)\n",
    "       \n",
    "    def __str__(self):\n",
    "        return 'EmpId: {}, EmpName: {}, EmpSalary: {}'.format(self.empNum,\n",
    "                                                             self.empName,\n",
    "                                                        self.empSalary)\n",
    "\n",
    "        \n",
    "    def __repr__(self):\n",
    "        return \"Employee({}, '{}', {})\".format(self.empNum,\n",
    "                                               self.empName,\n",
    "                                             self.empSalary)\n",
    "e1 = Employee(1234, 'John', 23500.0)\n"
   ]
  },
  {
   "cell_type": "code",
   "execution_count": 31,
   "metadata": {
    "collapsed": false
   },
   "outputs": [
    {
     "name": "stdout",
     "output_type": "stream",
     "text": [
      "EmpId: 1234, EmpName: John, EmpSalary: 23500.0\n"
     ]
    }
   ],
   "source": [
    "print e1"
   ]
  },
  {
   "cell_type": "code",
   "execution_count": 34,
   "metadata": {
    "collapsed": false
   },
   "outputs": [
    {
     "data": {
      "text/plain": [
       "Employee(1234, 'John', 23500.0)"
      ]
     },
     "execution_count": 34,
     "metadata": {},
     "output_type": "execute_result"
    }
   ],
   "source": [
    "e1"
   ]
  },
  {
   "cell_type": "code",
   "execution_count": null,
   "metadata": {
    "collapsed": false
   },
   "outputs": [],
   "source": [
    "x = 20\n",
    "y = 40\n",
    "eval('x*y')"
   ]
  },
  {
   "cell_type": "code",
   "execution_count": null,
   "metadata": {
    "collapsed": false
   },
   "outputs": [],
   "source": [
    "obj = eval(\"Employee(1234, 'John', 23500.0)\")\n",
    "print obj"
   ]
  },
  {
   "cell_type": "markdown",
   "metadata": {},
   "source": [
    "<b>repr() :</b><br> \n",
    "* evaluatable string representation of an object (can \"eval()\" it, <br>\n",
    "meaning it is a string representation that evaluates to a Python object\n",
    "\n",
    "* With the return value of repr() it should be possible to recreate our object using eval()."
   ]
  },
  {
   "cell_type": "code",
   "execution_count": null,
   "metadata": {
    "collapsed": false
   },
   "outputs": [],
   "source": [
    "str(e1)"
   ]
  },
  {
   "cell_type": "code",
   "execution_count": null,
   "metadata": {
    "collapsed": false
   },
   "outputs": [],
   "source": [
    "repr(e1)"
   ]
  },
  {
   "cell_type": "code",
   "execution_count": null,
   "metadata": {
    "collapsed": false
   },
   "outputs": [],
   "source": [
    "obj = eval(\"Employee(1234, 'John', 23500.0)\")\n",
    "print obj"
   ]
  },
  {
   "cell_type": "code",
   "execution_count": null,
   "metadata": {
    "collapsed": true
   },
   "outputs": [],
   "source": [
    "class Employee(object):\n",
    "\n",
    "    def __init__(self, _num, _name, _salary):\n",
    "        self.empNum = _num\n",
    "        self.empName = _name\n",
    "        self.empSalary = _salary\n",
    "        \n",
    "    def printData(self):\n",
    "        print 'EmpId: {}, EmpName: {}, EmpSalary: {}'.format(self.empNum,\n",
    "                                                             self.empName,\n",
    "                                                             self.empSalary)\n",
    "    def calculateTax(self):\n",
    "        slab = (self.empSalary * 12) - 300000\n",
    "        tax = 0\n",
    "        if slab > 0:\n",
    "            tax = slab * 0.1\n",
    "        print \"tax for empid: {} is {}\".format(self.empNum, tax)\n",
    "       \n",
    "    def __str__(self):\n",
    "        return 'EmpId: {}, EmpName: {}, EmpSalary: {}'.format(self.empNum,\n",
    "                                                             self.empName,\n",
    "                                                        self.empSalary)\n",
    "\n",
    "    def __repr__(self):\n",
    "        return \"Employee({}, '{}', {})\".format(self.empNum,\n",
    "                                               self.empName,\n",
    "                                             self.empSalary)\n"
   ]
  },
  {
   "cell_type": "code",
   "execution_count": null,
   "metadata": {
    "collapsed": false
   },
   "outputs": [],
   "source": [
    "e1 = Employee(1234, 'John', 23500.0)"
   ]
  },
  {
   "cell_type": "code",
   "execution_count": null,
   "metadata": {
    "collapsed": false
   },
   "outputs": [],
   "source": [
    "e1"
   ]
  },
  {
   "cell_type": "code",
   "execution_count": null,
   "metadata": {
    "collapsed": false
   },
   "outputs": [],
   "source": [
    "temp = eval(repr(e1))\n",
    "id(temp), id(e1)"
   ]
  },
  {
   "cell_type": "code",
   "execution_count": null,
   "metadata": {
    "collapsed": false
   },
   "outputs": [],
   "source": [
    "print temp"
   ]
  },
  {
   "cell_type": "code",
   "execution_count": null,
   "metadata": {
    "collapsed": false
   },
   "outputs": [],
   "source": [
    "str(temp)"
   ]
  },
  {
   "cell_type": "markdown",
   "metadata": {},
   "source": [
    "#### Adding a property dynamically"
   ]
  },
  {
   "cell_type": "code",
   "execution_count": null,
   "metadata": {
    "collapsed": true
   },
   "outputs": [],
   "source": [
    "class Example(object):\n",
    "    def __init__(self):\n",
    "        self.x = 20\n",
    "        self.y = 30\n",
    "    def fun(self):\n",
    "        self.p = 100\n",
    "        \n",
    "e1 = Example()\n",
    "e2 = Example()"
   ]
  },
  {
   "cell_type": "code",
   "execution_count": null,
   "metadata": {
    "collapsed": true
   },
   "outputs": [],
   "source": [
    "e1.fun() # fun adds a poperty to e1"
   ]
  },
  {
   "cell_type": "code",
   "execution_count": null,
   "metadata": {
    "collapsed": true
   },
   "outputs": [],
   "source": [
    "e3 = Example()"
   ]
  },
  {
   "cell_type": "code",
   "execution_count": null,
   "metadata": {
    "collapsed": false
   },
   "outputs": [],
   "source": [
    "e3.p # p is not availble for e3, by this time only init is executed."
   ]
  },
  {
   "cell_type": "code",
   "execution_count": null,
   "metadata": {
    "collapsed": true
   },
   "outputs": [],
   "source": [
    "e3.p = 200"
   ]
  },
  {
   "cell_type": "code",
   "execution_count": null,
   "metadata": {
    "collapsed": false
   },
   "outputs": [],
   "source": [
    "e3.p"
   ]
  },
  {
   "cell_type": "markdown",
   "metadata": {
    "collapsed": true
   },
   "source": [
    "### 4 Wheeler"
   ]
  },
  {
   "cell_type": "code",
   "execution_count": null,
   "metadata": {
    "collapsed": false
   },
   "outputs": [],
   "source": [
    "class FourWheeler(object):\n",
    "    def __init__(self, _model, _clr, _size, _price, _ver, _yr):\n",
    "        self.engineModel = _model\n",
    "        self.color = _clr\n",
    "        self.wheelSize = _size\n",
    "        self.price = _price\n",
    "        self.version = _ver\n",
    "        self.year = _yr\n",
    "        \n",
    "    def __computeDiscount(self):\n",
    "        if self.engineModel == 'HW':\n",
    "            return self.price* 0.1\n",
    "        if self.engineModel == 'LW':\n",
    "            return self.price* 0.2\n",
    "        return 0.0\n",
    "        \n",
    "    def getOnRoadPrice(self):\n",
    "        if self.year == 2016:\n",
    "            tax = 12.0\n",
    "        elif self.year == 2017:\n",
    "            tax = 13.0\n",
    "        else:\n",
    "            tax = 10.0\n",
    "            \n",
    "        return  self.price * (1 + tax/100) - self.__computeDiscount()\n",
    "    \n",
    "fw1 = FourWheeler('HW', 'RED', 2.0, 100000, 1.6, 2016)\n",
    "fw1.getOnRoadPrice()"
   ]
  },
  {
   "cell_type": "markdown",
   "metadata": {},
   "source": [
    "## Inheritance\n",
    "\n",
    "Syntax:<br>\n",
    "```python\n",
    "class <class_name>(<base_Class1>, <base_Class2>, ...):\n",
    "    statements...\n",
    "    \n",
    "e.g,\n",
    "\n",
    "class Car(FourWheeler):\n",
    "    pass\n",
    "```\n"
   ]
  },
  {
   "cell_type": "code",
   "execution_count": null,
   "metadata": {
    "collapsed": false
   },
   "outputs": [],
   "source": [
    "class Car(FourWheeler):\n",
    "    pass"
   ]
  },
  {
   "cell_type": "code",
   "execution_count": null,
   "metadata": {
    "collapsed": false
   },
   "outputs": [],
   "source": [
    "cr = Car('HW', 'RED', 1.0, 110000, 2.0, 2016)\n",
    "cr.getOnRoadPrice()\n",
    "#id(cr.computeDiscount)"
   ]
  },
  {
   "cell_type": "code",
   "execution_count": null,
   "metadata": {
    "collapsed": false
   },
   "outputs": [],
   "source": [
    "class Car(FourWheeler):\n",
    "    def __init__(self, _model, _clr, _size, _price, _ver, _yr, _cmodel):\n",
    "        self.engineModel = _model\n",
    "        self.color = _clr\n",
    "        self.wheelSize = _size\n",
    "        self.price = _price\n",
    "        self.version = _ver\n",
    "        self.year = _yr\n",
    "        #--------------\n",
    "        self.carModel = _cmodel\n",
    "        \n",
    "    def __computeDiscount(self):\n",
    "        if self.carModel == 'hatchback':\n",
    "            return self.price* 0.1\n",
    "        if self.carModel == 'sedon':\n",
    "            return self.price* 0.15\n",
    "        if self.carModel == 'TUV':\n",
    "            return self.price* 0.12\n",
    "        if self.carModel == 'XUV':\n",
    "            return self.price* 0.11\n",
    "\n",
    "    \n",
    "cr = Car('LW', 'RED', 2.0, 1000000, 2.0, 2016, 'TUV')\n",
    "cr.getOnRoadPrice()"
   ]
  },
  {
   "cell_type": "markdown",
   "metadata": {},
   "source": [
    "#### delegating functionality to parent constructor, __init__"
   ]
  },
  {
   "cell_type": "code",
   "execution_count": null,
   "metadata": {
    "collapsed": false
   },
   "outputs": [],
   "source": [
    "class Car(FourWheeler):\n",
    "    def __init__(self, _model, _clr, _size, _price, _ver, _yr, _cmodel):\n",
    "        super(Car, self).__init__(_model,\n",
    "                                  _clr,\n",
    "                                  _size,\n",
    "                                  _price,\n",
    "                                  _ver,\n",
    "                                  _yr)\n",
    "        self.carModel = _cmodel\n",
    "        \n",
    "    def computeDiscount(self):\n",
    "        if self.carModel == 'hatchback':\n",
    "            return self.price* 0.1\n",
    "        if self.carModel == 'sedon':\n",
    "            return self.price* 0.1\n",
    "        if self.carModel == 'TUV':\n",
    "            return self.price* 0.1\n",
    "        if self.carModel == 'XUV':\n",
    "            return self.price* 0.1\n",
    "\n",
    "    def getCarType(self):\n",
    "        return self.carModel\n",
    "    \n",
    "\n",
    "fw = FourWheeler('HW', 'RED', 2.0, 2000000, 2.0, 2017)\n",
    "cr = Car('LW', 'RED', 2.0, 1000000, 2.0, 2016, 'TUV')\n",
    "\n",
    "print cr.getOnRoadPrice()\n",
    "print fw.getOnRoadPrice()\n",
    "\n",
    "print cr.getCarType()\n",
    "\n",
    "#print fw.getCarType()"
   ]
  },
  {
   "cell_type": "markdown",
   "metadata": {
    "collapsed": true
   },
   "source": [
    "### Types of Inheritance"
   ]
  },
  {
   "cell_type": "markdown",
   "metadata": {},
   "source": [
    "```\n",
    "    1. Single\n",
    "         A\n",
    "         |\n",
    "         B\n",
    "\n",
    "    2. Hierarchical\n",
    "         A\n",
    "        / \\\n",
    "       B   C\n",
    "\n",
    "    3. Multiple\n",
    "       A   B\n",
    "        \\ /\n",
    "         C\n",
    "\n",
    "    4. Multi-level\n",
    "        A\n",
    "        |\n",
    "        B\n",
    "        |\n",
    "        C\n",
    "\n",
    "    5. Hybrid\n",
    "\n",
    "        A      A    A   B \n",
    "       / \\     |     \\ /\n",
    "      B   C    B      C\n",
    "       \\ /    / \\     |\n",
    "        D    C   D    D\n",
    "       (a)    (b)    (c)\n",
    "```\n",
    "<b>Diamond problem:</b> <br> \n",
    "This is a welll known problem in multiple inheritance. When two classes are having an attribute <br>\n",
    "with same name, a conflict ariases when inheriting both of them in a multiple inheritance.<br>\n",
    "Python has a  technique to solve this issue, which is MRO(Method resolution Order).<br>\n",
    "Python considers attribute of the first class in the inheritance order.<br>\n",
    "\n",
    "In the below example class D is inheriting A, B and C classes, we can see a conflict for function 'f()'.<br>\n",
    "As per the MRO in python B's f() is considered for inheritance.<br>"
   ]
  },
  {
   "cell_type": "code",
   "execution_count": 2,
   "metadata": {
    "collapsed": false
   },
   "outputs": [
    {
     "name": "stdout",
     "output_type": "stream",
     "text": [
      "I'm B\n"
     ]
    }
   ],
   "source": [
    "class A(object):\n",
    "    def __init__(self):\n",
    "        self.x = 100\n",
    "        \n",
    "    def foo(self):\n",
    "        print \"I'm A\"\n",
    "\n",
    "class B(A):\n",
    "    def foo(self):\n",
    "        print \"I'm B\"\n",
    "\n",
    "class C(A):\n",
    "    def foo(self):\n",
    "        print \"I'm C\"\n",
    "\n",
    "class D(B, C):\n",
    "    def bar(self):\n",
    "        print \"Exclusive\"\n",
    "\n",
    "d = D()\n",
    "d.foo()"
   ]
  },
  {
   "cell_type": "markdown",
   "metadata": {},
   "source": [
    "## MRO"
   ]
  },
  {
   "cell_type": "markdown",
   "metadata": {},
   "source": [
    "#### Changing method resolution order using \\__bases__ attribute of the class.\n",
    "In the below code, in the last line, we can see class C's f() is called."
   ]
  },
  {
   "cell_type": "code",
   "execution_count": 5,
   "metadata": {
    "collapsed": false
   },
   "outputs": [
    {
     "name": "stdout",
     "output_type": "stream",
     "text": [
      "I'm B\n",
      "I'm C\n",
      "I'm B\n"
     ]
    }
   ],
   "source": [
    "class A(object):\n",
    "    def foo(self):\n",
    "        print \"I'm A\"\n",
    "\n",
    "class B(A):\n",
    "    def foo(self):\n",
    "        print \"I'm B\"\n",
    "\n",
    "class C(A):\n",
    "    def foo(self):\n",
    "        print \"I'm C\"\n",
    "\n",
    "class D(B, C):\n",
    "    def bar(self):\n",
    "        print \"I'm D\"\n",
    "\n",
    "def main():\n",
    "    d = D()\n",
    "    d.foo()\n",
    "    \n",
    "    D.__bases__ = (C, B)\n",
    "    \n",
    "    d.foo()\n",
    "\n",
    "    D.__bases__ = (B, C)\n",
    "    \n",
    "    d.foo()\n",
    "if __name__ == '__main__':\n",
    "    main()"
   ]
  },
  {
   "cell_type": "markdown",
   "metadata": {},
   "source": [
    "### Case: Java Interfaces"
   ]
  },
  {
   "cell_type": "markdown",
   "metadata": {},
   "source": [
    "#### What is Abstract class, when to use abstract class?\n",
    "    \"Abstract classes are classes that contain one or more abstract methods. \n",
    "    An abstract method is a method that is declared, but contains no implementation. \n",
    "    Abstract classes may not be instantiated, and require subclasses to provide \n",
    "    implementations for the abstract methods.\""
   ]
  },
  {
   "cell_type": "code",
   "execution_count": null,
   "metadata": {
    "collapsed": false
   },
   "outputs": [],
   "source": [
    "class Widget(object):\n",
    "    def display(self):\n",
    "        raise NotImplementedError()\n",
    "    \n",
    "class Button(Widget):\n",
    "    def display(self):\n",
    "        print \"I'm the button\"\n",
    "        \n",
    "class CheckBox(Widget):\n",
    "    def display(self):\n",
    "        print \"I'm the CheckBox\"\n",
    "        \n",
    "class RadioButton(Widget):\n",
    "    def display(self):\n",
    "        print \"I'm the RadioButton\"\n",
    "        \n",
    "class ComboBox(Widget):\n",
    "    pass\n",
    "\n",
    "def render_canvas(widgets = []):\n",
    "    # some code\n",
    "    for widge in widgets:\n",
    "        widge.display()\n",
    "    # some code\n",
    "\n",
    "w = [Button(), CheckBox(), ComboBox(), RadioButton()]\n",
    "\n",
    "render_canvas(w)"
   ]
  },
  {
   "cell_type": "code",
   "execution_count": null,
   "metadata": {
    "collapsed": false
   },
   "outputs": [],
   "source": [
    "class Base:\n",
    "    def foo(self):\n",
    "        pass\n",
    "\n",
    "    def bar(self):\n",
    "        pass\n",
    "    \n",
    "class Derived(Base):\n",
    "    def foo(self):\n",
    "        return 'foo() called'\n",
    "    \n",
    "b = Base() # we should not be able to create objects for abstract classes\n",
    "d = Derived()\n"
   ]
  },
  {
   "cell_type": "code",
   "execution_count": null,
   "metadata": {
    "collapsed": false
   },
   "outputs": [],
   "source": [
    "b.foo()"
   ]
  },
  {
   "cell_type": "code",
   "execution_count": null,
   "metadata": {
    "collapsed": false
   },
   "outputs": [],
   "source": [
    "d.foo()"
   ]
  },
  {
   "cell_type": "code",
   "execution_count": null,
   "metadata": {
    "collapsed": true
   },
   "outputs": [],
   "source": [
    "b.bar()"
   ]
  },
  {
   "cell_type": "code",
   "execution_count": null,
   "metadata": {
    "collapsed": true
   },
   "outputs": [],
   "source": [
    "d.bar()"
   ]
  },
  {
   "cell_type": "markdown",
   "metadata": {},
   "source": [
    "##### better implementation\n",
    "\n",
    "    To enforce that a derived class implements a number of methods from the base class\n",
    "    we can use NotImplementedError()"
   ]
  },
  {
   "cell_type": "code",
   "execution_count": null,
   "metadata": {
    "collapsed": true
   },
   "outputs": [],
   "source": [
    "class Base:\n",
    "    def foo(self):\n",
    "        raise NotImplementedError()\n",
    "\n",
    "    def bar(self):\n",
    "        raise NotImplementedError()\n",
    "\n",
    "class Derived(Base):\n",
    "    def foo(self):\n",
    "        return 'foo() called'"
   ]
  },
  {
   "cell_type": "code",
   "execution_count": null,
   "metadata": {
    "collapsed": false
   },
   "outputs": [],
   "source": [
    "d = Derived()\n",
    "d.bar()"
   ]
  },
  {
   "cell_type": "markdown",
   "metadata": {},
   "source": [
    "Above implementation is OK, but not perfect,becoz we are able to create object for abstract class;\n",
    "#### Using abc module"
   ]
  },
  {
   "cell_type": "code",
   "execution_count": null,
   "metadata": {
    "collapsed": false
   },
   "outputs": [],
   "source": [
    "from abc import ABCMeta, abstractmethod\n",
    "\n",
    "class Base(object):\n",
    "    __metaclass__ = ABCMeta\n",
    "    @abstractmethod\n",
    "    def foo(self):\n",
    "        pass\n",
    "\n",
    "    @abstractmethod\n",
    "    def bar(self):\n",
    "        pass\n",
    "    \n",
    "    def fun():\n",
    "        print \"have fun!\"\n",
    "        \n",
    "class Concrete(Base):\n",
    "    def foo(self):\n",
    "        print 'Concrete foo() called'\n",
    "        \n",
    "    def bar(self):\n",
    "        print 'Concrete bar() called'\n",
    "        \n",
    "\n",
    "c = Concrete()\n",
    "c.bar()"
   ]
  },
  {
   "cell_type": "markdown",
   "metadata": {},
   "source": [
    "#### Private Memebrs"
   ]
  },
  {
   "cell_type": "code",
   "execution_count": null,
   "metadata": {
    "collapsed": true
   },
   "outputs": [],
   "source": [
    "class A(object):\n",
    "    def __init__(self):\n",
    "        self.x = 222\n",
    "        self._y = 333\n",
    "        self.__z = 555\n",
    "        \n",
    "    def f1(self):\n",
    "        print \"I'm fun\"\n",
    "        \n",
    "    def _f2(self):\n",
    "        print \"I'm _fun, dont use me, you will be at risk\"\n",
    "        \n",
    "    def __f3(self):\n",
    "        print \"I'm __fun, you cannot use me\"\n",
    "  \n",
    "a1 = A()"
   ]
  },
  {
   "cell_type": "code",
   "execution_count": null,
   "metadata": {
    "collapsed": false
   },
   "outputs": [],
   "source": [
    "a1.x"
   ]
  },
  {
   "cell_type": "code",
   "execution_count": null,
   "metadata": {
    "collapsed": false
   },
   "outputs": [],
   "source": [
    "a1._y"
   ]
  },
  {
   "cell_type": "code",
   "execution_count": null,
   "metadata": {
    "collapsed": false
   },
   "outputs": [],
   "source": [
    "a1.__z"
   ]
  },
  {
   "cell_type": "code",
   "execution_count": null,
   "metadata": {
    "collapsed": false
   },
   "outputs": [],
   "source": [
    "a1.f1()"
   ]
  },
  {
   "cell_type": "code",
   "execution_count": null,
   "metadata": {
    "collapsed": false
   },
   "outputs": [],
   "source": [
    "a1._f2()"
   ]
  },
  {
   "cell_type": "code",
   "execution_count": null,
   "metadata": {
    "collapsed": false
   },
   "outputs": [],
   "source": [
    "a1.__f3()"
   ]
  },
  {
   "cell_type": "code",
   "execution_count": null,
   "metadata": {
    "collapsed": false
   },
   "outputs": [],
   "source": [
    "A.__dict__"
   ]
  },
  {
   "cell_type": "code",
   "execution_count": null,
   "metadata": {
    "collapsed": false
   },
   "outputs": [],
   "source": [
    "a1._A__f3()"
   ]
  },
  {
   "cell_type": "code",
   "execution_count": null,
   "metadata": {
    "collapsed": false
   },
   "outputs": [],
   "source": [
    "a1.__dict__"
   ]
  },
  {
   "cell_type": "code",
   "execution_count": null,
   "metadata": {
    "collapsed": false
   },
   "outputs": [],
   "source": [
    "a1._A__z"
   ]
  },
  {
   "cell_type": "markdown",
   "metadata": {},
   "source": [
    "#### Creating inline objects, classes, types\n",
    "Syntax:\n",
    "```python\n",
    "className = type('className', (bases,), {'propertyName' : 'propertyValue'})\n",
    "```"
   ]
  },
  {
   "cell_type": "code",
   "execution_count": null,
   "metadata": {
    "collapsed": false
   },
   "outputs": [],
   "source": [
    "def f(self, eid, name):\n",
    "    self.empId = eid\n",
    "    self.name = name\n",
    "    \n",
    "Employee = type('Employee', (object,), {'empId' : 1234, 'name': 'John', '__init__': lambda self: None})\n",
    "e = Employee()\n",
    "print e.empId, e.name"
   ]
  },
  {
   "cell_type": "markdown",
   "metadata": {},
   "source": [
    "#### Static Method"
   ]
  },
  {
   "cell_type": "code",
   "execution_count": null,
   "metadata": {
    "collapsed": true
   },
   "outputs": [],
   "source": [
    "\n",
    "class A(object):\n",
    "    \n",
    "    dbConn = None\n",
    "    \n",
    "    @staticmethod\n",
    "    def getDBConnection():\n",
    "        A.dbConn = \"Conected to MySQL\"\n",
    "        print \"db initiated\"\n",
    "        \n",
    "    def __init__(self, x, y, z):\n",
    "        self.x = x\n",
    "        self._y = y\n",
    "        self.__z = z\n",
    "        \n",
    "    def fun(self):\n",
    "        print \"I'm fun\"\n"
   ]
  },
  {
   "cell_type": "code",
   "execution_count": null,
   "metadata": {
    "collapsed": false
   },
   "outputs": [],
   "source": [
    "a1 = A(20, 30, 40)\n",
    "a2 = A(50, 60, 70)\n",
    "\n",
    "A.getDBConnection()\n",
    "\n",
    "print A.dbConn\n",
    "print a1.dbConn\n",
    "\n",
    "A.dbConn = 'Conncted to MongoDB'\n",
    "print a2.dbConn, a1.dbConn\n",
    "a2.dbConn = 'Connected to Oracle'\n",
    "print a2.dbConn, a1.dbConn\n",
    "print a2.__dict__\n",
    "print a1.__dict__"
   ]
  },
  {
   "cell_type": "markdown",
   "metadata": {},
   "source": [
    "##### class method : if we need to use class attributes"
   ]
  },
  {
   "cell_type": "code",
   "execution_count": 3,
   "metadata": {
    "collapsed": false
   },
   "outputs": [],
   "source": [
    "## class method\n",
    "\n",
    "class A(object):\n",
    "    # class/static varibles\n",
    "    logger = None\n",
    "    dbConn = None\n",
    "    phi = 3.14 \n",
    "    objectCount = 0\n",
    "    @classmethod\n",
    "    def getDBConnection(cls):\n",
    "        cls.dbConn = \"Conection to MySQL\"\n",
    "        print \"db initiated\"\n",
    "    \n",
    "    @staticmethod\n",
    "    def getLogger():\n",
    "        A.logger = \"logger created\"\n",
    "        print \"logger Initilized\"\n",
    "\n",
    "    def __init__(self, x, y , z):\n",
    "        self.x = x\n",
    "        self.y = y\n",
    "        self.z = z\n",
    "        A.objectCount += 1\n",
    "        \n",
    "    def fun(self):\n",
    "        print \"I'm fun\"\n",
    "        print A.logger\n"
   ]
  },
  {
   "cell_type": "code",
   "execution_count": 4,
   "metadata": {
    "collapsed": false
   },
   "outputs": [
    {
     "name": "stdout",
     "output_type": "stream",
     "text": [
      "db initiated\n",
      "logger Initilized\n"
     ]
    }
   ],
   "source": [
    "A.getDBConnection() # class method\n",
    "A.getLogger() # static method"
   ]
  },
  {
   "cell_type": "code",
   "execution_count": 5,
   "metadata": {
    "collapsed": false
   },
   "outputs": [
    {
     "data": {
      "text/plain": [
       "'Conection to MySQL'"
      ]
     },
     "execution_count": 5,
     "metadata": {},
     "output_type": "execute_result"
    }
   ],
   "source": [
    "A.dbConn # static variable"
   ]
  },
  {
   "cell_type": "code",
   "execution_count": 6,
   "metadata": {
    "collapsed": false
   },
   "outputs": [
    {
     "name": "stdout",
     "output_type": "stream",
     "text": [
      "db initiated\n",
      "logger Initilized\n",
      "I'm fun\n",
      "logger created\n"
     ]
    }
   ],
   "source": [
    "a = A(2, 3, 4)\n",
    "a.getDBConnection()\n",
    "a.getLogger()\n",
    "a.fun()"
   ]
  },
  {
   "cell_type": "markdown",
   "metadata": {
    "collapsed": true
   },
   "source": [
    "### Funcion Objects (Functor), Callable objects"
   ]
  },
  {
   "cell_type": "code",
   "execution_count": 7,
   "metadata": {
    "collapsed": true
   },
   "outputs": [],
   "source": [
    "class A(object):\n",
    "    def __init__(self):\n",
    "        self.x = 20"
   ]
  },
  {
   "cell_type": "code",
   "execution_count": 9,
   "metadata": {
    "collapsed": true
   },
   "outputs": [],
   "source": [
    "a = A()"
   ]
  },
  {
   "cell_type": "code",
   "execution_count": 10,
   "metadata": {
    "collapsed": false
   },
   "outputs": [
    {
     "ename": "TypeError",
     "evalue": "'A' object is not callable",
     "output_type": "error",
     "traceback": [
      "\u001b[0;31m---------------------------------------------------------------------------\u001b[0m",
      "\u001b[0;31mTypeError\u001b[0m                                 Traceback (most recent call last)",
      "\u001b[0;32m<ipython-input-10-72f2e37b262f>\u001b[0m in \u001b[0;36m<module>\u001b[0;34m()\u001b[0m\n\u001b[0;32m----> 1\u001b[0;31m \u001b[0ma\u001b[0m\u001b[0;34m(\u001b[0m\u001b[0;34m)\u001b[0m\u001b[0;34m\u001b[0m\u001b[0m\n\u001b[0m",
      "\u001b[0;31mTypeError\u001b[0m: 'A' object is not callable"
     ]
    }
   ],
   "source": [
    "a()"
   ]
  },
  {
   "cell_type": "code",
   "execution_count": 11,
   "metadata": {
    "collapsed": false
   },
   "outputs": [
    {
     "name": "stdout",
     "output_type": "stream",
     "text": [
      "4.42718872424\n"
     ]
    }
   ],
   "source": [
    "from math import sqrt\n",
    "\n",
    "def root(x):\n",
    "    return sqrt(x)\n",
    "\n",
    "def service(x, f):\n",
    "    g = 9.8\n",
    "    print f(x*g)\n",
    "    \n",
    "def fun():\n",
    "    y = 20\n",
    "    \n",
    "    service(y, root)\n",
    "    \n",
    "    print x**3\n",
    "    \n",
    "service(2, root)"
   ]
  },
  {
   "cell_type": "code",
   "execution_count": 12,
   "metadata": {
    "collapsed": false
   },
   "outputs": [
    {
     "name": "stdout",
     "output_type": "stream",
     "text": [
      "4.472135955\n"
     ]
    }
   ],
   "source": [
    "from math import sqrt\n",
    "\n",
    "class DoRoot(object):\n",
    "    def __init__(self, _x=0):\n",
    "        self.x = _x\n",
    "    def root(self):\n",
    "        print sqrt(self.x)\n",
    "\n",
    "def service(obj):\n",
    "    # some code here\n",
    "    obj.root()\n",
    "    # some code here\n",
    "    \n",
    "def fun():\n",
    "    obj = DoRoot(20)\n",
    "    service(obj)\n",
    "    print y**3\n",
    "    \n",
    "service(DoRoot(20))"
   ]
  },
  {
   "cell_type": "code",
   "execution_count": 15,
   "metadata": {
    "collapsed": false
   },
   "outputs": [
    {
     "data": {
      "text/plain": [
       "2.23606797749979"
      ]
     },
     "execution_count": 15,
     "metadata": {},
     "output_type": "execute_result"
    }
   ],
   "source": [
    "from math import sqrt\n",
    "class A(object):\n",
    "    \n",
    "    def __init__(self, _x):\n",
    "        self.x = _x\n",
    "        \n",
    "    def __call__(self):\n",
    "        return sqrt(self.x)\n",
    "    \n",
    "a = A(5)\n",
    "a() # a.__call__()"
   ]
  },
  {
   "cell_type": "code",
   "execution_count": 14,
   "metadata": {
    "collapsed": false
   },
   "outputs": [
    {
     "name": "stdout",
     "output_type": "stream",
     "text": [
      "4.472135955\n",
      "590490000000000\n",
      "-0.666938061652\n"
     ]
    }
   ],
   "source": [
    "from math import sqrt, cos\n",
    "\n",
    "class Root(object):\n",
    "    def __init__(self, _x=0):\n",
    "        self.x = _x\n",
    "    def __call__(self):\n",
    "        print sqrt(self.x)\n",
    "\n",
    "class Power(object):\n",
    "    def __init__(self, _x=0):\n",
    "        self.x = _x\n",
    "    def __call__(self):\n",
    "        print (self.x)**10\n",
    "\n",
    "class Cosine(object):\n",
    "    def __init__(self, _x=0):\n",
    "        self.x = _x\n",
    "    def __call__(self):\n",
    "        print cos(self.x)\n",
    "\n",
    "def service(obj):\n",
    "    obj()\n",
    "    \n",
    "\n",
    "obj1 = Root(20)\n",
    "obj2 = Power(30)\n",
    "obj3 = Cosine(40)\n",
    "\n",
    "service(obj1)\n",
    "service(obj2)\n",
    "service(obj3)\n",
    "\n"
   ]
  },
  {
   "cell_type": "markdown",
   "metadata": {},
   "source": [
    "### Decorator and Context manager"
   ]
  },
  {
   "cell_type": "code",
   "execution_count": null,
   "metadata": {
    "collapsed": false
   },
   "outputs": [],
   "source": [
    "import time\n",
    "def fun(n):\n",
    "    x = 0\n",
    "    for i in range(n):\n",
    "        x + = i*i\n",
    "    return x"
   ]
  },
  {
   "cell_type": "code",
   "execution_count": null,
   "metadata": {
    "collapsed": true
   },
   "outputs": [],
   "source": [
    "fun()"
   ]
  },
  {
   "cell_type": "code",
   "execution_count": 18,
   "metadata": {
    "collapsed": false
   },
   "outputs": [
    {
     "name": "stdout",
     "output_type": "stream",
     "text": [
      "time taken: 0.073291\n",
      "499999500005\n"
     ]
    }
   ],
   "source": [
    "import time\n",
    "class MyTimeit(object):\n",
    "\n",
    "    def __init__(self, f):\n",
    "        self.fun = f\n",
    "        self.start = time.clock()\n",
    "\n",
    "    def __call__(self, *args, **kwargs):\n",
    "        ret = self.fun(*args, **kwargs)\n",
    "        print 'time taken:', time.clock() - self.start\n",
    "        return ret\n",
    "\n",
    "if __name__ == '__main__':\n",
    "    \n",
    "    @MyTimeit\n",
    "    def fun(x, y):\n",
    "        z = x + y\n",
    "        for i in range(1000000):\n",
    "            z += i\n",
    "\n",
    "        return z\n",
    "\n",
    "\n",
    "    z = fun(2, 3)\n",
    "    print z\n",
    "    \n",
    "    "
   ]
  },
  {
   "cell_type": "code",
   "execution_count": null,
   "metadata": {
    "collapsed": false
   },
   "outputs": [],
   "source": [
    "timeit(fun)"
   ]
  },
  {
   "cell_type": "markdown",
   "metadata": {
    "collapsed": true
   },
   "source": [
    "### Polymorphism\n",
    "Single interface, multiple functionalities.<br>\n",
    "Polymorphism is, conditional and contextual executaion of a functionality."
   ]
  },
  {
   "cell_type": "code",
   "execution_count": null,
   "metadata": {
    "collapsed": false
   },
   "outputs": [],
   "source": [
    "class Animal(object):\n",
    "    def talk(self):\n",
    "        raise NotImplementedError(\"I donno how to talk!\")\n",
    "        \n",
    "class Dog(Animal):\n",
    "    def talk(self):\n",
    "        print 'Woof woof'\n",
    "        \n",
    "class Cat(Animal):\n",
    "    def talk(self):\n",
    "        print 'Meow Meow'\n",
    "        \n",
    "def greet_animal(x):\n",
    "    print \"Hi Animal!\"\n",
    "    x.talk()\n",
    "\n",
    "d = Dog()\n",
    "c = Cat()"
   ]
  },
  {
   "cell_type": "code",
   "execution_count": null,
   "metadata": {
    "collapsed": false
   },
   "outputs": [],
   "source": [
    "greet_animal(d)"
   ]
  },
  {
   "cell_type": "code",
   "execution_count": null,
   "metadata": {
    "collapsed": false
   },
   "outputs": [],
   "source": [
    "greet_animal(c)"
   ]
  },
  {
   "cell_type": "code",
   "execution_count": 1,
   "metadata": {
    "collapsed": false
   },
   "outputs": [
    {
     "name": "stdout",
     "output_type": "stream",
     "text": [
      "I'm the button\n",
      "I'm the CheckBox\n",
      "I'm the RadioButton\n"
     ]
    }
   ],
   "source": [
    "class Widget(object):\n",
    "    def display(self):\n",
    "        pass\n",
    "    \n",
    "class Button(Widget):\n",
    "    def display(self):\n",
    "        print \"I'm the button\"\n",
    "        \n",
    "class CheckBox(Widget):\n",
    "    def display(self):\n",
    "        print \"I'm the CheckBox\"\n",
    "        \n",
    "class RadioButton(Widget):\n",
    "    def display(self):\n",
    "        print \"I'm the RadioButton\"\n",
    "        \n",
    "\n",
    "def render_canvas(x):\n",
    "    # some code\n",
    "    x.display()\n",
    "    # some code\n",
    "\n",
    "b = Button()\n",
    "c = CheckBox()\n",
    "r = RadioButton()\n",
    "\n",
    "render_canvas(b)\n",
    "render_canvas(c)\n",
    "render_canvas(r)"
   ]
  },
  {
   "cell_type": "markdown",
   "metadata": {},
   "source": [
    "#### Function Overloading"
   ]
  },
  {
   "cell_type": "code",
   "execution_count": 4,
   "metadata": {
    "collapsed": false
   },
   "outputs": [
    {
     "name": "stdout",
     "output_type": "stream",
     "text": [
      "Apple\n"
     ]
    }
   ],
   "source": [
    "class Sample(object):\n",
    "    def fun(self):\n",
    "        print 'Apple'\n",
    "        \n",
    "    def fun(self, n):\n",
    "        print 'Apple'*n\n",
    "\n",
    "\n",
    "s = Sample()\n",
    "s.fun()"
   ]
  },
  {
   "cell_type": "code",
   "execution_count": null,
   "metadata": {
    "collapsed": true
   },
   "outputs": [],
   "source": [
    "class Sample(object):\n",
    "    def fun(self, n):\n",
    "        print 'Apple'*n\n",
    "    def fun(self):\n",
    "        print 'Apple'\n",
    "\n",
    "s = Sample()\n",
    "s.fun()"
   ]
  }
 ],
 "metadata": {
  "anaconda-cloud": {},
  "kernelspec": {
   "display_name": "Python 3",
   "language": "python",
   "name": "python3"
  },
  "language_info": {
   "codemirror_mode": {
    "name": "ipython",
    "version": 3
   },
   "file_extension": ".py",
   "mimetype": "text/x-python",
   "name": "python",
   "nbconvert_exporter": "python",
   "pygments_lexer": "ipython3",
   "version": "3.5.2"
  }
 },
 "nbformat": 4,
 "nbformat_minor": 1
}
