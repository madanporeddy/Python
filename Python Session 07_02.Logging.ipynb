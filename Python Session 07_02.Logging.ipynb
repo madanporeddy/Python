{
 "cells": [
  {
   "cell_type": "code",
   "execution_count": null,
   "metadata": {
    "collapsed": true
   },
   "outputs": [],
   "source": [
    "# Application\n",
    "# Irctc Appplication : 10am - 11am (Active) - mint in millions\n",
    "# Down 9:30 irctc is down. You are the programmer/admin\n",
    "# debugging -> NO .\n",
    "# logging is the answer."
   ]
  },
  {
   "cell_type": "markdown",
   "metadata": {},
   "source": [
    "https://docs.python.org/2.7/howto/logging.html\n",
    "https://docs.python.org/2/howto/logging-cookbook.html\n",
    "https://docs.python.org/2/library/logging.html"
   ]
  },
  {
   "cell_type": "markdown",
   "metadata": {},
   "source": [
    "Logging functions:\n",
    "\n",
    "*  logging.debug()   - Debug related messages\n",
    "*  logging.info()    - Generic messages\n",
    "*  logging.warning() - Alarm you about an impending issues.\n",
    "*  logging.error()   - A issue has occured but appliction is still running.\n",
    "ex: MegaRaid controller - 2 disk - one of my disk goes bad - Error.\n",
    "Vendor to replace my disk\n",
    "*  logging.critical() - Your application is gone down.\n",
    "ex : 2 disk also goes bad - "
   ]
  },
  {
   "cell_type": "markdown",
   "metadata": {},
   "source": [
    "Levels:\n",
    "* DEBUG\n",
    "* INFO\n",
    "* WARNING\n",
    "* ERROR\n",
    "* CRITICAL"
   ]
  },
  {
   "cell_type": "code",
   "execution_count": 1,
   "metadata": {
    "collapsed": false
   },
   "outputs": [
    {
     "name": "stdout",
     "output_type": "stream",
     "text": [
      "['BASIC_FORMAT', 'BufferingFormatter', 'CRITICAL', 'DEBUG', 'ERROR', 'FATAL', 'FileHandler', 'Filter', 'Filterer', 'Formatter', 'Handler', 'INFO', 'LogRecord', 'Logger', 'LoggerAdapter', 'Manager', 'NOTSET', 'NullHandler', 'PercentStyle', 'PlaceHolder', 'RootLogger', 'StrFormatStyle', 'StreamHandler', 'StringTemplateStyle', 'Template', 'WARN', 'WARNING', '_STYLES', '_StderrHandler', '__all__', '__author__', '__builtins__', '__cached__', '__date__', '__doc__', '__file__', '__loader__', '__name__', '__package__', '__path__', '__spec__', '__status__', '__version__', '_acquireLock', '_addHandlerRef', '_checkLevel', '_defaultFormatter', '_defaultLastResort', '_handlerList', '_handlers', '_levelToName', '_lock', '_logRecordFactory', '_loggerClass', '_nameToLevel', '_releaseLock', '_removeHandlerRef', '_showwarning', '_srcfile', '_startTime', '_warnings_showwarning', 'addLevelName', 'atexit', 'basicConfig', 'captureWarnings', 'collections', 'critical', 'currentframe', 'debug', 'disable', 'error', 'exception', 'fatal', 'getLevelName', 'getLogRecordFactory', 'getLogger', 'getLoggerClass', 'handlers', 'info', 'io', 'lastResort', 'log', 'logMultiprocessing', 'logProcesses', 'logThreads', 'makeLogRecord', 'os', 'raiseExceptions', 'root', 'setLogRecordFactory', 'setLoggerClass', 'shutdown', 'sys', 'threading', 'time', 'traceback', 'warn', 'warning', 'warnings', 'weakref']\n"
     ]
    }
   ],
   "source": [
    "import logging\n",
    "print (dir(logging))"
   ]
  },
  {
   "cell_type": "code",
   "execution_count": 2,
   "metadata": {
    "collapsed": false
   },
   "outputs": [],
   "source": [
    "# Example 1:\n",
    "# The default level is WARNING, which means that only events of this level and above will be tracked, unless the logging package is configured to do otherwise.\n",
    "# StreamHandler - File like objects ( populated on top on console - tty )\n",
    "\n",
    "import logging\n",
    "logging.debug(\"This is a debug message\")\n",
    "logging.info(\"This is an information message\")\n",
    "logging.warning(\"This is an warning message\")\n",
    "logging.error(\"This is an error message\")\n",
    "logging.critical(\"This is an critical message\")"
   ]
  },
  {
   "cell_type": "code",
   "execution_count": 3,
   "metadata": {
    "collapsed": false
   },
   "outputs": [
    {
     "name": "stdout",
     "output_type": "stream",
     "text": [
      "Help on function basicConfig in module logging:\n",
      "\n",
      "basicConfig(**kwargs)\n",
      "    Do basic configuration for the logging system.\n",
      "    \n",
      "    This function does nothing if the root logger already has handlers\n",
      "    configured. It is a convenience method intended for use by simple scripts\n",
      "    to do one-shot configuration of the logging package.\n",
      "    \n",
      "    The default behaviour is to create a StreamHandler which writes to\n",
      "    sys.stderr, set a formatter using the BASIC_FORMAT format string, and\n",
      "    add the handler to the root logger.\n",
      "    \n",
      "    A number of optional keyword arguments may be specified, which can alter\n",
      "    the default behaviour.\n",
      "    \n",
      "    filename  Specifies that a FileHandler be created, using the specified\n",
      "              filename, rather than a StreamHandler.\n",
      "    filemode  Specifies the mode to open the file, if filename is specified\n",
      "              (if filemode is unspecified, it defaults to 'a').\n",
      "    format    Use the specified format string for the handler.\n",
      "    datefmt   Use the specified date/time format.\n",
      "    style     If a format string is specified, use this to specify the\n",
      "              type of format string (possible values '%', '{', '$', for\n",
      "              %-formatting, :meth:`str.format` and :class:`string.Template`\n",
      "              - defaults to '%').\n",
      "    level     Set the root logger level to the specified level.\n",
      "    stream    Use the specified stream to initialize the StreamHandler. Note\n",
      "              that this argument is incompatible with 'filename' - if both\n",
      "              are present, 'stream' is ignored.\n",
      "    handlers  If specified, this should be an iterable of already created\n",
      "              handlers, which will be added to the root handler. Any handler\n",
      "              in the list which does not have a formatter assigned will be\n",
      "              assigned the formatter created in this function.\n",
      "    \n",
      "    Note that you could specify a stream created using open(filename, mode)\n",
      "    rather than passing the filename and mode in. However, it should be\n",
      "    remembered that StreamHandler does not close its stream (since it may be\n",
      "    using sys.stdout or sys.stderr), whereas FileHandler closes its stream\n",
      "    when the handler is closed.\n",
      "    \n",
      "    .. versionchanged:: 3.2\n",
      "       Added the ``style`` parameter.\n",
      "    \n",
      "    .. versionchanged:: 3.3\n",
      "       Added the ``handlers`` parameter. A ``ValueError`` is now thrown for\n",
      "       incompatible arguments (e.g. ``handlers`` specified together with\n",
      "       ``filename``/``filemode``, or ``filename``/``filemode`` specified\n",
      "       together with ``stream``, or ``handlers`` specified together with\n",
      "       ``stream``.\n",
      "\n",
      "None\n"
     ]
    }
   ],
   "source": [
    "print (help(logging.basicConfig))"
   ]
  },
  {
   "cell_type": "code",
   "execution_count": 1,
   "metadata": {
    "collapsed": false
   },
   "outputs": [],
   "source": [
    "# Example 2:\n",
    "# basicConfig\n",
    "# 02-example.py\n",
    "# filemode\n",
    "# r - read - read the file.\n",
    "# w - write - write into the file.\n",
    "    # * if file doesnt exits it get created.\n",
    "    # * if file exists it gets truncated to zero.\n",
    "# a - append - append to the file.\n",
    "    # * Add more contents to the file.\n",
    "\n",
    "# Please copy this code to editor and run it on terminal.\n",
    "# Ipython is not able to run it but the code below is for quick reference.\n",
    "    \n",
    "import logging\n",
    "logging.basicConfig(filename=\"example2.txt\",level=logging.DEBUG,filemode='a',format='%(asctime)s - %(levelname)s - %(name)s -  %(message)s',datefmt='%c')\n",
    "logging.debug(\"This is a debug message\")\n",
    "logging.info(\"This is an information message\")\n",
    "logging.warning(\"This is an warning message\")\n",
    "logging.error(\"This is an error message\")\n",
    "logging.critical(\"This is an critical message\")"
   ]
  },
  {
   "cell_type": "code",
   "execution_count": 6,
   "metadata": {
    "collapsed": false
   },
   "outputs": [
    {
     "name": "stdout",
     "output_type": "stream",
     "text": [
      "Help on class Formatter in module logging:\n",
      "\n",
      "class Formatter(__builtin__.object)\n",
      " |  Formatter instances are used to convert a LogRecord to text.\n",
      " |  \n",
      " |  Formatters need to know how a LogRecord is constructed. They are\n",
      " |  responsible for converting a LogRecord to (usually) a string which can\n",
      " |  be interpreted by either a human or an external system. The base Formatter\n",
      " |  allows a formatting string to be specified. If none is supplied, the\n",
      " |  default value of \"%s(message)\\n\" is used.\n",
      " |  \n",
      " |  The Formatter can be initialized with a format string which makes use of\n",
      " |  knowledge of the LogRecord attributes - e.g. the default value mentioned\n",
      " |  above makes use of the fact that the user's message and arguments are pre-\n",
      " |  formatted into a LogRecord's message attribute. Currently, the useful\n",
      " |  attributes in a LogRecord are described by:\n",
      " |  \n",
      " |  %(name)s            Name of the logger (logging channel)\n",
      " |  %(levelno)s         Numeric logging level for the message (DEBUG, INFO,\n",
      " |                      WARNING, ERROR, CRITICAL)\n",
      " |  %(levelname)s       Text logging level for the message (\"DEBUG\", \"INFO\",\n",
      " |                      \"WARNING\", \"ERROR\", \"CRITICAL\")\n",
      " |  %(pathname)s        Full pathname of the source file where the logging\n",
      " |                      call was issued (if available)\n",
      " |  %(filename)s        Filename portion of pathname\n",
      " |  %(module)s          Module (name portion of filename)\n",
      " |  %(lineno)d          Source line number where the logging call was issued\n",
      " |                      (if available)\n",
      " |  %(funcName)s        Function name\n",
      " |  %(created)f         Time when the LogRecord was created (time.time()\n",
      " |                      return value)\n",
      " |  %(asctime)s         Textual time when the LogRecord was created\n",
      " |  %(msecs)d           Millisecond portion of the creation time\n",
      " |  %(relativeCreated)d Time in milliseconds when the LogRecord was created,\n",
      " |                      relative to the time the logging module was loaded\n",
      " |                      (typically at application startup time)\n",
      " |  %(thread)d          Thread ID (if available)\n",
      " |  %(threadName)s      Thread name (if available)\n",
      " |  %(process)d         Process ID (if available)\n",
      " |  %(message)s         The result of record.getMessage(), computed just as\n",
      " |                      the record is emitted\n",
      " |  \n",
      " |  Methods defined here:\n",
      " |  \n",
      " |  __init__(self, fmt=None, datefmt=None)\n",
      " |      Initialize the formatter with specified format strings.\n",
      " |      \n",
      " |      Initialize the formatter either with the specified format string, or a\n",
      " |      default as described above. Allow for specialized date formatting with\n",
      " |      the optional datefmt argument (if omitted, you get the ISO8601 format).\n",
      " |  \n",
      " |  format(self, record)\n",
      " |      Format the specified record as text.\n",
      " |      \n",
      " |      The record's attribute dictionary is used as the operand to a\n",
      " |      string formatting operation which yields the returned string.\n",
      " |      Before formatting the dictionary, a couple of preparatory steps\n",
      " |      are carried out. The message attribute of the record is computed\n",
      " |      using LogRecord.getMessage(). If the formatting string uses the\n",
      " |      time (as determined by a call to usesTime(), formatTime() is\n",
      " |      called to format the event time. If there is exception information,\n",
      " |      it is formatted using formatException() and appended to the message.\n",
      " |  \n",
      " |  formatException(self, ei)\n",
      " |      Format and return the specified exception information as a string.\n",
      " |      \n",
      " |      This default implementation just uses\n",
      " |      traceback.print_exception()\n",
      " |  \n",
      " |  formatTime(self, record, datefmt=None)\n",
      " |      Return the creation time of the specified LogRecord as formatted text.\n",
      " |      \n",
      " |      This method should be called from format() by a formatter which\n",
      " |      wants to make use of a formatted time. This method can be overridden\n",
      " |      in formatters to provide for any specific requirement, but the\n",
      " |      basic behaviour is as follows: if datefmt (a string) is specified,\n",
      " |      it is used with time.strftime() to format the creation time of the\n",
      " |      record. Otherwise, the ISO8601 format is used. The resulting\n",
      " |      string is returned. This function uses a user-configurable function\n",
      " |      to convert the creation time to a tuple. By default, time.localtime()\n",
      " |      is used; to change this for a particular formatter instance, set the\n",
      " |      'converter' attribute to a function with the same signature as\n",
      " |      time.localtime() or time.gmtime(). To change it for all formatters,\n",
      " |      for example if you want all logging times to be shown in GMT,\n",
      " |      set the 'converter' attribute in the Formatter class.\n",
      " |  \n",
      " |  usesTime(self)\n",
      " |      Check if the format uses the creation time of the record.\n",
      " |  \n",
      " |  ----------------------------------------------------------------------\n",
      " |  Data descriptors defined here:\n",
      " |  \n",
      " |  __dict__\n",
      " |      dictionary for instance variables (if defined)\n",
      " |  \n",
      " |  __weakref__\n",
      " |      list of weak references to the object (if defined)\n",
      " |  \n",
      " |  ----------------------------------------------------------------------\n",
      " |  Data and other attributes defined here:\n",
      " |  \n",
      " |  converter = <built-in function localtime>\n",
      " |      localtime([seconds]) -> (tm_year,tm_mon,tm_mday,tm_hour,tm_min,\n",
      " |                                tm_sec,tm_wday,tm_yday,tm_isdst)\n",
      " |      \n",
      " |      Convert seconds since the Epoch to a time tuple expressing local time.\n",
      " |      When 'seconds' is not passed in, convert the current time instead.\n",
      "\n",
      "None\n"
     ]
    }
   ],
   "source": [
    "print (help(logging.Formatter))"
   ]
  }
 ],
 "metadata": {
  "kernelspec": {
   "display_name": "Python 3",
   "language": "python",
   "name": "python3"
  },
  "language_info": {
   "codemirror_mode": {
    "name": "ipython",
    "version": 3
   },
   "file_extension": ".py",
   "mimetype": "text/x-python",
   "name": "python",
   "nbconvert_exporter": "python",
   "pygments_lexer": "ipython3",
   "version": "3.5.2"
  }
 },
 "nbformat": 4,
 "nbformat_minor": 1
}
