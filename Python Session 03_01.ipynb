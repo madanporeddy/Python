{
 "cells": [
  {
   "cell_type": "markdown",
   "metadata": {},
   "source": [
    "#Aliases\n",
    "#how memory allocatment works in python."
   ]
  },
  {
   "cell_type": "code",
   "execution_count": 1,
   "metadata": {
    "collapsed": false
   },
   "outputs": [
    {
     "name": "stdout",
     "output_type": "stream",
     "text": [
      "2006122992\n",
      "2006122992\n",
      "2006122992\n",
      "2006123024\n",
      "2006122992\n",
      "1\n",
      "2\n"
     ]
    }
   ],
   "source": [
    "a = 1\n",
    "print (id(a))\n",
    "print (id(1))\n",
    "b = 1\n",
    "print (id(b))\n",
    "b = b + 1\n",
    "print (id(b))\n",
    "print (id(a))\n",
    "print (a)\n",
    "print (b)"
   ]
  },
  {
   "cell_type": "markdown",
   "metadata": {},
   "source": [
    "**Useful Article on Shallow Copy and Deep Copy with pictorial representation**\n",
    "+ \"http://www.python-course.eu/deep_copy.php\"  "
   ]
  },
  {
   "cell_type": "code",
   "execution_count": 12,
   "metadata": {
    "collapsed": false
   },
   "outputs": [
    {
     "name": "stdout",
     "output_type": "stream",
     "text": [
      "472903413000\n",
      "[1, 2, 3]\n",
      "[1, 2, 3]\n",
      "472903413000\n"
     ]
    }
   ],
   "source": [
    "# soft copy\n",
    "# Lists\n",
    "list_a = [1,2,3]\n",
    "print (id(list_a))\n",
    "list_b = list_a\n",
    "print (list_a)\n",
    "print (list_b)\n",
    "print (id(list_b))\n"
   ]
  },
  {
   "cell_type": "code",
   "execution_count": 13,
   "metadata": {
    "collapsed": false
   },
   "outputs": [
    {
     "name": "stdout",
     "output_type": "stream",
     "text": [
      "2\n",
      "[1, 'three', 3]\n",
      "[1, 'three', 3]\n"
     ]
    }
   ],
   "source": [
    "# modify one element\n",
    "print (list_a[1])\n",
    "list_b[1]=\"three\"\n",
    "print (list_a)\n",
    "print (list_b)\n",
    "# modify the whole list\n"
   ]
  },
  {
   "cell_type": "code",
   "execution_count": 6,
   "metadata": {
    "collapsed": false
   },
   "outputs": [
    {
     "name": "stdout",
     "output_type": "stream",
     "text": [
      "[1, 2, 3]\n",
      "[1, 'two', 3]\n"
     ]
    }
   ],
   "source": [
    "list_a = [1,2,3]\n",
    "print (list_a)\n",
    "print (list_b)"
   ]
  },
  {
   "cell_type": "code",
   "execution_count": 8,
   "metadata": {
    "collapsed": true
   },
   "outputs": [],
   "source": [
    "# deep copy\n",
    "import copy\n",
    "list_a = [1,2,3]\n",
    "# example 1 of deep copy\n",
    "list_b = list_a[:]\n",
    "# example 2 of deep copy\n",
    "list_c = copy.deepcopy(list_a)\n"
   ]
  },
  {
   "cell_type": "code",
   "execution_count": 9,
   "metadata": {
    "collapsed": false
   },
   "outputs": [
    {
     "name": "stdout",
     "output_type": "stream",
     "text": [
      "[1, 2, 3] 472901277256\n",
      "[1, 2, 3] 472885529736\n",
      "[1, 2, 3] 472885528328\n"
     ]
    }
   ],
   "source": [
    "print (list_b,id(list_b))\n",
    "print (list_a,id(list_a))\n",
    "print (list_c,id(list_c))\n"
   ]
  },
  {
   "cell_type": "code",
   "execution_count": 10,
   "metadata": {
    "collapsed": false
   },
   "outputs": [
    {
     "name": "stdout",
     "output_type": "stream",
     "text": [
      "[1, 2, 'three']\n",
      "[1, 2, 3]\n",
      "[1, 2, 3]\n"
     ]
    }
   ],
   "source": [
    "list_c[2]=\"three\"\n",
    "print (list_c)\n",
    "print (list_b)\n",
    "print (list_a)"
   ]
  },
  {
   "cell_type": "code",
   "execution_count": null,
   "metadata": {
    "collapsed": true
   },
   "outputs": [],
   "source": [
    "for    : \n",
    "    for : "
   ]
  },
  {
   "cell_type": "code",
   "execution_count": 2,
   "metadata": {
    "collapsed": false
   },
   "outputs": [
    {
     "name": "stdout",
     "output_type": "stream",
     "text": [
      "[1, 4, 9, 16, 25, 36, 49, 64, 81, 100]\n",
      "36\n"
     ]
    }
   ],
   "source": [
    "# List comprehensions - creating list on fly.\n",
    "my_square=[]\n",
    "for value in range(1,11):\n",
    "    my_square.append(value*value)\n",
    "print (my_square)\n",
    "for value in my_square:\n",
    "    if value % 2 == 0 and value % 3 == 0:\n",
    "        print (value)"
   ]
  },
  {
   "cell_type": "markdown",
   "metadata": {},
   "source": [
    "**Dictionary**\n",
    "\n",
    "+ One of the most important built-in data structure.\n",
    "+ Python's dictionaries are kind of hash tables.\n",
    "+ They work like associative arrays and consist of key-value pairs. \n",
    "+ A dictionary key can be almost any Python type, but are usually numbers or strings. \n",
    "+ Values, on the other hand, can be any arbitrary Python object.\n",
    "+ Dictionaries are enclosed by curly braces ( { } ) and values can be assigned and accessed using square braces ( [] ).\n"
   ]
  },
  {
   "cell_type": "code",
   "execution_count": 3,
   "metadata": {
    "collapsed": true
   },
   "outputs": [],
   "source": [
    "list1 = []\n",
    "\n",
    "dict1 = {}"
   ]
  },
  {
   "cell_type": "code",
   "execution_count": 4,
   "metadata": {
    "collapsed": false
   },
   "outputs": [
    {
     "data": {
      "text/plain": [
       "{2: 'This is two', 'one': 'This is one'}"
      ]
     },
     "execution_count": 4,
     "metadata": {},
     "output_type": "execute_result"
    }
   ],
   "source": [
    "dict = {}\n",
    "dict['one'] = \"This is one\"\n",
    "dict[2]     = \"This is two\"\n",
    "dict"
   ]
  },
  {
   "cell_type": "code",
   "execution_count": null,
   "metadata": {
    "collapsed": true
   },
   "outputs": [],
   "source": [
    "list2 = [1,2,3,4,9,0]"
   ]
  },
  {
   "cell_type": "code",
   "execution_count": 17,
   "metadata": {
    "collapsed": true
   },
   "outputs": [],
   "source": [
    "list1 = [1,2,3,[4,5,6,7]]"
   ]
  },
  {
   "cell_type": "code",
   "execution_count": 18,
   "metadata": {
    "collapsed": false
   },
   "outputs": [
    {
     "name": "stdout",
     "output_type": "stream",
     "text": [
      "[1, 2, 3, [4, 5, 6, 7]]\n"
     ]
    }
   ],
   "source": [
    "print(list1)"
   ]
  },
  {
   "cell_type": "code",
   "execution_count": 5,
   "metadata": {
    "collapsed": false
   },
   "outputs": [
    {
     "name": "stdout",
     "output_type": "stream",
     "text": [
      "This is one\n",
      "This is two\n",
      "{'dept': 'sales', 'code': 6734, 'name': 'xyz'}\n",
      "dict_keys(['dept', 'code', 'name'])\n",
      "dict_values(['sales', 6734, 'xyz'])\n"
     ]
    }
   ],
   "source": [
    "tinydict = {'name': 'xyz','code':6734, 'dept': 'sales'}\n",
    "\n",
    "print (dict['one'])      # Prints value for 'one' key\n",
    "print (dict[2])           # Prints value for 2 key\n",
    "print (tinydict)          # Prints complete dictionary\n",
    "print (tinydict.keys())   # Prints all the keys\n",
    "print (tinydict.values()) # Prints all the values"
   ]
  },
  {
   "cell_type": "code",
   "execution_count": 6,
   "metadata": {
    "collapsed": false
   },
   "outputs": [
    {
     "data": {
      "text/plain": [
       "'xyz'"
      ]
     },
     "execution_count": 6,
     "metadata": {},
     "output_type": "execute_result"
    }
   ],
   "source": [
    "tinydict['name']"
   ]
  },
  {
   "cell_type": "code",
   "execution_count": 7,
   "metadata": {
    "collapsed": false
   },
   "outputs": [
    {
     "name": "stdout",
     "output_type": "stream",
     "text": [
      "{'joe': 'dockers', 'dave': 'Rails', 'eric': 'python', 'asdf': 'puppet', 'xyz': 'ruby'}\n",
      "{'joe': 'dockers', 'asdf': 'puppet', 'eric': 'python', 'subba': 'scala', 'dave': 'Rails', 'xyz': 'ruby'}\n"
     ]
    }
   ],
   "source": [
    "# dictionary\n",
    "# [('eric','python'),('dave','django'),('joe','dockers'),('asdfg','puppet'),('xyz','ruby')]\n",
    "my_exams = {'eric':'python','dave':'django','joe':'dockers','asdf':'puppet','xyz':'ruby'}\n",
    "empty_dict1 = {}\n",
    "\n",
    "# keys are unique and cannot be duplicated.\n",
    "my_exams['dave']='Rails'\n",
    "print (my_exams)\n",
    "\n",
    "# Appending or adding a new key,value pair\n",
    "my_exams['subba'] = 'scala'\n",
    "print (my_exams)"
   ]
  },
  {
   "cell_type": "code",
   "execution_count": null,
   "metadata": {
    "collapsed": true
   },
   "outputs": [],
   "source": [
    "# cheat sheets\n",
    "# list : ['apple','banana'],[],list()\n",
    "# tuples: ('apple','banana'),(),tuple()\n",
    "# dict  : {'a':'apple','b':'banana'},{},dict()\n",
    "# sets : {}"
   ]
  },
  {
   "cell_type": "code",
   "execution_count": 21,
   "metadata": {
    "collapsed": false
   },
   "outputs": [
    {
     "name": "stdout",
     "output_type": "stream",
     "text": [
      "True\n",
      "False\n"
     ]
    }
   ],
   "source": [
    "# in operation : works only on keys.\n",
    "print ('joe' in my_exams)\n",
    "print ('scala' in my_exams)"
   ]
  },
  {
   "cell_type": "code",
   "execution_count": 8,
   "metadata": {
    "collapsed": false
   },
   "outputs": [
    {
     "name": "stdout",
     "output_type": "stream",
     "text": [
      "joe\n",
      "asdf\n",
      "eric\n",
      "subba\n",
      "dave\n",
      "xyz\n"
     ]
    }
   ],
   "source": [
    "# Looping\n",
    "for key in my_exams:\n",
    "    print (key)"
   ]
  },
  {
   "cell_type": "code",
   "execution_count": 23,
   "metadata": {
    "collapsed": false
   },
   "outputs": [
    {
     "name": "stdout",
     "output_type": "stream",
     "text": [
      "joe dockers\n",
      "subba scala\n",
      "asdf puppet\n",
      "xyz ruby\n",
      "dave Rails\n",
      "eric python\n"
     ]
    }
   ],
   "source": [
    "for key in my_exams:\n",
    "    print (key,my_exams[key])"
   ]
  },
  {
   "cell_type": "code",
   "execution_count": null,
   "metadata": {
    "collapsed": true
   },
   "outputs": [],
   "source": [
    "my_exams.clear"
   ]
  },
  {
   "cell_type": "code",
   "execution_count": 24,
   "metadata": {
    "collapsed": false
   },
   "outputs": [
    {
     "name": "stdout",
     "output_type": "stream",
     "text": [
      "['__class__', '__contains__', '__delattr__', '__delitem__', '__dir__', '__doc__', '__eq__', '__format__', '__ge__', '__getattribute__', '__getitem__', '__gt__', '__hash__', '__init__', '__iter__', '__le__', '__len__', '__lt__', '__ne__', '__new__', '__reduce__', '__reduce_ex__', '__repr__', '__setattr__', '__setitem__', '__sizeof__', '__str__', '__subclasshook__', 'clear', 'copy', 'fromkeys', 'get', 'items', 'keys', 'pop', 'popitem', 'setdefault', 'update', 'values']\n"
     ]
    }
   ],
   "source": [
    "# Functions\n",
    "print (dir(my_exams))"
   ]
  },
  {
   "cell_type": "code",
   "execution_count": null,
   "metadata": {
    "collapsed": true
   },
   "outputs": [],
   "source": [
    "# Assignment\n",
    "# fromkeys,setdefault,update"
   ]
  },
  {
   "cell_type": "code",
   "execution_count": 9,
   "metadata": {
    "collapsed": false
   },
   "outputs": [
    {
     "name": "stdout",
     "output_type": "stream",
     "text": [
      "Help on built-in function get:\n",
      "\n",
      "get(...) method of builtins.dict instance\n",
      "    D.get(k[,d]) -> D[k] if k in D, else d.  d defaults to None.\n",
      "\n",
      "None\n"
     ]
    }
   ],
   "source": [
    "# get\n",
    "print (help(my_exams.get))"
   ]
  },
  {
   "cell_type": "code",
   "execution_count": 10,
   "metadata": {
    "collapsed": true
   },
   "outputs": [],
   "source": [
    "my_exams.get?"
   ]
  },
  {
   "cell_type": "code",
   "execution_count": 12,
   "metadata": {
    "collapsed": false
   },
   "outputs": [
    {
     "data": {
      "text/plain": [
       "{'asdf': 'puppet',\n",
       " 'dave': 'Rails',\n",
       " 'eric': 'python',\n",
       " 'joe': 'dockers',\n",
       " 'subba': 'scala',\n",
       " 'xyz': 'ruby'}"
      ]
     },
     "execution_count": 12,
     "metadata": {},
     "output_type": "execute_result"
    }
   ],
   "source": [
    "my_exams"
   ]
  },
  {
   "cell_type": "code",
   "execution_count": 14,
   "metadata": {
    "collapsed": false
   },
   "outputs": [
    {
     "name": "stdout",
     "output_type": "stream",
     "text": [
      "Java\n"
     ]
    }
   ],
   "source": [
    "print (my_exams.get('Sai','Java'))\n",
    "#print (my_exams['Sai'])"
   ]
  },
  {
   "cell_type": "code",
   "execution_count": null,
   "metadata": {
    "collapsed": true
   },
   "outputs": [],
   "source": [
    "print (my_exams.get(''))\n",
    "print (my_exams['joe'])"
   ]
  },
  {
   "cell_type": "code",
   "execution_count": null,
   "metadata": {
    "collapsed": false
   },
   "outputs": [],
   "source": [
    "# has_key\n",
    "#print (help(my_exams.has_key))  --> present in 2.x but not available in 3.x    --> 3.5 \n",
    "my_exams.has_key?"
   ]
  },
  {
   "cell_type": "code",
   "execution_count": null,
   "metadata": {
    "collapsed": false
   },
   "outputs": [],
   "source": [
    "my_exams."
   ]
  },
  {
   "cell_type": "code",
   "execution_count": null,
   "metadata": {
    "collapsed": false
   },
   "outputs": [],
   "source": [
    "# As seen above 'in' is more pythonic way and it will full fill the same purpose as has_key\n",
    "'joe' in my_exams"
   ]
  },
  {
   "cell_type": "code",
   "execution_count": null,
   "metadata": {
    "collapsed": false
   },
   "outputs": [],
   "source": [
    "# keys\n",
    "print (help(my_exams.keys))\n",
    "#print (help(my_exams.iterkeys))      # removed in 3.x\n",
    "#print (help(my_exams.viewkeys))      # removed in 3.x"
   ]
  },
  {
   "cell_type": "code",
   "execution_count": null,
   "metadata": {
    "collapsed": false
   },
   "outputs": [],
   "source": [
    "print (my_exams.keys())"
   ]
  },
  {
   "cell_type": "code",
   "execution_count": null,
   "metadata": {
    "collapsed": false
   },
   "outputs": [],
   "source": [
    "# values\n",
    "print (help(my_exams.values))\n",
    "#print (help(my_exams.itervalues))      # removed in 3.x\n",
    "#print (help(my_exams.viewvalues))      # removed in 3.x"
   ]
  },
  {
   "cell_type": "code",
   "execution_count": null,
   "metadata": {
    "collapsed": false
   },
   "outputs": [],
   "source": [
    "print(my_exams.values())"
   ]
  },
  {
   "cell_type": "code",
   "execution_count": 26,
   "metadata": {
    "collapsed": false
   },
   "outputs": [
    {
     "name": "stdout",
     "output_type": "stream",
     "text": [
      "dict_items([('joe', 'dockers'), ('subba', 'scala'), ('asdf', 'puppet'), ('xyz', 'ruby'), ('dave', 'Rails'), ('eric', 'python')])\n"
     ]
    }
   ],
   "source": [
    "# item \n",
    "#print (help(my_exams.items))\n",
    "print (my_exams.items())     # list of tuples "
   ]
  },
  {
   "cell_type": "code",
   "execution_count": 15,
   "metadata": {
    "collapsed": false
   },
   "outputs": [
    {
     "name": "stdout",
     "output_type": "stream",
     "text": [
      "{'joe': 'dockers', 'asdf': 'puppet', 'eric': 'python', 'subba': 'scala', 'dave': 'Rails', 'xyz': 'ruby'}\n",
      "dockers\n"
     ]
    }
   ],
   "source": [
    "print (my_exams)\n",
    "print (my_exams.pop('joe'))\n"
   ]
  },
  {
   "cell_type": "code",
   "execution_count": 16,
   "metadata": {
    "collapsed": false
   },
   "outputs": [
    {
     "ename": "KeyError",
     "evalue": "'joe'",
     "output_type": "error",
     "traceback": [
      "\u001b[1;31m---------------------------------------------------------------------------\u001b[0m",
      "\u001b[1;31mKeyError\u001b[0m                                  Traceback (most recent call last)",
      "\u001b[1;32m<ipython-input-16-cd8a61a59807>\u001b[0m in \u001b[0;36m<module>\u001b[1;34m()\u001b[0m\n\u001b[1;32m----> 1\u001b[1;33m \u001b[0mprint\u001b[0m \u001b[1;33m(\u001b[0m\u001b[0mmy_exams\u001b[0m\u001b[1;33m.\u001b[0m\u001b[0mpop\u001b[0m\u001b[1;33m(\u001b[0m\u001b[1;34m'joe'\u001b[0m\u001b[1;33m)\u001b[0m\u001b[1;33m)\u001b[0m\u001b[1;33m\u001b[0m\u001b[0m\n\u001b[0m",
      "\u001b[1;31mKeyError\u001b[0m: 'joe'"
     ]
    }
   ],
   "source": [
    "print (my_exams.pop('joe'))"
   ]
  },
  {
   "cell_type": "code",
   "execution_count": 17,
   "metadata": {
    "collapsed": false
   },
   "outputs": [
    {
     "name": "stdout",
     "output_type": "stream",
     "text": [
      "False\n",
      "{'subba': 'scala', 'xyz': 'ruby', 'asdf': 'puppet', 'eric': 'python', 'dave': 'Rails'}\n",
      "{}\n"
     ]
    }
   ],
   "source": [
    "#Copy\n",
    "Dmy_exams = my_exams.copy()\n",
    "print (Dmy_exams is my_exams)\n",
    "print (Dmy_exams)\n",
    "Dmy_exams.clear()\n",
    "print (Dmy_exams)"
   ]
  },
  {
   "cell_type": "code",
   "execution_count": 18,
   "metadata": {
    "collapsed": false
   },
   "outputs": [
    {
     "name": "stdout",
     "output_type": "stream",
     "text": [
      "KMM 1255\n",
      "VZG 1235\n",
      "HYD 1234\n",
      "BZA 1246\n"
     ]
    }
   ],
   "source": [
    "d = {}\n",
    "d[\"HYD\"] = 1234\n",
    "d[\"VZG\"] = 1235\n",
    "d[\"BZA\"] = 1246\n",
    "d[\"KMM\"] = 1255\n",
    "for x in d:\n",
    "    print (x,d[x])"
   ]
  },
  {
   "cell_type": "code",
   "execution_count": 31,
   "metadata": {
    "collapsed": false
   },
   "outputs": [
    {
     "name": "stdout",
     "output_type": "stream",
     "text": [
      "HYD 1234\n",
      "BZA 1246\n",
      "KMM 1255\n",
      "VZG 1235\n"
     ]
    }
   ],
   "source": [
    "for key, value in d.items():\n",
    "    print (key, value)"
   ]
  },
  {
   "cell_type": "code",
   "execution_count": null,
   "metadata": {
    "collapsed": true
   },
   "outputs": [],
   "source": [
    "# list of dictionaries\n",
    "lt = [('BZA', 1246), ('GTR', 1233), ('ELR', 1244), ('HYD', 1234), ('VZG', 1235)]"
   ]
  },
  {
   "cell_type": "code",
   "execution_count": null,
   "metadata": {
    "collapsed": true
   },
   "outputs": [],
   "source": [
    "### lt[0]"
   ]
  },
  {
   "cell_type": "code",
   "execution_count": null,
   "metadata": {
    "collapsed": false
   },
   "outputs": [],
   "source": [
    "lt[1][1]"
   ]
  },
  {
   "cell_type": "code",
   "execution_count": null,
   "metadata": {
    "collapsed": false
   },
   "outputs": [],
   "source": [
    "key = 'HYD'\n",
    "for x in lt:\n",
    "    if x[0] == key:\n",
    "        print (x[1])\n",
    "        break\n",
    "else:\n",
    "    print ('{} not found!'.format(key))"
   ]
  },
  {
   "cell_type": "code",
   "execution_count": null,
   "metadata": {
    "collapsed": false
   },
   "outputs": [],
   "source": [
    "key = 'HYD'\n",
    "for city, code in lt:\n",
    "    if city == key:\n",
    "        print (\"code for {} is {}\".format(city, code))\n",
    "        break\n",
    "else:\n",
    "    print (\"code for {} not found\".format(key))"
   ]
  },
  {
   "cell_type": "code",
   "execution_count": null,
   "metadata": {
    "collapsed": false
   },
   "outputs": [],
   "source": [
    "d1 = {'Hyd': 1234, 'Mum': 1235}\n",
    "d2 = {'Blr': 1236, 'Delhi': 1237, 'Hyd':1999}\n",
    "d1.update(d2)\n",
    "print (d1)"
   ]
  },
  {
   "cell_type": "code",
   "execution_count": null,
   "metadata": {
    "collapsed": true
   },
   "outputs": [],
   "source": [
    "l1 = []\n",
    "\n",
    "d1 = {}"
   ]
  },
  {
   "cell_type": "markdown",
   "metadata": {},
   "source": [
    "### Default dictionary\n",
    " <b>Program1:</b> Find the indices of each word in the given list"
   ]
  },
  {
   "cell_type": "code",
   "execution_count": 32,
   "metadata": {
    "collapsed": false
   },
   "outputs": [
    {
     "data": {
      "text/plain": [
       "defaultdict(list,\n",
       "            {'Apple': [0, 4, 6, 8],\n",
       "             'Banana': [2, 5, 9],\n",
       "             'Orange': [1, 3],\n",
       "             'Peach': [7]})"
      ]
     },
     "execution_count": 32,
     "metadata": {},
     "output_type": "execute_result"
    }
   ],
   "source": [
    "from collections import defaultdict\n",
    "\n",
    "fruits = [\"Apple\", \"Orange\", \"Banana\", \"Orange\", \"Apple\", \"Banana\", \"Apple\",\n",
    "         \"Peach\", \"Apple\", \"Banana\"]\n",
    "\n",
    "fruit_count = defaultdict(list)\n",
    "\n",
    "for idx, fruit in enumerate(fruits):\n",
    "    fruit_count[fruit].append(idx)\n",
    "        \n",
    "fruit_count"
   ]
  },
  {
   "cell_type": "markdown",
   "metadata": {},
   "source": [
    "**Tuples**\n",
    "\n",
    "+ One of the most important built-in data structure.\n",
    "+ Tuples are immutable\n",
    "+ Tuples contain a heterogeneous sequence of elements that are accessed via unpacking \n",
    " \n",
    "+ tuples are enclosed by  braces ( () ) \n"
   ]
  },
  {
   "cell_type": "markdown",
   "metadata": {},
   "source": [
    "list1 = []   - Mutable / change the data \n",
    "Dict1 = {}   - Mutable / change the data \n",
    "tuple1 = ()  - Immutable/ not able to change the data \n",
    "\n",
    "Strings     - immutable/ not able to change the data "
   ]
  },
  {
   "cell_type": "code",
   "execution_count": 19,
   "metadata": {
    "collapsed": true
   },
   "outputs": [],
   "source": [
    "gender = ('male','female')\n",
    "my_empty1 = () # empty tuple.\n",
    "my_empty2 = tuple()"
   ]
  },
  {
   "cell_type": "code",
   "execution_count": 20,
   "metadata": {
    "collapsed": false
   },
   "outputs": [
    {
     "name": "stdout",
     "output_type": "stream",
     "text": [
      "<class 'str'>\n",
      "<class 'str'>\n",
      "<class 'tuple'>\n",
      "<class 'tuple'>\n"
     ]
    }
   ],
   "source": [
    "my_string = \"python\"\n",
    "print (type(my_string))\n",
    "my_string1 = (\"python\")       # what you can think of this?    is this tuple or string \n",
    "print (type(my_string1))\n",
    "my_string2 = (\"python\",)\n",
    "print (type(my_string2))\n",
    "my_string3 = 'python','django','mysql','linux'\n",
    "print (type(my_string3))"
   ]
  },
  {
   "cell_type": "code",
   "execution_count": 21,
   "metadata": {
    "collapsed": false
   },
   "outputs": [
    {
     "name": "stdout",
     "output_type": "stream",
     "text": [
      "('male', 'female')\n",
      "male\n"
     ]
    },
    {
     "ename": "TypeError",
     "evalue": "'tuple' object does not support item assignment",
     "output_type": "error",
     "traceback": [
      "\u001b[1;31m---------------------------------------------------------------------------\u001b[0m",
      "\u001b[1;31mTypeError\u001b[0m                                 Traceback (most recent call last)",
      "\u001b[1;32m<ipython-input-21-2997ac83de44>\u001b[0m in \u001b[0;36m<module>\u001b[1;34m()\u001b[0m\n\u001b[0;32m      2\u001b[0m \u001b[0mprint\u001b[0m \u001b[1;33m(\u001b[0m\u001b[0mgender\u001b[0m\u001b[1;33m)\u001b[0m\u001b[1;33m\u001b[0m\u001b[0m\n\u001b[0;32m      3\u001b[0m \u001b[0mprint\u001b[0m \u001b[1;33m(\u001b[0m\u001b[0mgender\u001b[0m\u001b[1;33m[\u001b[0m\u001b[1;36m0\u001b[0m\u001b[1;33m]\u001b[0m\u001b[1;33m)\u001b[0m\u001b[1;33m\u001b[0m\u001b[0m\n\u001b[1;32m----> 4\u001b[1;33m \u001b[0mgender\u001b[0m\u001b[1;33m[\u001b[0m\u001b[1;36m0\u001b[0m\u001b[1;33m]\u001b[0m \u001b[1;33m=\u001b[0m \u001b[1;34m'Male'\u001b[0m\u001b[1;33m\u001b[0m\u001b[0m\n\u001b[0m",
      "\u001b[1;31mTypeError\u001b[0m: 'tuple' object does not support item assignment"
     ]
    }
   ],
   "source": [
    "# tuple is immutable\n",
    "print (gender)\n",
    "print (gender[0])\n",
    "gender[0] = 'Male'"
   ]
  },
  {
   "cell_type": "code",
   "execution_count": 26,
   "metadata": {
    "collapsed": false
   },
   "outputs": [
    {
     "name": "stdout",
     "output_type": "stream",
     "text": [
      "apple\n",
      "banana\n",
      "cherry\n",
      "dates\n"
     ]
    }
   ],
   "source": [
    "# unpacking\n",
    "my_alp = ('apple','banana','cherry','dates')\n",
    "# put your values in a list or tuple - packing\n",
    "# a = my_alp[0]\n",
    "a,b,c,d = my_alp\n",
    "print (a)\n",
    "print (b)\n",
    "print (c)\n",
    "print (d)"
   ]
  },
  {
   "cell_type": "code",
   "execution_count": 28,
   "metadata": {
    "collapsed": false
   },
   "outputs": [
    {
     "ename": "IndexError",
     "evalue": "tuple index out of range",
     "output_type": "error",
     "traceback": [
      "\u001b[1;31m---------------------------------------------------------------------------\u001b[0m",
      "\u001b[1;31mIndexError\u001b[0m                                Traceback (most recent call last)",
      "\u001b[1;32m<ipython-input-28-b8e657de7636>\u001b[0m in \u001b[0;36m<module>\u001b[1;34m()\u001b[0m\n\u001b[0;32m      3\u001b[0m \u001b[0mc\u001b[0m \u001b[1;33m=\u001b[0m \u001b[0mmy_alp\u001b[0m\u001b[1;33m[\u001b[0m\u001b[1;36m2\u001b[0m\u001b[1;33m]\u001b[0m\u001b[1;33m\u001b[0m\u001b[0m\n\u001b[0;32m      4\u001b[0m \u001b[0md\u001b[0m \u001b[1;33m=\u001b[0m \u001b[0mmy_alp\u001b[0m\u001b[1;33m[\u001b[0m\u001b[1;36m3\u001b[0m\u001b[1;33m]\u001b[0m\u001b[1;33m\u001b[0m\u001b[0m\n\u001b[1;32m----> 5\u001b[1;33m \u001b[0me\u001b[0m \u001b[1;33m=\u001b[0m \u001b[0mmy_alp\u001b[0m\u001b[1;33m[\u001b[0m\u001b[1;36m4\u001b[0m\u001b[1;33m]\u001b[0m\u001b[1;33m\u001b[0m\u001b[0m\n\u001b[0m\u001b[0;32m      6\u001b[0m \u001b[0mprint\u001b[0m \u001b[1;33m(\u001b[0m\u001b[0ma\u001b[0m\u001b[1;33m)\u001b[0m\u001b[1;33m\u001b[0m\u001b[0m\n\u001b[0;32m      7\u001b[0m \u001b[0mprint\u001b[0m \u001b[1;33m(\u001b[0m\u001b[0mb\u001b[0m\u001b[1;33m)\u001b[0m\u001b[1;33m\u001b[0m\u001b[0m\n",
      "\u001b[1;31mIndexError\u001b[0m: tuple index out of range"
     ]
    }
   ],
   "source": [
    "a = my_alp[0]\n",
    "b = my_alp[1]\n",
    "c = my_alp[2]\n",
    "d = my_alp[3]\n",
    "e = my_alp[4]\n",
    "print (a)\n",
    "print (b)\n",
    "print (c)\n",
    "print (d)"
   ]
  },
  {
   "cell_type": "code",
   "execution_count": 38,
   "metadata": {
    "collapsed": false
   },
   "outputs": [
    {
     "data": {
      "text/plain": [
       "('banana', 'cherry')"
      ]
     },
     "execution_count": 38,
     "metadata": {},
     "output_type": "execute_result"
    }
   ],
   "source": [
    "my_alp[1:3]"
   ]
  },
  {
   "cell_type": "code",
   "execution_count": 15,
   "metadata": {
    "collapsed": false
   },
   "outputs": [
    {
     "ename": "ValueError",
     "evalue": "not enough values to unpack (expected 5, got 4)",
     "output_type": "error",
     "traceback": [
      "\u001b[1;31m---------------------------------------------------------------------------\u001b[0m",
      "\u001b[1;31mValueError\u001b[0m                                Traceback (most recent call last)",
      "\u001b[1;32m<ipython-input-15-0515d91d3117>\u001b[0m in \u001b[0;36m<module>\u001b[1;34m()\u001b[0m\n\u001b[0;32m      1\u001b[0m \u001b[0mmy_alp\u001b[0m \u001b[1;33m=\u001b[0m \u001b[1;33m(\u001b[0m\u001b[1;34m'apple'\u001b[0m\u001b[1;33m,\u001b[0m\u001b[1;34m'banana'\u001b[0m\u001b[1;33m,\u001b[0m\u001b[1;34m'cherry'\u001b[0m\u001b[1;33m,\u001b[0m\u001b[1;34m'dates'\u001b[0m\u001b[1;33m)\u001b[0m\u001b[1;33m\u001b[0m\u001b[0m\n\u001b[1;32m----> 2\u001b[1;33m \u001b[0ma\u001b[0m\u001b[1;33m,\u001b[0m\u001b[0mb\u001b[0m\u001b[1;33m,\u001b[0m\u001b[0mc\u001b[0m\u001b[1;33m,\u001b[0m\u001b[0md\u001b[0m\u001b[1;33m,\u001b[0m\u001b[0me\u001b[0m \u001b[1;33m=\u001b[0m \u001b[0mmy_alp\u001b[0m\u001b[1;33m\u001b[0m\u001b[0m\n\u001b[0m",
      "\u001b[1;31mValueError\u001b[0m: not enough values to unpack (expected 5, got 4)"
     ]
    }
   ],
   "source": [
    "my_alp = ('apple','banana','cherry','dates')\n",
    "a,b,c,d,e = my_alp"
   ]
  },
  {
   "cell_type": "code",
   "execution_count": 41,
   "metadata": {
    "collapsed": false
   },
   "outputs": [
    {
     "name": "stdout",
     "output_type": "stream",
     "text": [
      "['joe', 'eric', 'sam', 'vamsi', 'milind']\n",
      "sam is going to appear docker.\n"
     ]
    }
   ],
   "source": [
    "# Exam day\n",
    "students = ['joe','eric','sam','vamsi','milind']  # what does this represent\n",
    "#students.sort()\n",
    "print (students)\n",
    "subjects  = ['python','django','docker','puppet','ruby']\n",
    "\n",
    "name='sam'\n",
    "if name in students:\n",
    "    print (\"{} is going to appear {}.\".format(name,subjects[students.index(name)]))\n"
   ]
  },
  {
   "cell_type": "markdown",
   "metadata": {},
   "source": [
    "list of tuples -->  [(),(),()]"
   ]
  },
  {
   "cell_type": "code",
   "execution_count": 29,
   "metadata": {
    "collapsed": false
   },
   "outputs": [
    {
     "name": "stdout",
     "output_type": "stream",
     "text": [
      "python\n",
      "[('Joe', 'python'), ('eric', 'django'), ('milind', 'ruby'), ('sam', 'dockers'), ('vamsi', 'puppet')]\n"
     ]
    }
   ],
   "source": [
    "exams = [('joe','python'),('eric','django'),('sam','dockers'),('vamsi','puppet'),('milind','ruby')]   # list of tuples \n",
    "exams[0]=('Joe','python')\n",
    "print (exams[0][1]) # this cannot be modified as its a tuple element.\n",
    "# exams[0][1]=\"Java\"\n",
    "\n",
    "exams.sort()\n",
    "print (exams)"
   ]
  },
  {
   "cell_type": "code",
   "execution_count": 50,
   "metadata": {
    "collapsed": false
   },
   "outputs": [
    {
     "data": {
      "text/plain": [
       "[('Joe', 'python'), ('eric', 'django')]"
      ]
     },
     "execution_count": 50,
     "metadata": {},
     "output_type": "execute_result"
    }
   ],
   "source": [
    "exams[0:2]"
   ]
  },
  {
   "cell_type": "code",
   "execution_count": 51,
   "metadata": {
    "collapsed": false
   },
   "outputs": [
    {
     "name": "stdout",
     "output_type": "stream",
     "text": [
      "sam is going to give dockers.\n"
     ]
    }
   ],
   "source": [
    "exams = [('joe','python'),('eric','django'),('sam','dockers'),('vamsi','puppet'),('milind','ruby')]\n",
    "\n",
    "name=\"sam\"\n",
    "for student,exam in exams:\n",
    "    if student == name:\n",
    "        print (\"{} is going to give {}.\".format(student,exam))"
   ]
  },
  {
   "cell_type": "code",
   "execution_count": 52,
   "metadata": {
    "collapsed": false
   },
   "outputs": [
    {
     "name": "stdout",
     "output_type": "stream",
     "text": [
      "0\n",
      "1\n"
     ]
    }
   ],
   "source": [
    "# functions\n",
    "print (gender.index('male'))\n",
    "print (gender.count('male'))"
   ]
  },
  {
   "cell_type": "code",
   "execution_count": 53,
   "metadata": {
    "collapsed": false
   },
   "outputs": [
    {
     "name": "stdout",
     "output_type": "stream",
     "text": [
      "(['one', 'two'], ['three', 'four'], ['five', 'six'])\n"
     ]
    }
   ],
   "source": [
    "# tuples of list\n",
    "my_example = (['one','two'],['three','four'],['five','six'])\n",
    "print (my_example)"
   ]
  },
  {
   "cell_type": "code",
   "execution_count": null,
   "metadata": {
    "collapsed": true
   },
   "outputs": [],
   "source": [
    "my_example."
   ]
  },
  {
   "cell_type": "code",
   "execution_count": 22,
   "metadata": {
    "collapsed": false
   },
   "outputs": [
    {
     "data": {
      "text/plain": [
       "['__add__',\n",
       " '__class__',\n",
       " '__contains__',\n",
       " '__delattr__',\n",
       " '__dir__',\n",
       " '__doc__',\n",
       " '__eq__',\n",
       " '__format__',\n",
       " '__ge__',\n",
       " '__getattribute__',\n",
       " '__getitem__',\n",
       " '__getnewargs__',\n",
       " '__gt__',\n",
       " '__hash__',\n",
       " '__init__',\n",
       " '__iter__',\n",
       " '__le__',\n",
       " '__len__',\n",
       " '__lt__',\n",
       " '__mul__',\n",
       " '__ne__',\n",
       " '__new__',\n",
       " '__reduce__',\n",
       " '__reduce_ex__',\n",
       " '__repr__',\n",
       " '__rmul__',\n",
       " '__setattr__',\n",
       " '__sizeof__',\n",
       " '__str__',\n",
       " '__subclasshook__',\n",
       " 'count',\n",
       " 'index']"
      ]
     },
     "execution_count": 22,
     "metadata": {},
     "output_type": "execute_result"
    }
   ],
   "source": [
    "dir(gender)"
   ]
  },
  {
   "cell_type": "markdown",
   "metadata": {},
   "source": [
    "**Sets**\n",
    "+ A set is an unordered collection with no duplicate elements\n",
    "+ Set objects also support mathematical operations like union, intersection, difference, and symmetric difference.\n",
    "+ Basic uses include membership testing and eliminating duplicate entries. \n",
    "+ sets are enclosed by curly braces ( {} ) \n"
   ]
  },
  {
   "cell_type": "code",
   "execution_count": 30,
   "metadata": {
    "collapsed": false
   },
   "outputs": [
    {
     "name": "stdout",
     "output_type": "stream",
     "text": [
      "{'pear', 'orange', 'apple', 'banana'}\n"
     ]
    }
   ],
   "source": [
    "basket = {'apple', 'orange', 'apple', 'pear', 'orange', 'banana'}\n",
    "print(basket)                      # show that duplicates have been removed"
   ]
  },
  {
   "cell_type": "code",
   "execution_count": 24,
   "metadata": {
    "collapsed": false
   },
   "outputs": [
    {
     "data": {
      "text/plain": [
       "True"
      ]
     },
     "execution_count": 24,
     "metadata": {},
     "output_type": "execute_result"
    }
   ],
   "source": [
    "'orange' in basket                 # fast membership testing"
   ]
  },
  {
   "cell_type": "code",
   "execution_count": 31,
   "metadata": {
    "collapsed": true
   },
   "outputs": [],
   "source": [
    "basket2 = {'apple', 'straberry', 'lemon', 'pear', 'pineapple', 'banana'}"
   ]
  },
  {
   "cell_type": "code",
   "execution_count": 32,
   "metadata": {
    "collapsed": false
   },
   "outputs": [
    {
     "data": {
      "text/plain": [
       "{'orange'}"
      ]
     },
     "execution_count": 32,
     "metadata": {},
     "output_type": "execute_result"
    }
   ],
   "source": [
    "basket - basket2        ## elements in basket1 but not in basket2    A - B "
   ]
  },
  {
   "cell_type": "code",
   "execution_count": 33,
   "metadata": {
    "collapsed": false
   },
   "outputs": [
    {
     "data": {
      "text/plain": [
       "{'apple', 'banana', 'lemon', 'orange', 'pear', 'pineapple', 'straberry'}"
      ]
     },
     "execution_count": 33,
     "metadata": {},
     "output_type": "execute_result"
    }
   ],
   "source": [
    "basket | basket2       ## OR  Operation"
   ]
  },
  {
   "cell_type": "code",
   "execution_count": 34,
   "metadata": {
    "collapsed": false
   },
   "outputs": [
    {
     "data": {
      "text/plain": [
       "{'apple', 'banana', 'pear'}"
      ]
     },
     "execution_count": 34,
     "metadata": {},
     "output_type": "execute_result"
    }
   ],
   "source": [
    "basket & basket2       ## AND Operation"
   ]
  },
  {
   "cell_type": "code",
   "execution_count": 35,
   "metadata": {
    "collapsed": false
   },
   "outputs": [
    {
     "data": {
      "text/plain": [
       "{'lemon', 'orange', 'pineapple', 'straberry'}"
      ]
     },
     "execution_count": 35,
     "metadata": {},
     "output_type": "execute_result"
    }
   ],
   "source": [
    "basket ^ basket2    ## B-A operation"
   ]
  },
  {
   "cell_type": "code",
   "execution_count": 36,
   "metadata": {
    "collapsed": true
   },
   "outputs": [],
   "source": [
    "list1 = [1,2,2,3,3,4,5]"
   ]
  },
  {
   "cell_type": "code",
   "execution_count": 37,
   "metadata": {
    "collapsed": true
   },
   "outputs": [],
   "source": [
    "set1 = set(list1)"
   ]
  },
  {
   "cell_type": "code",
   "execution_count": 38,
   "metadata": {
    "collapsed": false
   },
   "outputs": [
    {
     "data": {
      "text/plain": [
       "{1, 2, 3, 4, 5}"
      ]
     },
     "execution_count": 38,
     "metadata": {},
     "output_type": "execute_result"
    }
   ],
   "source": [
    "set1"
   ]
  },
  {
   "cell_type": "code",
   "execution_count": 39,
   "metadata": {
    "collapsed": false
   },
   "outputs": [
    {
     "data": {
      "text/plain": [
       "[1, 2, 3, 4, 5]"
      ]
     },
     "execution_count": 39,
     "metadata": {},
     "output_type": "execute_result"
    }
   ],
   "source": [
    "list2 = list(set1)\n",
    "list2"
   ]
  },
  {
   "cell_type": "code",
   "execution_count": null,
   "metadata": {
    "collapsed": true
   },
   "outputs": [],
   "source": []
  },
  {
   "cell_type": "code",
   "execution_count": null,
   "metadata": {
    "collapsed": true
   },
   "outputs": [],
   "source": []
  }
 ],
 "metadata": {
  "kernelspec": {
   "display_name": "Python 3",
   "language": "python",
   "name": "python3"
  },
  "language_info": {
   "codemirror_mode": {
    "name": "ipython",
    "version": 3
   },
   "file_extension": ".py",
   "mimetype": "text/x-python",
   "name": "python",
   "nbconvert_exporter": "python",
   "pygments_lexer": "ipython3",
   "version": "3.5.2"
  }
 },
 "nbformat": 4,
 "nbformat_minor": 2
}
