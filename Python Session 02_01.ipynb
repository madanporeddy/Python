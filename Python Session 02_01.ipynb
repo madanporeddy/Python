{
 "cells": [
  {
   "cell_type": "markdown",
   "metadata": {},
   "source": [
    "# Conditional Stmts, Looping "
   ]
  },
  {
   "cell_type": "code",
   "execution_count": 1,
   "metadata": {
    "collapsed": false
   },
   "outputs": [
    {
     "name": "stdout",
     "output_type": "stream",
     "text": [
      "True\n",
      "False\n",
      "False\n",
      "<class 'bool'>\n",
      "<class 'bool'>\n"
     ]
    }
   ],
   "source": [
    "# conditions\n",
    "# Indendation - space and tabs.\n",
    "# https://www.python.org/dev/peps/pep-0008/#code-lay-out\n",
    "# youtube.com => pycon \n",
    "\n",
    "my_string = \"python\"\n",
    "my_string2 = \"Python\"\n",
    "\n",
    "print (5 > 2)\n",
    "print (2 > 5)\n",
    "print (my_string == my_string2)\n",
    "print (type(True))\n",
    "print (type(False))\n",
    "\n",
    "# Different Operations >, <, >=, <=, ==, !=, <>,  +=, -=,*= and etc \n",
    "#Arithmetic Operators   +, -, *, **(exp), %, //\n",
    "\n",
    "#Comparison (Relational) Operators\n",
    "\n",
    "#Assignment Operators     +=, -=,*=                 a += b =>   a = a+b , a -= b => a=a-b\n",
    "\n",
    "#Logical Operators\n",
    "\n",
    "#Bitwise Operators        &(and) , |(or), ^ (XOR), ~(complement), \n",
    "\n",
    "#Membership Operators      in/ not in \n",
    "\n",
    "#Identity Operators         is / is not"
   ]
  },
  {
   "cell_type": "markdown",
   "metadata": {},
   "source": [
    "Syntax:\n",
    "```python\n",
    "if condition:\n",
    "    statements\n",
    "```"
   ]
  },
  {
   "cell_type": "code",
   "execution_count": 3,
   "metadata": {
    "collapsed": false
   },
   "outputs": [
    {
     "name": "stdout",
     "output_type": "stream",
     "text": [
      "5 is greater than 2\n"
     ]
    }
   ],
   "source": [
    "if 5>2:\n",
    "    print('5 is greater than 2')\n",
    "else:\n",
    "    Print('else poart')"
   ]
  },
  {
   "cell_type": "code",
   "execution_count": 4,
   "metadata": {
    "collapsed": false
   },
   "outputs": [
    {
     "name": "stdout",
     "output_type": "stream",
     "text": [
      "5 is greater than 2\n",
      "abc\n"
     ]
    }
   ],
   "source": [
    "# if the condition is true go into the block\n",
    "if 5 > 2:\n",
    "    print (\"5 is greater than 2\")\n",
    "    if 4 > 2:\n",
    "        print('abc')"
   ]
  },
  {
   "cell_type": "markdown",
   "metadata": {},
   "source": [
    "#### Which are the following numbers [3, 7, 11] are factors for a given number\n",
    "Pupose of multiple if s"
   ]
  },
  {
   "cell_type": "code",
   "execution_count": 6,
   "metadata": {
    "collapsed": false
   },
   "outputs": [
    {
     "name": "stdout",
     "output_type": "stream",
     "text": [
      "Enter x:73\n"
     ]
    }
   ],
   "source": [
    "x = int(input(\"Enter x:\"))\n",
    "if x%3 == 0 :\n",
    "    print (\"3 is a factor\")\n",
    "\n",
    "if x%7 == 0 :\n",
    "    print (\"7 is a factor\")\n",
    "    \n",
    "if x%11 == 0 :\n",
    "    print (\"11 is a factor\")"
   ]
  },
  {
   "cell_type": "code",
   "execution_count": 7,
   "metadata": {
    "collapsed": false
   },
   "outputs": [
    {
     "name": "stdout",
     "output_type": "stream",
     "text": [
      "5 is greater than 2\n"
     ]
    }
   ],
   "source": [
    "if 2 > 5:\n",
    "    print (\"2 is greater than 5\")\n",
    "else:\n",
    "    print (\"5 is greater than 2\")\n",
    "\n"
   ]
  },
  {
   "cell_type": "code",
   "execution_count": null,
   "metadata": {
    "collapsed": true
   },
   "outputs": [],
   "source": [
    "# if .. elif .. else"
   ]
  },
  {
   "cell_type": "code",
   "execution_count": 8,
   "metadata": {
    "collapsed": false
   },
   "outputs": [
    {
     "name": "stdout",
     "output_type": "stream",
     "text": [
      "please enter the number1:4\n",
      "please enter the number2:7\n",
      "please enter the number3:2\n",
      "7 is greater than 4 and 2\n"
     ]
    }
   ],
   "source": [
    "# finding out the largest numbers\n",
    "# logical and operation\n",
    "num1 = input(\"please enter the number1:\")\n",
    "num2 = input(\"please enter the number2:\")\n",
    "num3 = input(\"please enter the number3:\")\n",
    "\n",
    "if num1 > num2 and num1 > num3:\n",
    "    print (\"{0} is greater than {1} and {2}\".format(num1,num2,num3))\n",
    "elif num2 > num1 and num2 > num3:\n",
    "    print (\"{1} is greater than {0} and {2}\".format(num1,num2,num3))\n",
    "elif num3 > num1 and num3 > num2:\n",
    "    print (\"{2} is greater than {1} and {0}\".format(num1,num2,num3))\n",
    "else:\n",
    "    print (\"{0} ,{1} and {2} are all equals\".format(num1,num2,num3))"
   ]
  },
  {
   "cell_type": "markdown",
   "metadata": {},
   "source": [
    "Program:\n",
    "* if the number is odd and multiple of 5 then cube it\n",
    "* if the given number is even then square it\n",
    "* if it is non-multiple of 5 then do power 10"
   ]
  },
  {
   "cell_type": "code",
   "execution_count": 10,
   "metadata": {
    "collapsed": false
   },
   "outputs": [
    {
     "name": "stdout",
     "output_type": "stream",
     "text": [
      "Enter x:3\n",
      "59049\n"
     ]
    }
   ],
   "source": [
    "x = int(input(\"Enter x:\"))\n",
    "if x%2 == 0:\n",
    "    print (x**2)\n",
    "    print('its here')\n",
    "else:\n",
    "    if x%5 == 0:\n",
    "        print (x**3)\n",
    "    else: # if non of the ifs are true, esle gets executed\n",
    "        print (x**10)"
   ]
  },
  {
   "cell_type": "markdown",
   "metadata": {},
   "source": [
    "### Looping statements\n",
    "When a single or block of statements is required to be executed, multiple times, use loops."
   ]
  },
  {
   "cell_type": "code",
   "execution_count": 11,
   "metadata": {
    "collapsed": false
   },
   "outputs": [
    {
     "name": "stdout",
     "output_type": "stream",
     "text": [
      "The count is: 1\n",
      "The count is: 2\n",
      "The count is: 3\n",
      "The count is: 4\n",
      "The count is: 5\n",
      "The count is: 6\n",
      "The count is: 7\n",
      "The count is: 8\n",
      "Out of loop!\n"
     ]
    }
   ],
   "source": [
    "# Looping\n",
    "# other lanaguage: for,foreach,while,do..while,while..do,until\n",
    "# python : for,while\n",
    "# for : Iterate over a sequence\n",
    "\n",
    "count = 1\n",
    "while (count < 9):\n",
    "   print ('The count is:', count)\n",
    "   count = count + 1\n",
    "\n",
    "print (\"Out of loop!\")"
   ]
  },
  {
   "cell_type": "code",
   "execution_count": 12,
   "metadata": {
    "collapsed": false
   },
   "outputs": [
    {
     "name": "stdout",
     "output_type": "stream",
     "text": [
      "2\n",
      "4\n",
      "6\n",
      "8\n",
      "10\n"
     ]
    }
   ],
   "source": [
    "# print even numbers from 1 to 10\n",
    "i = 1\n",
    "while i <= 10:\n",
    "    if i%2 == 0:\n",
    "        print (i)\n",
    "    i += 1\n",
    "    \n",
    "# Qn: print odd numbers from 1 to 10"
   ]
  },
  {
   "cell_type": "code",
   "execution_count": 21,
   "metadata": {
    "collapsed": false
   },
   "outputs": [
    {
     "name": "stdout",
     "output_type": "stream",
     "text": [
      "2\n",
      "4\n",
      "6\n",
      "8\n",
      "10\n"
     ]
    }
   ],
   "source": [
    "i = 2\n",
    "while i <= 10:\n",
    "    print (i)\n",
    "    i += 2    # i = i + 2    a += b ==> a = a + b ,  a -=b ==> a = a - b , "
   ]
  },
  {
   "cell_type": "code",
   "execution_count": null,
   "metadata": {
    "collapsed": false
   },
   "outputs": [],
   "source": [
    "# Count number of multiples of 3 below 100\n",
    "i = 1\n",
    "c = 0\n",
    "while i <= 100:\n",
    "    if i%3 == 0:\n",
    "        c += 1\n",
    "    i += 1\n",
    "print (\"Number of multiples of 3 below 100 : \", c)\n",
    "\n",
    "#qn: Sum of the multiples of 3 below 10"
   ]
  },
  {
   "cell_type": "code",
   "execution_count": null,
   "metadata": {
    "collapsed": false
   },
   "outputs": [],
   "source": [
    "# Multiples of n below 100\n",
    "n = int(input(\"Enter n value:\"))\n",
    "i = 1\n",
    "while i <= 100:\n",
    "    if i%n == 0:\n",
    "        print (i)\n",
    "    i+=1"
   ]
  },
  {
   "cell_type": "markdown",
   "metadata": {},
   "source": [
    "printing factors of a given number?"
   ]
  },
  {
   "cell_type": "code",
   "execution_count": 22,
   "metadata": {
    "collapsed": false
   },
   "outputs": [
    {
     "name": "stdout",
     "output_type": "stream",
     "text": [
      "0  is  less than 5\n",
      "1  is  less than 5\n",
      "2  is  less than 5\n",
      "3  is  less than 5\n",
      "4  is  less than 5\n",
      "5  is not less than 5\n"
     ]
    }
   ],
   "source": [
    "count = 0\n",
    "while count < 5:\n",
    "   print (count, \" is  less than 5\")\n",
    "   count = count + 1\n",
    "else:\n",
    "   print (count, \" is not less than 5\")"
   ]
  },
  {
   "cell_type": "code",
   "execution_count": null,
   "metadata": {
    "collapsed": false
   },
   "outputs": [],
   "source": [
    "# printing factors of a given number which are multiples of 3\n",
    "x = int(input(\"Enter x:\"))\n",
    "i = 1\n",
    "while i <= x:\n",
    "    if x%i ==0 and i%3 == 0:\n",
    "        print (i)\n",
    "    i+=1"
   ]
  },
  {
   "cell_type": "code",
   "execution_count": 23,
   "metadata": {
    "collapsed": true
   },
   "outputs": [],
   "source": [
    "# Infinite loops --> Be cautious about infinite loops\n",
    "\n",
    "#flag = 1\n",
    "\n",
    "#while (flag): \n",
    "#    print 'Given flag is really true!'"
   ]
  },
  {
   "cell_type": "code",
   "execution_count": 13,
   "metadata": {
    "collapsed": false
   },
   "outputs": [
    {
     "name": "stdout",
     "output_type": "stream",
     "text": [
      "p\n",
      "y\n",
      "t\n",
      "h\n",
      "o\n",
      "n\n"
     ]
    }
   ],
   "source": [
    "my_string=\"python\"\n",
    "\n",
    "for i in my_string:\n",
    "    print (i)"
   ]
  },
  {
   "cell_type": "code",
   "execution_count": 14,
   "metadata": {
    "collapsed": false
   },
   "outputs": [
    {
     "data": {
      "text/plain": [
       "6"
      ]
     },
     "execution_count": 14,
     "metadata": {},
     "output_type": "execute_result"
    }
   ],
   "source": [
    "len(my_string)"
   ]
  },
  {
   "cell_type": "code",
   "execution_count": 16,
   "metadata": {
    "collapsed": false
   },
   "outputs": [
    {
     "name": "stdout",
     "output_type": "stream",
     "text": [
      "p\n",
      "y\n",
      "t\n",
      "h\n"
     ]
    }
   ],
   "source": [
    "for i in range(4):\n",
    "    #print(i)\n",
    "    print(my_string[i])"
   ]
  },
  {
   "cell_type": "code",
   "execution_count": 17,
   "metadata": {
    "collapsed": false
   },
   "outputs": [
    {
     "name": "stdout",
     "output_type": "stream",
     "text": [
      "p\n",
      "y\n",
      "t\n",
      "h\n",
      "o\n",
      "n\n"
     ]
    }
   ],
   "source": [
    "for i in range(len(my_string)):\n",
    "    print(my_string[i])"
   ]
  },
  {
   "cell_type": "code",
   "execution_count": 18,
   "metadata": {
    "collapsed": false
   },
   "outputs": [
    {
     "data": {
      "text/plain": [
       "6"
      ]
     },
     "execution_count": 18,
     "metadata": {},
     "output_type": "execute_result"
    }
   ],
   "source": [
    "len(my_string)"
   ]
  },
  {
   "cell_type": "code",
   "execution_count": 19,
   "metadata": {
    "collapsed": false
   },
   "outputs": [
    {
     "name": "stdout",
     "output_type": "stream",
     "text": [
      "h\n",
      "o\n",
      "n\n"
     ]
    }
   ],
   "source": [
    "for i in range(3,len(my_string)):            # 3-start, len  --> end \n",
    "    print(my_string[i])"
   ]
  },
  {
   "cell_type": "code",
   "execution_count": 20,
   "metadata": {
    "collapsed": false
   },
   "outputs": [
    {
     "name": "stdout",
     "output_type": "stream",
     "text": [
      "Linux\n",
      "mysql\n",
      "python\n",
      "django\n"
     ]
    }
   ],
   "source": [
    "# Tuples/list of values\n",
    "for value in ['Linux','mysql','python','django']:\n",
    "    print (value)"
   ]
  },
  {
   "cell_type": "code",
   "execution_count": 21,
   "metadata": {
    "collapsed": false
   },
   "outputs": [
    {
     "name": "stdout",
     "output_type": "stream",
     "text": [
      "Linux\n",
      "mysql\n",
      "python\n",
      "django\n"
     ]
    }
   ],
   "source": [
    "abc = ['Linux','mysql','python','django']\n",
    "\n",
    "for value in abc:\n",
    "    print (value)"
   ]
  },
  {
   "cell_type": "markdown",
   "metadata": {},
   "source": [
    "#### Using range() function in for loops\n",
    "range() is a function which constructs and returns a list with the given range.<br>\n",
    "\n",
    "Syntax:\n",
    "```python\n",
    "range(start, end, step)\n",
    "```"
   ]
  },
  {
   "cell_type": "code",
   "execution_count": 22,
   "metadata": {
    "collapsed": false
   },
   "outputs": [
    {
     "name": "stdout",
     "output_type": "stream",
     "text": [
      "0\n",
      "1\n",
      "2\n",
      "3\n",
      "4\n",
      "5\n"
     ]
    }
   ],
   "source": [
    "for value in range(0,6):\n",
    "    print (value)"
   ]
  },
  {
   "cell_type": "code",
   "execution_count": null,
   "metadata": {
    "collapsed": true
   },
   "outputs": [],
   "source": [
    "for(i=0;i<=10;i+2)"
   ]
  },
  {
   "cell_type": "code",
   "execution_count": 23,
   "metadata": {
    "collapsed": false
   },
   "outputs": [
    {
     "name": "stdout",
     "output_type": "stream",
     "text": [
      "2\n",
      "4\n",
      "6\n",
      "8\n",
      "10\n"
     ]
    }
   ],
   "source": [
    "for value in range(2,11,2):                   # range(Starting pos, end position, step)\n",
    "    print (value)"
   ]
  },
  {
   "cell_type": "code",
   "execution_count": 33,
   "metadata": {
    "collapsed": false
   },
   "outputs": [
    {
     "name": "stdout",
     "output_type": "stream",
     "text": [
      "25\n"
     ]
    }
   ],
   "source": [
    "# sum of odd numbers below 10\n",
    "s = 0\n",
    "for x in range(1,11,2):\n",
    "    s += x    # s = s + x\n",
    "print (s)\n",
    "\n",
    "# Qn: Product?"
   ]
  },
  {
   "cell_type": "markdown",
   "metadata": {},
   "source": [
    "##### Break:\n",
    "break statement breaks the execution of while or for loops, control trnasfered to immediate next statement of the loop. Refer the above example."
   ]
  },
  {
   "cell_type": "code",
   "execution_count": 24,
   "metadata": {
    "collapsed": false
   },
   "outputs": [
    {
     "name": "stdout",
     "output_type": "stream",
     "text": [
      "report card for - eric\n",
      "report card for - joe\n",
      "I am out of loop\n"
     ]
    }
   ],
   "source": [
    "# Understanding the continue, break, pass\n",
    "# exam results\n",
    "for student in ['eric','joe','monika','kumar','rachel','shekar','panda']:\n",
    "    if student == 'monika':\n",
    "        #continue\n",
    "        break\n",
    "        #pass\n",
    "    print (\"report card for - {}\".format(student))\n",
    "    \n",
    "my_string = \"I am out of loop\"\n",
    "print(my_string)"
   ]
  },
  {
   "cell_type": "markdown",
   "metadata": {},
   "source": [
    "##### Continue:\n",
    "continue skips the execution to next iteration of the loop.\n"
   ]
  },
  {
   "cell_type": "code",
   "execution_count": 25,
   "metadata": {
    "collapsed": false
   },
   "outputs": [
    {
     "name": "stdout",
     "output_type": "stream",
     "text": [
      "report card for - eric\n",
      "report card for - joe\n",
      "report card for - kumar\n",
      "report card for - rachel\n",
      "report card for - shekar\n",
      "report card for - panda\n",
      "I am out of loop\n"
     ]
    }
   ],
   "source": [
    "# Understanding the continue, break, pass\n",
    "# exam results\n",
    "for student in ('eric','joe','monika','kumar','rachel','shekar','panda'):\n",
    "    if student == 'monika':\n",
    "        continue\n",
    "        #break\n",
    "        #pass\n",
    "    print (\"report card for - {}\".format(student))\n",
    "    \n",
    "my_string = \"I am out of loop\"\n",
    "print(my_string)"
   ]
  },
  {
   "cell_type": "code",
   "execution_count": 26,
   "metadata": {
    "collapsed": false
   },
   "outputs": [
    {
     "name": "stdout",
     "output_type": "stream",
     "text": [
      "report card for - eric\n",
      "report card for - joe\n",
      "report card for - monika\n",
      "report card for - kumar\n",
      "report card for - rachel\n",
      "report card for - shekar\n",
      "report card for - panda\n",
      "I am out of loop\n"
     ]
    }
   ],
   "source": [
    "# Understanding the continue, break, pass\n",
    "# exam results\n",
    "for student in ('eric','joe','monika','kumar','rachel','shekar','panda'):\n",
    "    if student == 'monika':\n",
    "        #continue\n",
    "        #break\n",
    "        pass\n",
    "    print (\"report card for - {}\".format(student))\n",
    "    \n",
    "my_string = \"I am out of loop\"\n",
    "print(my_string)"
   ]
  },
  {
   "cell_type": "markdown",
   "metadata": {},
   "source": [
    "##### for-else\n",
    "'else' block gets executed on the successfull completion of for loop"
   ]
  },
  {
   "cell_type": "code",
   "execution_count": null,
   "metadata": {
    "collapsed": false
   },
   "outputs": [],
   "source": [
    "from math import sqrt\n",
    "n = int(input(\"Enter Value:\"))\n",
    "for i in range(2,int(sqrt(n))+1):\n",
    "               if n%i == 0:\n",
    "                   print (\"Not Prime\")\n",
    "                   break\n",
    "else:\n",
    "    print (\"Prime\")"
   ]
  },
  {
   "cell_type": "code",
   "execution_count": 39,
   "metadata": {
    "collapsed": false
   },
   "outputs": [
    {
     "name": "stdout",
     "output_type": "stream",
     "text": [
      "Enter value to search for:8\n",
      "8 is present\n"
     ]
    }
   ],
   "source": [
    "# binary search\n",
    "l = [2, 3, 4, 5, 5, 6, 7, 8, 9, 11]\n",
    "key = int(input(\"Enter value to search for:\"))\n",
    "i = 0\n",
    "j = len(l)-1\n",
    "\n",
    "found = False\n",
    "\n",
    "#for i in range(i,j):\n",
    "while i < j:\n",
    "    mid = int((i + j)/2)\n",
    "    if l[mid] == key:\n",
    "        found = True\n",
    "        break\n",
    "    else:\n",
    "        if key > l[mid]:\n",
    "            i = mid + 1\n",
    "        else:\n",
    "            j = mid -1\n",
    "    \n",
    "if found:\n",
    "    print (\"{} is present\".format(key))\n",
    "else:\n",
    "    print (\"{} not found\".format(key))"
   ]
  },
  {
   "cell_type": "code",
   "execution_count": null,
   "metadata": {
    "collapsed": true
   },
   "outputs": [],
   "source": []
  }
 ],
 "metadata": {
  "kernelspec": {
   "display_name": "Python 3",
   "language": "python",
   "name": "python3"
  },
  "language_info": {
   "codemirror_mode": {
    "name": "ipython",
    "version": 3
   },
   "file_extension": ".py",
   "mimetype": "text/x-python",
   "name": "python",
   "nbconvert_exporter": "python",
   "pygments_lexer": "ipython3",
   "version": "3.5.2"
  }
 },
 "nbformat": 4,
 "nbformat_minor": 2
}
