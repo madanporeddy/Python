{
 "cells": [
  {
   "cell_type": "markdown",
   "metadata": {},
   "source": [
    "# Python Programming\n",
    "\n",
    "### Object Orientation"
   ]
  },
  {
   "cell_type": "markdown",
   "metadata": {},
   "source": [
    "#### Abstraction:\n",
    "Hiding Complex details, providing simple interface.<br>\n",
    "Abstractions allow us to think of complex things in a simpler way.<br>\n",
    "e.g., a Car is an abstraction of details such as a Chassis, Motor, Wheels, etc.<br>\n",
    "\n",
    "#### Encapsulation:\n",
    "Encapsulation is how we decide the level of detail of the elements<br>\n",
    "comprising our abstractions. Good encapsulation applies<br>\n",
    "information hiding, to enforce limits of details.<br>\n",
    "\n",
    "##### Data hiding:\n",
    "> Limiting access to details of an implementation(Data or functions).\n",
    "\n",
    "##### Data binding:\n",
    "> Establishing a connection between data and the functions which depend and<br>\n",
    "makes use of that data is called Data binding.<br>\n",
    ">Note: In functional style of programming there is no relation between data <br>\n",
    "and functions, becoz funtions don't depend on data.<br>\n",
    "\n",
    "#### Inheritance:\n",
    "It is a technique of reusing code, by extending or modifying the existing code.<br>\n",
    "\n",
    "#### polymorphism:\n",
    "Single interface multiple functionalities.<br>\n",
    "(or)\n",
    "polymorphism is the ability of doing different things by using the same name.<br>\n",
    "(or)\n",
    "Plymorphism is conditional and contextual execution of a functionality."
   ]
  },
  {
   "cell_type": "raw",
   "metadata": {},
   "source": [
    "# Object oriented programming vs Functional based programming\n",
    "\n",
    "# -- references --\n",
    "\n",
    "\n",
    "# A P I E\n",
    "# A -> Abstraction\n",
    "\n",
    "car -        blueprint/class\n",
    " -  color    variable/data     \n",
    " -  wheels\n",
    " -  model\n",
    " -  break()  function/methods\n",
    " -  accl()\n",
    " -  clutch()\n",
    " \n",
    "* volkswagen      Instances/class Objects\n",
    "* Range Rover\n",
    "* Volvo\n",
    "* BMW\n",
    "* Benz\n",
    "\n",
    "\n",
    "# P -> Polymorphism\n",
    "Poly -> many\n",
    "morphism -> forms\n",
    "\n",
    "1 + 1 => 2\n",
    "'a' + 'b' => ab\n",
    "'a' + 1 => error\n",
    "ex: Interest of bank.\n",
    "\n",
    "\n",
    "# I -> Inheritance\n",
    "upperclass - superclass\n",
    "lowerclass - subclass\n",
    "\n",
    "# E -> Encapsulation\n",
    "hiding,binding(data/function)"
   ]
  },
  {
   "cell_type": "code",
   "execution_count": null,
   "metadata": {
    "collapsed": false
   },
   "outputs": [],
   "source": [
    "# banking - Function\n",
    "balance = 0\n",
    "\n",
    "def deposit(amount):\n",
    "    global balance\n",
    "    balance = balance + amount\n",
    "    return balance\n",
    "\n",
    "def withdraw(amount):\n",
    "    global balance\n",
    "    balance = balance - amount\n",
    "    return balance\n",
    "\n",
    "# Eric\n",
    "deposit(1000)\n",
    "print (\"balance amount for Eric {}\".format(balance))\n",
    "withdraw(300)\n",
    "print (\"balance amount for Eric {}\".format(balance))"
   ]
  },
  {
   "cell_type": "code",
   "execution_count": null,
   "metadata": {
    "collapsed": false
   },
   "outputs": [],
   "source": [
    "# Eric\n",
    "print (\"balance amount for Eric {}\".format(balance))"
   ]
  },
  {
   "cell_type": "code",
   "execution_count": null,
   "metadata": {
    "collapsed": false
   },
   "outputs": [],
   "source": [
    "# banking - dictionary\n",
    "\n",
    "def account():\n",
    "    return {'balance':0}\n",
    "\n",
    "def deposit(user,amount):\n",
    "    user['balance'] = user['balance'] + amount\n",
    "    return user['balance']\n",
    "\n",
    "def withdraw(user,amount):\n",
    "    user['balance'] = user['balance'] - amount\n",
    "    return user['balance']\n",
    "# focus is on creating different instances \n",
    "# Eric\n",
    "eric = account()\n",
    "print (eric)\n",
    "rachel = account()\n",
    "print (rachel)"
   ]
  },
  {
   "cell_type": "code",
   "execution_count": null,
   "metadata": {
    "collapsed": false
   },
   "outputs": [],
   "source": [
    "# eric\n",
    "deposit(eric,1000)\n",
    "print (\"balance of eric is {}\".format(eric['balance']))\n",
    "deposit(rachel,2000)\n",
    "print (\"balance of rachel is {}\".format(rachel['balance']))"
   ]
  },
  {
   "cell_type": "markdown",
   "metadata": {},
   "source": [
    "Just keep the knowledge of functions in back of your mind, while going throguh the class we will come across similar example."
   ]
  },
  {
   "cell_type": "markdown",
   "metadata": {},
   "source": [
    "#### Class\n",
    "Class is a model of any real-world entity, process or an idea.<br>\n",
    "A class is an extensible program-code-template for creating objects,<br>\n",
    "providing initial values for state (member variables) and implementations<br>\n",
    "of behavior (member functions or methods)\n",
    "\n",
    "Syntax:\n",
    "```python\n",
    "class class_name(object):\n",
    "    definition\n",
    "    ----------\n",
    "    ----------\n",
    "```"
   ]
  },
  {
   "cell_type": "markdown",
   "metadata": {},
   "source": [
    "+ Class definitions, like function definitions (def statements) must be executed before they have any effect. (You could conceivably place a class definition in a branch of an if statement, or inside a function.)\n",
    "\n",
    "+ In practice, the statements inside a class definition will usually be function definitions, but other statements are allowed\n",
    "\n",
    "+ Class objects support two kinds of operations: attribute references and instantiation\n",
    "\n",
    "+ instance objects\n",
    "  "
   ]
  },
  {
   "cell_type": "code",
   "execution_count": null,
   "metadata": {
    "collapsed": true
   },
   "outputs": [],
   "source": [
    "class Employee(object):\n",
    "    def __init__(self):\n",
    "        self.num = 0\n",
    "        self.name = ''\n",
    "        self.salary = 0.0\n",
    "        \n",
    "    def getSalary(self):\n",
    "        return self.salary\n",
    "    \n",
    "    def getName(self):\n",
    "        return self.name\n",
    "    \n",
    "    def printEmployee(self):\n",
    "        print ('num=', self.num, ' name=', self.name, ' sal=', self.salary)"
   ]
  },
  {
   "cell_type": "markdown",
   "metadata": {},
   "source": [
    "Creating Instance Objects:"
   ]
  },
  {
   "cell_type": "code",
   "execution_count": null,
   "metadata": {
    "collapsed": true
   },
   "outputs": [],
   "source": [
    "e1 = Employee() # e1 = Employee.__new__().__init__()\n",
    "e2 = Employee()\n",
    "# e1, e2 are objects or instances"
   ]
  },
  {
   "cell_type": "code",
   "execution_count": null,
   "metadata": {
    "collapsed": false
   },
   "outputs": [],
   "source": [
    "print (e1.num, e1.name, e1.salary)"
   ]
  },
  {
   "cell_type": "code",
   "execution_count": null,
   "metadata": {
    "collapsed": false
   },
   "outputs": [],
   "source": [
    "e1.num = 1234\n",
    "e1.name = 'John'\n",
    "e1.salary = 23000\n",
    "\n",
    "print (e1.num, e1.name, e1.salary)"
   ]
  },
  {
   "cell_type": "markdown",
   "metadata": {},
   "source": [
    "Accessing Attributes:-"
   ]
  },
  {
   "cell_type": "code",
   "execution_count": null,
   "metadata": {
    "collapsed": false
   },
   "outputs": [],
   "source": [
    "e1.printEmployee()"
   ]
  },
  {
   "cell_type": "code",
   "execution_count": null,
   "metadata": {
    "collapsed": false
   },
   "outputs": [],
   "source": [
    "e1.getSalary()"
   ]
  },
  {
   "cell_type": "code",
   "execution_count": null,
   "metadata": {
    "collapsed": false
   },
   "outputs": [],
   "source": [
    "id(e1), id(e2)"
   ]
  },
  {
   "cell_type": "markdown",
   "metadata": {},
   "source": [
    "The first method __init__() is a special method, which is called class constructor or initialization\n",
    "method that Python calls when you create a new instance of this class. \n",
    "You declare other class methods like normal functions with the exception that the first argument to \n",
    "each method is self.\n"
   ]
  },
  {
   "cell_type": "markdown",
   "metadata": {},
   "source": [
    "Link - https://stackoverflow.com/questions/8609153/why-do-we-use-init-in-python-classes"
   ]
  },
  {
   "cell_type": "markdown",
   "metadata": {},
   "source": [
    "Question in above link : \n",
    "the idea behind classes(creates basically a function that you can modify for different environments..like a car class that you can change the color depending on your needs). I'm having trouble understanding the Initialization of the classes. What's the point of them and how do we know what to include in them? Does writing in classes require a different type of thinking versus creating functions(I figured I could just create functions and then just wrap them in a class so I can re-use them..will that work)?"
   ]
  },
  {
   "cell_type": "markdown",
   "metadata": {},
   "source": [
    "One of the answer:                        \n",
    "the difference between a class and an object.                        \n",
    "__init__ doesn't initialize a class, it initializes an instance of a class or an object.               \n",
    "\n",
    "Each dog has colour, but dogs as a class don't.                  \n",
    "Each dog has four or fewer feet, but the class of dogs doesn't.                   \n",
    "\n",
    "The class is a concept of an object. When you see Fido and Spot, you recognise their similarity, their doghood. That's the class."
   ]
  },
  {
   "cell_type": "code",
   "execution_count": null,
   "metadata": {
    "collapsed": true
   },
   "outputs": [],
   "source": [
    "class Dog:\n",
    "    def __init__(self, legs, colour):\n",
    "        self.legs = legs\n",
    "        self.colour = colour\n",
    "\n",
    "fido = Dog(4, \"brown\")\n",
    "spot = Dog(3, \"mostly yellow\")"
   ]
  },
  {
   "cell_type": "markdown",
   "metadata": {},
   "source": [
    "Fido is a brown dog with 4 legs while Spot is a bit of a cripple and is mostly yellow.   \n",
    "The __init__ function is called a constructor, or initializer, \n",
    "and is automatically called when you create a new instance of a class. \n",
    "\n",
    "Within that function, the newly created object is assigned to the parameter self. \n",
    "\n",
    "The notation self.legs is an attribute called legs of the object in the variable self. \n",
    "Attributes are kind of like variables, but they describe the state of an object, or \n",
    "particular actions (functions) available to the object.\n",
    "\n",
    "However, notice that you don't set colour for the doghood itself - it's an abstract concept. \n",
    "There are attributes that make sense on classes. \n",
    "For instance, population_size is one such - \n",
    "it doesn't make sense to count the Fido because Fido is always one. \n",
    "It does make sense to count dogs. Let us say there're 200 million dogs in the world. \n",
    "It's the property of the Dog class. \n",
    "Fido has nothing to do with the number 200 million, nor does Spot. \n",
    "It's called a \"class attribute\", as opposed to \"instance attributes\" that are colour or legs above."
   ]
  },
  {
   "cell_type": "markdown",
   "metadata": {},
   "source": [
    "#### Writing an Employee class"
   ]
  },
  {
   "cell_type": "code",
   "execution_count": null,
   "metadata": {
    "collapsed": false
   },
   "outputs": [],
   "source": [
    "class Employee(object):\n",
    "    def __init__(self, _num=0, _name='', _salary=0.0):\n",
    "        self.num = _num\n",
    "        self.name = _name\n",
    "        self.salary = _salary\n",
    "        \n",
    "    def print_data(self):\n",
    "        print ('EmpId: {}, EmpName: {}, EmpSalary: {}'.format(self.num,\n",
    "                                                             self.name,\n",
    "                                                             self.salary))\n",
    "    def calculate_tax(self):\n",
    "        slab = (self.salary * 12) - 300000\n",
    "        tax = 0\n",
    "        if slab > 0:\n",
    "            tax = slab * 0.1\n",
    "        print (\"tax for empid: {} is {}\".format(self.num, tax))\n",
    "        \n",
    "e1 = Employee(1234, 'John', 23600.0) # e1.__init__(1234, 'John', 23500)\n",
    "e2 = Employee(1235, 'Samanta', 45000.0) # e2.__init__(1235, 'Samanta', 45000.0)\n",
    "e1.print_data()\n",
    "e2.print_data()"
   ]
  },
  {
   "cell_type": "code",
   "execution_count": null,
   "metadata": {
    "collapsed": false
   },
   "outputs": [],
   "source": [
    "e1.calculate_tax()"
   ]
  },
  {
   "cell_type": "code",
   "execution_count": null,
   "metadata": {
    "collapsed": false
   },
   "outputs": [],
   "source": [
    "e2.calculate_tax()"
   ]
  },
  {
   "cell_type": "code",
   "execution_count": 1,
   "metadata": {
    "collapsed": true
   },
   "outputs": [],
   "source": [
    "# Abstraction\n",
    "class Account:\n",
    "    bal = 0\n",
    "    def deposit(self):\n",
    "        print (\"my balance is {}\".format(self.bal))"
   ]
  },
  {
   "cell_type": "code",
   "execution_count": 2,
   "metadata": {
    "collapsed": false
   },
   "outputs": [
    {
     "name": "stdout",
     "output_type": "stream",
     "text": [
      "<class '__main__.Account'>\n",
      "<class 'type'>\n",
      "<class '__main__.Account'>\n",
      "['__class__', '__delattr__', '__dict__', '__dir__', '__doc__', '__eq__', '__format__', '__ge__', '__getattribute__', '__gt__', '__hash__', '__init__', '__le__', '__lt__', '__module__', '__ne__', '__new__', '__reduce__', '__reduce_ex__', '__repr__', '__setattr__', '__sizeof__', '__str__', '__subclasshook__', '__weakref__', 'bal', 'deposit']\n"
     ]
    }
   ],
   "source": [
    "# ravi\n",
    "# ravi = Account\n",
    "ravi = Account()\n",
    "print (type(ravi))     # Instance/Object\n",
    "print (type(Account))   # classobj/class\n",
    "print (type(Account()))\n",
    "print (dir(ravi))"
   ]
  },
  {
   "cell_type": "code",
   "execution_count": 3,
   "metadata": {
    "collapsed": false
   },
   "outputs": [
    {
     "name": "stdout",
     "output_type": "stream",
     "text": [
      "0\n"
     ]
    }
   ],
   "source": [
    "print (ravi.bal)"
   ]
  },
  {
   "cell_type": "code",
   "execution_count": 4,
   "metadata": {
    "collapsed": false
   },
   "outputs": [
    {
     "name": "stdout",
     "output_type": "stream",
     "text": [
      "my balance is 0\n",
      "None\n"
     ]
    }
   ],
   "source": [
    "print (ravi.deposit())"
   ]
  },
  {
   "cell_type": "code",
   "execution_count": 5,
   "metadata": {
    "collapsed": false
   },
   "outputs": [
    {
     "name": "stdout",
     "output_type": "stream",
     "text": [
      "my balance is 1000\n",
      "None\n"
     ]
    }
   ],
   "source": [
    "ravi.bal=1000\n",
    "print (ravi.deposit())"
   ]
  },
  {
   "cell_type": "code",
   "execution_count": 6,
   "metadata": {
    "collapsed": true
   },
   "outputs": [],
   "source": [
    "# tom\n",
    "tom = Account()"
   ]
  },
  {
   "cell_type": "code",
   "execution_count": 7,
   "metadata": {
    "collapsed": false
   },
   "outputs": [
    {
     "name": "stdout",
     "output_type": "stream",
     "text": [
      "0\n",
      "['__class__', '__delattr__', '__dict__', '__dir__', '__doc__', '__eq__', '__format__', '__ge__', '__getattribute__', '__gt__', '__hash__', '__init__', '__le__', '__lt__', '__module__', '__ne__', '__new__', '__reduce__', '__reduce_ex__', '__repr__', '__setattr__', '__sizeof__', '__str__', '__subclasshook__', '__weakref__', 'bal', 'deposit']\n",
      "my balance is 0\n",
      "None\n"
     ]
    }
   ],
   "source": [
    "print (tom.bal)\n",
    "print (dir(tom))\n",
    "print (tom.deposit())"
   ]
  },
  {
   "cell_type": "code",
   "execution_count": 9,
   "metadata": {
    "collapsed": true
   },
   "outputs": [],
   "source": [
    "class BAccount:\n",
    "    def __init__(self):  # constructor\n",
    "        self.Nbal = 0\n",
    "    def deposit(self,amount):\n",
    "        self.Nbal = self.Nbal + amount\n",
    "        return \"my balance is {}\".format(self.Nbal)\n",
    "    def withdraw(self,amount):\n",
    "        self.Nbal = self.Nbal - amount\n",
    "        return \"my balance is {}\".format(self.Nbal)"
   ]
  },
  {
   "cell_type": "code",
   "execution_count": 10,
   "metadata": {
    "collapsed": false
   },
   "outputs": [
    {
     "name": "stdout",
     "output_type": "stream",
     "text": [
      "my balance is 1000\n",
      "my balance is 700\n",
      "my balance is 2000\n",
      "my balance is 1700\n"
     ]
    }
   ],
   "source": [
    "# \n",
    "ravi = BAccount()\n",
    "tom = BAccount()\n",
    "print (ravi.deposit(1000))\n",
    "print (ravi.withdraw(300))\n",
    "print (tom.deposit(2000))\n",
    "print (tom.withdraw(300))"
   ]
  },
  {
   "cell_type": "code",
   "execution_count": 11,
   "metadata": {
    "collapsed": true
   },
   "outputs": [],
   "source": [
    "Test = BAccount\n",
    "varsh = BAccount()"
   ]
  },
  {
   "cell_type": "code",
   "execution_count": 12,
   "metadata": {
    "collapsed": false
   },
   "outputs": [
    {
     "name": "stdout",
     "output_type": "stream",
     "text": [
      "['__class__', '__delattr__', '__dict__', '__dir__', '__doc__', '__eq__', '__format__', '__ge__', '__getattribute__', '__gt__', '__hash__', '__init__', '__le__', '__lt__', '__module__', '__ne__', '__new__', '__reduce__', '__reduce_ex__', '__repr__', '__setattr__', '__sizeof__', '__str__', '__subclasshook__', '__weakref__', 'deposit', 'withdraw']\n",
      "['Nbal', '__class__', '__delattr__', '__dict__', '__dir__', '__doc__', '__eq__', '__format__', '__ge__', '__getattribute__', '__gt__', '__hash__', '__init__', '__le__', '__lt__', '__module__', '__ne__', '__new__', '__reduce__', '__reduce_ex__', '__repr__', '__setattr__', '__sizeof__', '__str__', '__subclasshook__', '__weakref__', 'deposit', 'withdraw']\n"
     ]
    }
   ],
   "source": [
    "print (dir(Test))\n",
    "print (dir(varsh))"
   ]
  },
  {
   "cell_type": "raw",
   "metadata": {},
   "source": [
    "In [1]: my_string=\"apple\"\n",
    "\n",
    "In [2]: # my_string=instance of class 'str'\n",
    "\n",
    "In [3]: type(my_string)\n",
    "Out[3]: str"
   ]
  },
  {
   "cell_type": "markdown",
   "metadata": {},
   "source": [
    "#Recap - Example "
   ]
  },
  {
   "cell_type": "code",
   "execution_count": 13,
   "metadata": {
    "collapsed": true
   },
   "outputs": [],
   "source": [
    "class Consumer:\n",
    "    \n",
    "    def __init__(self, w):\n",
    "        \"Initialize consumer with w dollars of wealth\"\n",
    "        self.wealth = w\n",
    "        \n",
    "    def earn(self, y):\n",
    "        \"The consumer earns y dollars\" \n",
    "        self.wealth += y\n",
    "        \n",
    "    def spend(self, x):\n",
    "        \"The consumer spends x dollars if feasible\"\n",
    "        new_wealth = self.wealth - x\n",
    "        if new_wealth < 0:\n",
    "            print(\"Insufficent funds\")\n",
    "        else:\n",
    "            self.wealth = new_wealth"
   ]
  },
  {
   "cell_type": "markdown",
   "metadata": {},
   "source": [
    "1. This class defines instance data wealth and three methods: __init__, earn and spend\n",
    "2. wealth is instance data\n",
    "3. __init__ method is a constructor method. Whenever we create an instance of the class, \n",
    "   this method will be called automatically\n",
    "4. The rules with self are that:\n",
    "\n",
    "Any instance data should be prepended with self\n",
    "\n",
    "e.g., the earn method references self.wealth rather than just wealth\n",
    "Any method defined within the class should have self as its first argument\n",
    "\n",
    "e.g., def earn(self, y) rather than just def earn(y)\n",
    "Any method referenced within the class should be called as self.method_name"
   ]
  },
  {
   "cell_type": "code",
   "execution_count": 14,
   "metadata": {
    "collapsed": false
   },
   "outputs": [
    {
     "data": {
      "text/plain": [
       "10"
      ]
     },
     "execution_count": 14,
     "metadata": {},
     "output_type": "execute_result"
    }
   ],
   "source": [
    "c1 = Consumer(15)  # Create instance with initial wealth 10\n",
    "c1.spend(5)\n",
    "c1.wealth"
   ]
  },
  {
   "cell_type": "code",
   "execution_count": 15,
   "metadata": {
    "collapsed": false
   },
   "outputs": [
    {
     "name": "stdout",
     "output_type": "stream",
     "text": [
      "25\n",
      "Insufficent funds\n"
     ]
    }
   ],
   "source": [
    "c1.earn(15)\n",
    "print(c1.wealth)\n",
    "c1.spend(100)"
   ]
  },
  {
   "cell_type": "code",
   "execution_count": 16,
   "metadata": {
    "collapsed": false
   },
   "outputs": [
    {
     "data": {
      "text/plain": [
       "8"
      ]
     },
     "execution_count": 16,
     "metadata": {},
     "output_type": "execute_result"
    }
   ],
   "source": [
    "# We can of course create multiple instances each with its own data\n",
    "c1 = Consumer(10)\n",
    "c2 = Consumer(12)\n",
    "c2.spend(4)\n",
    "c2.wealth"
   ]
  },
  {
   "cell_type": "code",
   "execution_count": 17,
   "metadata": {
    "collapsed": false
   },
   "outputs": [
    {
     "data": {
      "text/plain": [
       "10"
      ]
     },
     "execution_count": 17,
     "metadata": {},
     "output_type": "execute_result"
    }
   ],
   "source": [
    "c1.wealth"
   ]
  },
  {
   "cell_type": "code",
   "execution_count": 18,
   "metadata": {
    "collapsed": false
   },
   "outputs": [
    {
     "data": {
      "text/plain": [
       "{'wealth': 10}"
      ]
     },
     "execution_count": 18,
     "metadata": {},
     "output_type": "execute_result"
    }
   ],
   "source": [
    "# each instance stores its data in a separate namespace dictionary\n",
    "c1.__dict__"
   ]
  },
  {
   "cell_type": "code",
   "execution_count": 19,
   "metadata": {
    "collapsed": false
   },
   "outputs": [
    {
     "data": {
      "text/plain": [
       "{'wealth': 8}"
      ]
     },
     "execution_count": 19,
     "metadata": {},
     "output_type": "execute_result"
    }
   ],
   "source": [
    "c2.__dict__"
   ]
  },
  {
   "cell_type": "code",
   "execution_count": 20,
   "metadata": {
    "collapsed": false
   },
   "outputs": [
    {
     "name": "stdout",
     "output_type": "stream",
     "text": [
      "{'__doc__': None, '__init__': <function Consumer.__init__ at 0x00000044C1907510>, '__weakref__': <attribute '__weakref__' of 'Consumer' objects>, 'spend': <function Consumer.spend at 0x00000044C1907400>, 'earn': <function Consumer.earn at 0x00000044C1907488>, '__dict__': <attribute '__dict__' of 'Consumer' objects>, '__module__': '__main__'}\n"
     ]
    }
   ],
   "source": [
    "print(Consumer.__dict__)  # Show __dict__ attribute of class object"
   ]
  },
  {
   "cell_type": "code",
   "execution_count": 21,
   "metadata": {
    "collapsed": false
   },
   "outputs": [
    {
     "data": {
      "text/plain": [
       "20"
      ]
     },
     "execution_count": 21,
     "metadata": {},
     "output_type": "execute_result"
    }
   ],
   "source": [
    "c1 = Consumer(10)\n",
    "c1.earn(10)\n",
    "c1.wealth"
   ]
  },
  {
   "cell_type": "code",
   "execution_count": 23,
   "metadata": {
    "collapsed": false
   },
   "outputs": [],
   "source": [
    "#c2 = consume(10) "
   ]
  },
  {
   "cell_type": "code",
   "execution_count": 24,
   "metadata": {
    "collapsed": false
   },
   "outputs": [
    {
     "data": {
      "text/plain": [
       "20"
      ]
     },
     "execution_count": 24,
     "metadata": {},
     "output_type": "execute_result"
    }
   ],
   "source": [
    "# another way of creating instance\n",
    "Consumer.earn(c2, 10)\n",
    "c1.wealth"
   ]
  },
  {
   "cell_type": "markdown",
   "metadata": {},
   "source": [
    "### Special methods"
   ]
  },
  {
   "cell_type": "code",
   "execution_count": null,
   "metadata": {
    "collapsed": false
   },
   "outputs": [],
   "source": [
    "x = (10, 20)\n",
    "len(x)"
   ]
  },
  {
   "cell_type": "code",
   "execution_count": null,
   "metadata": {
    "collapsed": true
   },
   "outputs": [],
   "source": [
    "class Foo:\n",
    "\n",
    "    def __len__(self):\n",
    "        return 42"
   ]
  },
  {
   "cell_type": "code",
   "execution_count": null,
   "metadata": {
    "collapsed": false
   },
   "outputs": [],
   "source": [
    "f = Foo()\n",
    "len(f)"
   ]
  },
  {
   "cell_type": "code",
   "execution_count": null,
   "metadata": {
    "collapsed": true
   },
   "outputs": [],
   "source": [
    "#A special method we will use regularly is the __call__ method\n",
    "#This method can be used to make your instances callable, just like functions\n",
    "\n",
    "class Foo:\n",
    "\n",
    "    def __call__(self, x):\n",
    "        return x + 42"
   ]
  },
  {
   "cell_type": "code",
   "execution_count": null,
   "metadata": {
    "collapsed": false
   },
   "outputs": [],
   "source": [
    "f = Foo()\n",
    "f(8)  # Exactly equivalent to f.__call__(8)"
   ]
  },
  {
   "cell_type": "code",
   "execution_count": null,
   "metadata": {
    "collapsed": false
   },
   "outputs": [],
   "source": [
    "h = Foo()\n",
    "h.__call__(8)"
   ]
  },
  {
   "cell_type": "code",
   "execution_count": null,
   "metadata": {
    "collapsed": true
   },
   "outputs": [],
   "source": [
    "Practice ends"
   ]
  },
  {
   "cell_type": "markdown",
   "metadata": {},
   "source": [
    "Python supports inheritance, it even supports multiple inheritance. Classes can inherit from other classes. A class can inherit attributes and behaviour methods from another class, called the superclass. A class which inherits from a superclass is called a subclass, also called heir class or child class."
   ]
  },
  {
   "cell_type": "code",
   "execution_count": null,
   "metadata": {
    "collapsed": false
   },
   "outputs": [],
   "source": [
    "# Inheritance\n",
    "\n",
    "class Father:\n",
    "    hand=\"right\"\n",
    "    occup = \"Doctor\"\n",
    "    \n",
    "class Mother:\n",
    "    hand =\"left\"\n",
    "    occup = \"Engineer\"\n",
    "    \n",
    "class Child(Father,Mother):\n",
    "    occup =\"Architect\"\n",
    "class Child1(Mother,Father):\n",
    "    hand = \"Right\"\n",
    "    occup=\"tea taster\"\n",
    "\n",
    "kumar = Child()\n",
    "santosh = Child1()\n",
    "\n",
    "#print (dir(kumar))\n",
    "#print (dir(santosh))\n",
    "print (kumar.hand)\n",
    "print (kumar.occup)\n",
    "print (santosh.hand)\n",
    "print (santosh.occup)"
   ]
  },
  {
   "cell_type": "code",
   "execution_count": 1,
   "metadata": {
    "collapsed": false
   },
   "outputs": [
    {
     "name": "stdout",
     "output_type": "stream",
     "text": [
      "please enter your age:16\n",
      " you still have time for this movie 16\n"
     ]
    }
   ],
   "source": [
    "# Inheritance\n",
    "# Movie - U/A\n",
    "\n",
    "# Class\n",
    "class InvalidAge(Exception):\n",
    "    # method\n",
    "    def __init__(self,age):\n",
    "        self.age = age\n",
    "\n",
    "# Function\n",
    "def Validate_Age(age):\n",
    "    if age < 18:\n",
    "       raise InvalidAge(age)\n",
    "\n",
    "# Main\n",
    "age = int(input(\"please enter your age:\"))\n",
    "try:\n",
    "    Validate_Age(age)\n",
    "except InvalidAge as e:\n",
    "    print (\" you still have time for this movie {}\".format(e.age))\n",
    "else:\n",
    "    print (\" enjoy the movie\")\n"
   ]
  },
  {
   "cell_type": "code",
   "execution_count": null,
   "metadata": {
    "collapsed": true
   },
   "outputs": [],
   "source": [
    "# Acct - Salaried\n",
    "class Baccount:\n",
    "    def __init__(self):  # constructor\n",
    "        self.Nbal = 0\n",
    "    def deposit(self,amount):\n",
    "        self.Nbal = self.Nbal + amount\n",
    "        return \"my balance is {}\".format(self.Nbal)\n",
    "    def withdraw(self,amount):\n",
    "        self.Nbal = self.Nbal - amount\n",
    "        return \"my balance is {}\".format(self.Nbal)"
   ]
  },
  {
   "cell_type": "code",
   "execution_count": null,
   "metadata": {
    "collapsed": false
   },
   "outputs": [],
   "source": [
    "# Pandu - salaried\n",
    "Pandu = Baccount()\n",
    "print (Pandu.deposit(1000))\n",
    "print (Pandu.withdraw(3000))"
   ]
  },
  {
   "cell_type": "code",
   "execution_count": null,
   "metadata": {
    "collapsed": false
   },
   "outputs": [],
   "source": [
    "# Student\n",
    "# Inheritance: you get access to variable,methods of parent class\n",
    "# but for constructor you need to call explictly.\n",
    "class MinBalAccount(Baccount):\n",
    "    def __init__(self):\n",
    "        Baccount.__init__(self)\n",
    "    def withdraw(self,amount):\n",
    "        if self.Nbal - amount < 1000:\n",
    "            return \"Call your Daddy!!!\"\n",
    "        else:\n",
    "            return Baccount.withdraw(self,amount)"
   ]
  },
  {
   "cell_type": "code",
   "execution_count": null,
   "metadata": {
    "collapsed": false
   },
   "outputs": [],
   "source": [
    "# Mohan - student\n",
    "Mohan = MinBalAccount()\n",
    "print (Mohan.deposit(4000))\n",
    "print (Mohan.withdraw(2000))\n",
    "print (Mohan.withdraw(1500))\n",
    "print (Mohan.withdraw(1000))\n",
    "print (Mohan.Nbal)"
   ]
  },
  {
   "cell_type": "markdown",
   "metadata": {},
   "source": [
    "a particular object belonging to a particular class can be used in the same way as if it were a different object belonging to a different class. "
   ]
  },
  {
   "cell_type": "code",
   "execution_count": null,
   "metadata": {
    "collapsed": false
   },
   "outputs": [],
   "source": [
    "# Polymorphism\n",
    "\n",
    "a = 1\n",
    "b = 2\n",
    "\n",
    "print (a + b)\n",
    "#print (dir(a))\n",
    "print (a.__add__(b))\n",
    "print (1.0/2 + 1/3.0)"
   ]
  },
  {
   "cell_type": "raw",
   "metadata": {},
   "source": [
    "1/2 + 1/3\n",
    "\n",
    "1*3 + 1*2 \n",
    "----------\n",
    "2 * 3\n",
    "\n",
    "= 5/6"
   ]
  },
  {
   "cell_type": "code",
   "execution_count": null,
   "metadata": {
    "collapsed": false
   },
   "outputs": [],
   "source": [
    "class RationalNumber:\n",
    "    \"\"\"\n",
    "    Rational Numbers with support for arthmetic operations.\n",
    "\n",
    "        >>> a = RationalNumber(1, 2)\n",
    "        >>> b = RationalNumber(1, 3)\n",
    "        >>> a + b\n",
    "        5/6\n",
    "        >>> a - b\n",
    "        1/6\n",
    "        >>> a * b\n",
    "        1/6\n",
    "        >>> a/b\n",
    "        3/2\n",
    "    \"\"\"\n",
    "    def __init__(self, numerator, denominator=1):\n",
    "        self.n = numerator\n",
    "        self.d = denominator\n",
    "\n",
    "    def __add__(self, other):\n",
    "        if not isinstance(other, RationalNumber):\n",
    "            other = RationalNumber(other)\n",
    "\n",
    "        n = self.n * other.d + self.d * other.n\n",
    "        d = self.d * other.d\n",
    "        return RationalNumber(n, d)\n",
    "    \n",
    "    def __str__(self):\n",
    "        return \"%s/%s\" % (self.n, self.d)\n",
    "\n",
    "    __repr__ = __str__\n",
    "\n",
    "# Use case I\n",
    "a = RationalNumber(1, 2)\n",
    "b = RationalNumber(1, 3)\n",
    "print ((a + b))  # a.__add__(b)\n",
    "# Use case II\n",
    "c = RationalNumber(1, 2)\n",
    "d = 4\n",
    "print (c + d)\n",
    "# Use case III\n",
    "e = 1\n",
    "f = 2\n",
    "print ((e + f))"
   ]
  },
  {
   "cell_type": "code",
   "execution_count": null,
   "metadata": {
    "collapsed": false
   },
   "outputs": [],
   "source": [
    "# repr and str\n",
    "weeks = \"sun\\nmon\\ntue\\nwed\\n\"\n",
    "print (\"%s\" %(weeks))\n",
    "print (\"%r\" %(weeks))"
   ]
  },
  {
   "cell_type": "code",
   "execution_count": null,
   "metadata": {
    "collapsed": true
   },
   "outputs": [],
   "source": [
    "# encapsulation\n",
    "# http://radek.io/2011/07/21/private-protected-and-public-in-python/"
   ]
  }
 ],
 "metadata": {
  "kernelspec": {
   "display_name": "Python 3",
   "language": "python",
   "name": "python3"
  },
  "language_info": {
   "codemirror_mode": {
    "name": "ipython",
    "version": 3
   },
   "file_extension": ".py",
   "mimetype": "text/x-python",
   "name": "python",
   "nbconvert_exporter": "python",
   "pygments_lexer": "ipython3",
   "version": "3.5.2"
  }
 },
 "nbformat": 4,
 "nbformat_minor": 1
}
