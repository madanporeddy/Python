{
 "cells": [
  {
   "cell_type": "code",
   "execution_count": null,
   "metadata": {
    "collapsed": true
   },
   "outputs": [],
   "source": []
  },
  {
   "cell_type": "code",
   "execution_count": null,
   "metadata": {
    "collapsed": true
   },
   "outputs": [],
   "source": [
    "# Regular expressions/Pattern Matching\n",
    "# Multiple combination and permuations.\n",
    "# example : email addresses - lefthand'@'rightside       @subba.com "
   ]
  },
  {
   "cell_type": "code",
   "execution_count": 2,
   "metadata": {
    "collapsed": false
   },
   "outputs": [
    {
     "name": "stdout",
     "output_type": "stream",
     "text": [
      "do you want to come to the movie(yes/no) ?Yes\n",
      "sorry!! .\n"
     ]
    }
   ],
   "source": [
    "# Before regular expressions\n",
    "# can we use conditions ? yes , but is going to be complex.\n",
    "# yes - 2 ** 3 = 8                       Yes/YEs/YES/\n",
    "film = input(\"do you want to come to the movie(yes/no) ?\")\n",
    "if film == 'yes' :\n",
    "    print (\"you are welcome for the movie\")\n",
    "else:\n",
    "    print (\"sorry!! .\")"
   ]
  },
  {
   "cell_type": "code",
   "execution_count": 26,
   "metadata": {
    "collapsed": true
   },
   "outputs": [],
   "source": [
    "# regular expression\n",
    "import re"
   ]
  },
  {
   "cell_type": "code",
   "execution_count": 2,
   "metadata": {
    "collapsed": false
   },
   "outputs": [
    {
     "name": "stdout",
     "output_type": "stream",
     "text": [
      "['A', 'ASCII', 'DEBUG', 'DOTALL', 'I', 'IGNORECASE', 'L', 'LOCALE', 'M', 'MULTILINE', 'S', 'Scanner', 'T', 'TEMPLATE', 'U', 'UNICODE', 'VERBOSE', 'X', '_MAXCACHE', '__all__', '__builtins__', '__cached__', '__doc__', '__file__', '__loader__', '__name__', '__package__', '__spec__', '__version__', '_alphanum_bytes', '_alphanum_str', '_cache', '_cache_repl', '_compile', '_compile_repl', '_expand', '_locale', '_pattern_type', '_pickle', '_subx', 'compile', 'copyreg', 'error', 'escape', 'findall', 'finditer', 'fullmatch', 'match', 'purge', 'search', 'split', 'sre_compile', 'sre_parse', 'sub', 'subn', 'sys', 'template']\n"
     ]
    }
   ],
   "source": [
    "print (dir(re))"
   ]
  },
  {
   "cell_type": "code",
   "execution_count": 4,
   "metadata": {
    "collapsed": true
   },
   "outputs": [],
   "source": [
    "my_string = \"python\""
   ]
  },
  {
   "cell_type": "code",
   "execution_count": 5,
   "metadata": {
    "collapsed": false
   },
   "outputs": [
    {
     "name": "stdout",
     "output_type": "stream",
     "text": [
      "Help on function match in module re:\n",
      "\n",
      "match(pattern, string, flags=0)\n",
      "    Try to apply the pattern at the start of the string, returning\n",
      "    a match object, or None if no match was found.\n",
      "\n",
      "None\n"
     ]
    }
   ],
   "source": [
    "print (help(re.match))\n",
    "# pattern is a subset of your string"
   ]
  },
  {
   "cell_type": "code",
   "execution_count": 6,
   "metadata": {
    "collapsed": false
   },
   "outputs": [
    {
     "data": {
      "text/plain": [
       "'python'"
      ]
     },
     "execution_count": 6,
     "metadata": {},
     "output_type": "execute_result"
    }
   ],
   "source": [
    "my_string"
   ]
  },
  {
   "cell_type": "code",
   "execution_count": 9,
   "metadata": {
    "collapsed": false
   },
   "outputs": [
    {
     "name": "stdout",
     "output_type": "stream",
     "text": [
      "<_sre.SRE_Match object; span=(0, 1), match='p'>\n",
      "<_sre.SRE_Match object; span=(0, 2), match='py'>\n",
      "<_sre.SRE_Match object; span=(0, 3), match='pyt'>\n",
      "<_sre.SRE_Match object; span=(0, 4), match='pyth'>\n",
      "<_sre.SRE_Match object; span=(0, 5), match='pytho'>\n",
      "<_sre.SRE_Match object; span=(0, 6), match='python'>\n",
      "None\n",
      "None\n",
      "<_sre.SRE_Match object; span=(0, 6), match='python'>\n"
     ]
    }
   ],
   "source": [
    "#match(pattern, string, flags=0)\n",
    "\n",
    "print (re.match('p',my_string))\n",
    "print (re.match('py',my_string))\n",
    "print (re.match('pyt',my_string))\n",
    "\n",
    "print (re.match('pyth',my_string))\n",
    "print (re.match('pytho',my_string))\n",
    "print (re.match('python',my_string))\n",
    "\n",
    "print (re.match('pythons',my_string)) # pythons is not substring of python\n",
    "print (re.match('ython',my_string))   # no\n",
    "\n",
    "print (re.match('Python',my_string,re.I))        # re.I  RegexFlag.IGNORECASE"
   ]
  },
  {
   "cell_type": "code",
   "execution_count": 3,
   "metadata": {
    "collapsed": false
   },
   "outputs": [
    {
     "name": "stdout",
     "output_type": "stream",
     "text": [
      "do you want to come to the movie(yes/no) ?Yes\n",
      "you are welcome for the movie\n"
     ]
    }
   ],
   "source": [
    "# Before regular expressions\n",
    "# can we use conditions ? yes , but is going to be complex.\n",
    "# yes - 2 ** 3 = 8\n",
    "import re\n",
    "answer = input(\"do you want to come to the movie(yes/no) ?\")\n",
    "\n",
    "#if film == 'yes':\n",
    "# answer = answer.lower()\n",
    "if re.match(answer,'yes',re.I):                         #match(pattern, string, flags=0)\n",
    "    print (\"you are welcome for the movie\")\n",
    "else:\n",
    "    print (\"sorry!! \")"
   ]
  },
  {
   "cell_type": "code",
   "execution_count": 7,
   "metadata": {
    "collapsed": false
   },
   "outputs": [
    {
     "name": "stdout",
     "output_type": "stream",
     "text": [
      "you are welcome for the movie\n"
     ]
    }
   ],
   "source": [
    "A = \"abc\"\n",
    "if A:                         #match(pattern, string, flags=0)\n",
    "    print (\"you are welcome for the movie\")\n",
    "else:\n",
    "    print (\"sorry!! \")"
   ]
  },
  {
   "cell_type": "code",
   "execution_count": null,
   "metadata": {
    "collapsed": true
   },
   "outputs": [],
   "source": [
    "# whenever a if condition gets a value .. its true.\n",
    "# None.. it false"
   ]
  },
  {
   "cell_type": "code",
   "execution_count": 8,
   "metadata": {
    "collapsed": false
   },
   "outputs": [
    {
     "name": "stdout",
     "output_type": "stream",
     "text": [
      "Help on function search in module re:\n",
      "\n",
      "search(pattern, string, flags=0)\n",
      "    Scan through string looking for a match to the pattern, returning\n",
      "    a match object, or None if no match was found.\n",
      "\n",
      "None\n"
     ]
    }
   ],
   "source": [
    "# re.search\n",
    "print (help(re.search))"
   ]
  },
  {
   "cell_type": "code",
   "execution_count": 10,
   "metadata": {
    "collapsed": false
   },
   "outputs": [
    {
     "name": "stdout",
     "output_type": "stream",
     "text": [
      "<_sre.SRE_Match object; span=(0, 6), match='python'>\n",
      "None\n",
      "<_sre.SRE_Match object; span=(0, 6), match='python'>\n",
      "<_sre.SRE_Match object; span=(31, 37), match='python'>\n"
     ]
    }
   ],
   "source": [
    "import re\n",
    "my_sentence1 = \"python is a great language.\"\n",
    "my_sentence2 = \"one of the great lanaguages is python.\"\n",
    "\n",
    "print (re.match('python',my_sentence1))\n",
    "print (re.match('python',my_sentence2))\n",
    "\n",
    "print (re.search('python',my_sentence1))\n",
    "print (re.search('python',my_sentence2))"
   ]
  },
  {
   "cell_type": "code",
   "execution_count": null,
   "metadata": {
    "collapsed": true
   },
   "outputs": [],
   "source": [
    "# speicial characters\n",
    "# ^ -> caret -> beginning of a line or a sentence.\n",
    "# $ -> end -> end of the a line of a sentence.\n",
    "# . -> dot -> dot represents one character"
   ]
  },
  {
   "cell_type": "code",
   "execution_count": 34,
   "metadata": {
    "collapsed": false
   },
   "outputs": [
    {
     "name": "stdout",
     "output_type": "stream",
     "text": [
      "<_sre.SRE_Match object; span=(0, 6), match='python'>\n",
      "<_sre.SRE_Match object; span=(31, 37), match='python'>\n"
     ]
    }
   ],
   "source": [
    "my_sentence1 = \"python is a great language.\"\n",
    "my_sentence2 = \"one of the great lanaguages is python.\"\n",
    "my_sentence3 = \"one of the great languages is python$\"\n",
    "\n",
    "my_word1 = \"subba\"\n",
    "\n",
    "print (re.search('python',my_sentence1))\n",
    "print (re.search('python',my_sentence2))\n"
   ]
  },
  {
   "cell_type": "markdown",
   "metadata": {},
   "source": [
    "list of the metacharacters in Re\n",
    "\n",
    ". ^ $ * + ? { } [ ] \\ | ( )"
   ]
  },
  {
   "cell_type": "code",
   "execution_count": 11,
   "metadata": {
    "collapsed": true
   },
   "outputs": [],
   "source": [
    "my_sentence1 = \"python is a great language.\"\n",
    "my_sentence2 = \"one of the great lanaguages is python.\"\n",
    "my_sentence3 = \"one of the great languages is python$\"\n",
    "\n",
    "my_word1 = \"subba\""
   ]
  },
  {
   "cell_type": "code",
   "execution_count": 12,
   "metadata": {
    "collapsed": false
   },
   "outputs": [
    {
     "name": "stdout",
     "output_type": "stream",
     "text": [
      "<_sre.SRE_Match object; span=(0, 6), match='python'>\n"
     ]
    }
   ],
   "source": [
    "print(re.match('python',my_sentence1))"
   ]
  },
  {
   "cell_type": "code",
   "execution_count": 13,
   "metadata": {
    "collapsed": false
   },
   "outputs": [
    {
     "name": "stdout",
     "output_type": "stream",
     "text": [
      "<_sre.SRE_Match object; span=(0, 6), match='python'>\n",
      "None\n"
     ]
    }
   ],
   "source": [
    "# using ^\n",
    "print (re.search('^python',my_sentence1))\n",
    "print (re.search('^python',my_sentence2))\n"
   ]
  },
  {
   "cell_type": "markdown",
   "metadata": {},
   "source": [
    "Perhaps the most important metacharacter is the backslash, \\. As in Python string literals, the backslash can be followed by various characters to signal various special sequences. It’s also used to escape all the metacharacters so you can still match them in patterns; for example, if you need to match a [ or \\, you can precede them with a backslash to remove their special meaning: \\[ or \\\\"
   ]
  },
  {
   "cell_type": "code",
   "execution_count": 14,
   "metadata": {
    "collapsed": false
   },
   "outputs": [
    {
     "name": "stdout",
     "output_type": "stream",
     "text": [
      "None\n",
      "None\n",
      "<_sre.SRE_Match object; span=(30, 37), match='python$'>\n"
     ]
    }
   ],
   "source": [
    "my_sentence1 = \"python is a great language.\"\n",
    "my_sentence2 = \"one of the great lanaguages is python. \"\n",
    "my_sentence3 = \"one of the great languages is python$\"\n",
    "# using $\n",
    "print (re.search('python$',my_sentence1))\n",
    "print (re.search('python\\.$',my_sentence2))    # python\\.\n",
    "print (re.search('python\\$$',my_sentence3))\n",
    "\n",
    "#python\\$.$"
   ]
  },
  {
   "cell_type": "code",
   "execution_count": 17,
   "metadata": {
    "collapsed": false
   },
   "outputs": [
    {
     "name": "stdout",
     "output_type": "stream",
     "text": [
      "<_sre.SRE_Match object; span=(0, 4), match='subb'>\n",
      "su\n"
     ]
    }
   ],
   "source": [
    "# using .\n",
    "\n",
    "my_word1 = \"subba\"\n",
    "print (re.search('....',my_word1))\n",
    "# group\n",
    "#print (re.search('....',my_word1).group())\n",
    "print (re.search('^..',my_word1).group())"
   ]
  },
  {
   "cell_type": "code",
   "execution_count": 20,
   "metadata": {
    "collapsed": false
   },
   "outputs": [
    {
     "name": "stdout",
     "output_type": "stream",
     "text": [
      "eric\n"
     ]
    }
   ],
   "source": [
    "# example: find out the names of friends who have len as 5 character.\n",
    "my_friends = ['surajit','eric','vaneesh','jeeva','rache']                     #    ^....$\n",
    "\n",
    "import re\n",
    "for value in my_friends:\n",
    "    if re.search('^....$',value):\n",
    "        a = re.search('^....$',value).group()\n",
    "        print(a)"
   ]
  },
  {
   "cell_type": "code",
   "execution_count": 15,
   "metadata": {
    "collapsed": true
   },
   "outputs": [],
   "source": [
    "re.DOTALL?             # re.I --> "
   ]
  },
  {
   "cell_type": "code",
   "execution_count": 21,
   "metadata": {
    "collapsed": false
   },
   "outputs": [
    {
     "name": "stdout",
     "output_type": "stream",
     "text": [
      "<_sre.SRE_Match object; span=(0, 6), match='python'>\n",
      "None\n",
      "<_sre.SRE_Match object; span=(0, 8), match='python\\na'>\n"
     ]
    },
    {
     "ename": "AttributeError",
     "evalue": "'NoneType' object has no attribute 'group'",
     "output_type": "error",
     "traceback": [
      "\u001b[1;31m---------------------------------------------------------------------------\u001b[0m",
      "\u001b[1;31mAttributeError\u001b[0m                            Traceback (most recent call last)",
      "\u001b[1;32m<ipython-input-21-8ba7d5c2abf4>\u001b[0m in \u001b[0;36m<module>\u001b[1;34m()\u001b[0m\n\u001b[0;32m      6\u001b[0m \u001b[0mprint\u001b[0m \u001b[1;33m(\u001b[0m\u001b[0mre\u001b[0m\u001b[1;33m.\u001b[0m\u001b[0msearch\u001b[0m\u001b[1;33m(\u001b[0m\u001b[1;34m'......'\u001b[0m\u001b[1;33m,\u001b[0m\u001b[0mmy_word2\u001b[0m\u001b[1;33m)\u001b[0m\u001b[1;33m)\u001b[0m             \u001b[1;31m# . matches anything except new line\u001b[0m\u001b[1;33m\u001b[0m\u001b[0m\n\u001b[0;32m      7\u001b[0m \u001b[0mprint\u001b[0m \u001b[1;33m(\u001b[0m\u001b[0mre\u001b[0m\u001b[1;33m.\u001b[0m\u001b[0msearch\u001b[0m\u001b[1;33m(\u001b[0m\u001b[1;34m'.......'\u001b[0m\u001b[1;33m,\u001b[0m\u001b[0mmy_word3\u001b[0m\u001b[1;33m)\u001b[0m\u001b[1;33m)\u001b[0m\u001b[1;33m\u001b[0m\u001b[0m\n\u001b[1;32m----> 8\u001b[1;33m \u001b[0mprint\u001b[0m \u001b[1;33m(\u001b[0m\u001b[0mre\u001b[0m\u001b[1;33m.\u001b[0m\u001b[0msearch\u001b[0m\u001b[1;33m(\u001b[0m\u001b[1;34m'........'\u001b[0m\u001b[1;33m,\u001b[0m\u001b[0mmy_word3\u001b[0m\u001b[1;33m,\u001b[0m\u001b[0mre\u001b[0m\u001b[1;33m.\u001b[0m\u001b[0mDOTALL\u001b[0m\u001b[1;33m)\u001b[0m\u001b[1;33m)\u001b[0m\u001b[1;33m.\u001b[0m\u001b[0mgroup\u001b[0m\u001b[1;33m(\u001b[0m\u001b[1;33m)\u001b[0m  \u001b[1;31m# RegexFlag.DOTALL  --> this matches any character including a newline.\u001b[0m\u001b[1;33m\u001b[0m\u001b[0m\n\u001b[0m",
      "\u001b[1;31mAttributeError\u001b[0m: 'NoneType' object has no attribute 'group'"
     ]
    }
   ],
   "source": [
    "# how about a \\n character.\n",
    "# DOTALL\n",
    "my_word2 = \"python\"\n",
    "my_word3 = \"python\\nabc\"\n",
    "\n",
    "print (re.search('......',my_word2))             # . matches anything except new line\n",
    "print (re.search('.......',my_word3))\n",
    "print (re.search('........',my_word3,re.DOTALL)).group()  # RegexFlag.DOTALL  --> this matches any character including a newline."
   ]
  },
  {
   "cell_type": "code",
   "execution_count": 22,
   "metadata": {
    "collapsed": true
   },
   "outputs": [],
   "source": [
    "# globbling characters\n",
    "# * - match zero or more characters.\n",
    "# + - match one or more characters.\n",
    "# ? - match zero or one characters.\n",
    "\n",
    "state1 = \"mi*issippi\"\n",
    "state2 = \"aashique\"   # ashique -> a*shique, aashique, ashique, aaashique\n",
    "state3 = \"aaashique\"\n",
    "state4 = \"shique\""
   ]
  },
  {
   "cell_type": "code",
   "execution_count": 23,
   "metadata": {
    "collapsed": false
   },
   "outputs": [
    {
     "name": "stdout",
     "output_type": "stream",
     "text": [
      "<class '_sre.SRE_Pattern'> re.compile('a*shique')\n",
      "['__class__', '__copy__', '__deepcopy__', '__delattr__', '__dir__', '__doc__', '__eq__', '__format__', '__ge__', '__getattribute__', '__gt__', '__hash__', '__init__', '__le__', '__lt__', '__ne__', '__new__', '__reduce__', '__reduce_ex__', '__repr__', '__setattr__', '__sizeof__', '__str__', '__subclasshook__', 'findall', 'finditer', 'flags', 'fullmatch', 'groupindex', 'groups', 'match', 'pattern', 'scanner', 'search', 'split', 'sub', 'subn']\n",
      "Help on built-in function search:\n",
      "\n",
      "search(string=None, pos=0, endpos=9223372036854775807, *, pattern=None) method of _sre.SRE_Pattern instance\n",
      "    Scan through string looking for a match, and return a corresponding match object instance.\n",
      "    \n",
      "    Return None if no position in the string matches.\n",
      "\n",
      "None\n",
      "Help on function search in module re:\n",
      "\n",
      "search(pattern, string, flags=0)\n",
      "    Scan through string looking for a match to the pattern, returning\n",
      "    a match object, or None if no match was found.\n",
      "\n",
      "None\n"
     ]
    }
   ],
   "source": [
    "# compile\n",
    "reg = re.compile('a*shique')     # re.compile(pattern, flags=0)   ashique-> abshique -> abcshique\n",
    "print (type(reg),reg)\n",
    "print (dir(reg))\n",
    "print (help(reg.search))\n",
    "print (help(re.search))"
   ]
  },
  {
   "cell_type": "code",
   "execution_count": 24,
   "metadata": {
    "collapsed": false
   },
   "outputs": [
    {
     "name": "stdout",
     "output_type": "stream",
     "text": [
      "<_sre.SRE_Match object; span=(0, 7), match='ashique'>\n",
      "ashique\n",
      "<_sre.SRE_Match object; span=(0, 8), match='aashique'>\n",
      "aashique\n",
      "<_sre.SRE_Match object; span=(0, 9), match='aaashique'>\n",
      "aaashique\n",
      "<_sre.SRE_Match object; span=(0, 6), match='shique'>\n",
      "shique\n"
     ]
    }
   ],
   "source": [
    "# *\n",
    "# * - match zero or more characters.\n",
    "\n",
    "reg = re.compile('a*shique')   #--> a*   shique\n",
    "state1 = \"ashique\"\n",
    "state2 = \"aashique\"             #-->  a a shique\n",
    "state3 = \"aaashique\"            #-->  a aa shique\n",
    "state4 = \"shique\"\n",
    "\n",
    "print (reg.search(state1))\n",
    "print (reg.search(state1).group())\n",
    "\n",
    "print (reg.search(state2))\n",
    "print (reg.search(state2).group())\n",
    "\n",
    "print (reg.match(state3))\n",
    "print (reg.match(state3).group())\n",
    "\n",
    "print (reg.match(state4))\n",
    "print (reg.match(state4).group())"
   ]
  },
  {
   "cell_type": "code",
   "execution_count": 25,
   "metadata": {
    "collapsed": false
   },
   "outputs": [
    {
     "name": "stdout",
     "output_type": "stream",
     "text": [
      "None\n",
      "<_sre.SRE_Match object; span=(0, 8), match='aashique'>\n",
      "aashique\n",
      "<_sre.SRE_Match object; span=(0, 9), match='aaashique'>\n",
      "aaashique\n",
      "<_sre.SRE_Match object; span=(0, 9), match='aaashique'>\n",
      "aaashique\n"
     ]
    }
   ],
   "source": [
    "# + \n",
    "# + - match one or more characters.\n",
    "\n",
    "reg = re.compile('a+shique')\n",
    "film1 = \"ahique\"\n",
    "film2 = \"aashique\"\n",
    "film3 = \"aaashique\"      #a aa shique\n",
    "film4 = \"aaashique\"         #shique  --> \n",
    "\n",
    "print (reg.search(film1))\n",
    "#print (reg.search(film1).group())\n",
    "print (reg.search(film2))\n",
    "print (reg.search(film2).group())\n",
    "print (reg.search(film3))\n",
    "print (reg.search(film3).group())\n",
    "print (reg.search(film4))\n",
    "print (reg.search(film4).group())"
   ]
  },
  {
   "cell_type": "code",
   "execution_count": 26,
   "metadata": {
    "collapsed": false
   },
   "outputs": [
    {
     "name": "stdout",
     "output_type": "stream",
     "text": [
      "<_sre.SRE_Match object; span=(0, 7), match='ashique'>\n",
      "<_sre.SRE_Match object; span=(1, 8), match='ashique'>\n",
      "<_sre.SRE_Match object; span=(2, 9), match='ashique'>\n",
      "<_sre.SRE_Match object; span=(0, 6), match='shique'>\n",
      "<_sre.SRE_Match object; span=(0, 7), match='ashique'>\n",
      "None\n",
      "None\n",
      "<_sre.SRE_Match object; span=(0, 6), match='shique'>\n"
     ]
    }
   ],
   "source": [
    "# ?\n",
    "# ? - match zero or one characters.\n",
    "\n",
    "reg = re.compile('a?shique') # ashique,shique\n",
    "film1 = \"ashique\"\n",
    "film2 = \"aashique\"\n",
    "film3 = \"aaashique\"\n",
    "film4 = \"shique\"\n",
    "\n",
    "print (reg.search(film1)) # TRUE\n",
    "print (reg.search(film2)) # TRUE\n",
    "print (reg.search(film3)) # TRUE\n",
    "print (reg.search(film4)) # TRUE\n",
    "\n",
    "print (reg.match(film1))  # TRUE\n",
    "print (reg.match(film2))  # FALSE\n",
    "print (reg.match(film3))  # FALSE\n",
    "print (reg.match(film4))  # TRUE"
   ]
  },
  {
   "cell_type": "code",
   "execution_count": null,
   "metadata": {
    "collapsed": true
   },
   "outputs": [],
   "source": [
    "'helloworld'   "
   ]
  },
  {
   "cell_type": "code",
   "execution_count": 27,
   "metadata": {
    "collapsed": false
   },
   "outputs": [
    {
     "name": "stdout",
     "output_type": "stream",
     "text": [
      "h1>hello<h1>\n",
      "h2>heythere<h2>\n",
      "h3>heyho<h3>\n",
      "<h1>\n",
      "<h2>\n",
      "<h3>\n"
     ]
    }
   ],
   "source": [
    "# globbing characters are greedy. - +,*,?\n",
    "my_string1 = \"<h1>hello<h1>\"\n",
    "my_string2 = \"<h2>heythere<h2>\"\n",
    "my_string3 = \"<h3>heyho<h3>\"\n",
    "\n",
    "reg = re.compile('h.+>')  # maximal matching        + - match one or more characters\n",
    "print (reg.search(my_string1).group())\n",
    "print (reg.search(my_string2).group())\n",
    "print (reg.search(my_string3).group())\n",
    "\n",
    "# *?,??,+?\n",
    "\n",
    "reg = re.compile('<.+?>') # Minimal matching           ? - match zero or one characters.\n",
    "print (reg.search(my_string1).group())\n",
    "print (reg.search(my_string2).group())\n",
    "print (reg.search(my_string3).group())"
   ]
  },
  {
   "cell_type": "code",
   "execution_count": 28,
   "metadata": {
    "collapsed": false
   },
   "outputs": [
    {
     "name": "stdout",
     "output_type": "stream",
     "text": [
      "None\n",
      "<_sre.SRE_Match object; span=(0, 8), match='aashique'>\n",
      "<_sre.SRE_Match object; span=(0, 9), match='aaashique'>\n",
      "None\n",
      "None\n",
      "<_sre.SRE_Match object; span=(0, 8), match='aashique'>\n",
      "<_sre.SRE_Match object; span=(0, 9), match='aaashique'>\n",
      "None\n"
     ]
    }
   ],
   "source": [
    "# anchors\n",
    "# {m} -> a charater repeated m number of times.\n",
    "# {m,n} -> a character repeated m or n number of times.\n",
    "# {m,} -> a character repeted m or more number of times.\n",
    "reg = re.compile('a{2,3}shique') # aashique\n",
    "film1 = \"ashique\"  #a shique\n",
    "film2 = \"aashique\" #a a shique\n",
    "film3 = \"aaashique\"\n",
    "film4 = \"shique\"  \n",
    "\n",
    "print (reg.search(film1)) # FALSE\n",
    "print (reg.search(film2)) # TRUE\n",
    "print (reg.search(film3)) # TRUE\n",
    "print (reg.search(film4)) # FALSE\n",
    "print (reg.match(film1))  # FALSE\n",
    "print (reg.match(film2))  # TRUE\n",
    "print (reg.match(film3))  # FALSE\n",
    "print (reg.match(film4))  # FALSE"
   ]
  },
  {
   "cell_type": "code",
   "execution_count": 32,
   "metadata": {
    "collapsed": false
   },
   "outputs": [
    {
     "name": "stdout",
     "output_type": "stream",
     "text": [
      "P\n",
      "Python\n",
      "Python \n",
      "Python is my best language.\n",
      "Python is my best language.\n",
      "Python is my best language.\n"
     ]
    }
   ],
   "source": [
    "# Character sets\n",
    "# [a-c] => Having a,b or c.                               #[0-9]           [a-z][a-z]\n",
    "# [^a-c] => Not having a,b or c.\n",
    "# ^[a-c] => starting with a,b, or c.\n",
    "# [*?+.]  => the regular expression patterns will work as symbols.\n",
    "\n",
    "import re\n",
    "my_sentence = \"Python is my best language.\"\n",
    "\n",
    "print (re.match('[a-z]',my_sentence,re.I).group())\n",
    "\n",
    "print (re.match('[a-z]+',my_sentence,re.I).group())\n",
    "\n",
    "print (re.match('[a-z]+\\s+',my_sentence,re.I).group())\n",
    "\n",
    "print (re.match('[a-z]+\\s+[a-z]+\\s+[a-z]+\\s+[a-z]+\\s+[a-z.]+',my_sentence,re.I).group())\n",
    "\n",
    "print (re.match('([a-z]+\\s+){0,}[a-z.]+',my_sentence,re.I).group())\n",
    "print (re.match('(\\w+\\s+){4}[a-z.]+',my_sentence,re.I).group())"
   ]
  },
  {
   "cell_type": "code",
   "execution_count": 36,
   "metadata": {
    "collapsed": false
   },
   "outputs": [
    {
     "name": "stdout",
     "output_type": "stream",
     "text": [
      "Python is my best language.\n",
      "Python is my best language.\n"
     ]
    }
   ],
   "source": [
    "# verbose\n",
    "print (re.match('(\\w+\\s+){4}[a-z.]+',my_sentence,re.I).group())\n",
    "print (re.match('''\n",
    "(\\w+\\s+)      # A word and a space\n",
    "{4}           # The word or space repeated 4 times.\n",
    "[a-z.]+       # a word ending with full stop.\n",
    "''',my_sentence,(re.I|re.VERBOSE)).group())"
   ]
  },
  {
   "cell_type": "code",
   "execution_count": 33,
   "metadata": {
    "collapsed": false
   },
   "outputs": [],
   "source": [
    "re.VERBOSE?"
   ]
  },
  {
   "cell_type": "code",
   "execution_count": 47,
   "metadata": {
    "collapsed": false
   },
   "outputs": [
    {
     "name": "stdout",
     "output_type": "stream",
     "text": [
      "Python is my best language.\n",
      "Python is my best language.\n",
      "Python\n",
      "language\n",
      "Python\n",
      "language\n",
      "('Python', 'language')\n",
      "['Python', 'is', 'my', 'best', 'language.']\n"
     ]
    }
   ],
   "source": [
    "# grouping\n",
    "print (re.match('[a-z]+\\s+[a-z]+\\s+[a-z]+\\s+[a-z]+\\s+[a-z.]+',my_sentence,re.I).group())\n",
    "print (re.match('[a-z]+\\s+[a-z]+\\s+[a-z]+\\s+[a-z]+\\s+[a-z.]+',my_sentence,re.I).group(0))\n",
    "# i want python and language to be collected.\n",
    "# using indexing\n",
    "print (re.match('([a-z]+)\\s+[a-z]+\\s+[a-z]+\\s+[a-z]+\\s+([a-z]+)[.]',my_sentence,re.I).group(1))\n",
    "print (re.match('([a-z]+)\\s+[a-z]+\\s+[a-z]+\\s+[a-z]+\\s+([a-z]+)[.]',my_sentence,re.I).group(2))\n",
    "# dictionary types\n",
    "print (re.match('(?P<name>[a-z]+)\\s+[a-z]+\\s+[a-z]+\\s+[a-z]+\\s+(?P<type>[a-z]+)[.]'\n",
    "                ,my_sentence,re.I).group('name'))\n",
    "print (re.match('(?P<name>[a-z]+)\\s+[a-z]+\\s+[a-z]+\\s+[a-z]+\\s+(?P<type>[a-z]+)[.]'\n",
    "                ,my_sentence,re.I).group('type'))\n",
    "# groups\n",
    "print (re.match('(?P<name>[a-z]+)\\s+[a-z]+\\s+[a-z]+\\s+[a-z]+\\s+(?P<type>[a-z]+)[.]'\n",
    "                ,my_sentence,re.I).groups())\n",
    "# getting all words\n",
    "print (re.match('[a-z]+\\s+[a-z]+\\s+[a-z]+\\s+[a-z]+\\s+[a-z.]+',my_sentence,re.I).group().split())"
   ]
  },
  {
   "cell_type": "code",
   "execution_count": null,
   "metadata": {
    "collapsed": true
   },
   "outputs": [],
   "source": [
    "re.findall?"
   ]
  },
  {
   "cell_type": "code",
   "execution_count": 51,
   "metadata": {
    "collapsed": false
   },
   "outputs": [
    {
     "name": "stdout",
     "output_type": "stream",
     "text": [
      "python is great language.\n",
      "python is my first language.\n",
      "python is my bread and butter.\n",
      "\n",
      "python\n",
      "python\n",
      "['python', 'python', 'python']\n",
      "['python']\n",
      "['python', 'python', 'python']\n"
     ]
    }
   ],
   "source": [
    "# Multiline and findall\n",
    "my_sentence = \"python is great language.\\npython is my first language.\\npython is my bread and butter.\\n\"\n",
    "print (my_sentence)\n",
    "\n",
    "print ((re.match('python',my_sentence).group()))\n",
    "print ((re.search('python',my_sentence).group()))\n",
    "\n",
    "print ((re.findall('python',my_sentence)))\n",
    "\n",
    "# i want to find all python at beginning of a sentence\n",
    "\n",
    "print ((re.findall('^python',my_sentence)))\n",
    "   \n",
    "\n",
    "print ((re.findall('^python',my_sentence,re.M)))"
   ]
  },
  {
   "cell_type": "code",
   "execution_count": 34,
   "metadata": {
    "collapsed": false
   },
   "outputs": [
    {
     "name": "stdout",
     "output_type": "stream",
     "text": [
      "['krypto.abc@gmail.com', 'krypto.abc@yahoo.com', 'new.krypto.abc@gmail.co.in', '123.krypto.abc@gmail.com']\n"
     ]
    }
   ],
   "source": [
    "# finding the correct email address\n",
    "my_emails = \"\"\"\n",
    "My valid email address is krypto.abc@gmail.com\n",
    "My valid email address is krypto.abc@yahoo.com\n",
    "My valid email address is new.krypto.abc@gmail.co.in\n",
    "My valid email addres  is 123.krypto.abc@gmail.com\n",
    "My valid email address is krypto.abc@\n",
    "My valid email address is krypto.abc\n",
    "My valid email address is @gmail.com\n",
    "\"\"\"\n",
    "\n",
    "reg = re.compile('[0-9a-z.]+@[a-z.]+')\n",
    "print (reg.findall(my_emails))"
   ]
  },
  {
   "cell_type": "code",
   "execution_count": 53,
   "metadata": {
    "collapsed": true
   },
   "outputs": [],
   "source": [
    "import re"
   ]
  },
  {
   "cell_type": "code",
   "execution_count": 55,
   "metadata": {
    "collapsed": false
   },
   "outputs": [
    {
     "name": "stdout",
     "output_type": "stream",
     "text": [
      "(16, 22)\n",
      "Sep 29 08:50:45  NetworkManager[975]: <info>   address 192.168.42.151\n"
     ]
    }
   ],
   "source": [
    "my_log = 'Sep 29 08:50:45 krypto NetworkManager[975]: <info>   address 192.168.42.151'\n",
    "m = re.search('krypto',my_log,re.I)\n",
    "#print (dir(m))\n",
    "\n",
    "print ((m.start(),m.end()))\n",
    "print ((my_log[:m.start()] +  my_log[m.end():]))\n"
   ]
  },
  {
   "cell_type": "code",
   "execution_count": 56,
   "metadata": {
    "collapsed": false
   },
   "outputs": [
    {
     "name": "stdout",
     "output_type": "stream",
     "text": [
      "['', 'Sep 29 08:50:45 krypto dhclient: bound to 192.168.42.151 -- renewal in 1253 seconds.', 'Sep 29 08:50:45 krypto NetworkManager[975]: <info> (usb0): DHCPv4 state changed bound -> renew', 'Sep 29 08:50:45 krypto NetworkManager[975]: <info>   address 192.168.42.151', 'Sep 29 08:50:45 krypto NetworkManager[975]: <info>   prefix 24 (255.255.255.0)', 'Sep 29 08:50:45 krypto NetworkManager[975]: <info>   gateway 192.168.42.129', \"Sep 29 08:50:45 krypto NetworkManager[975]: <info>   hostname 'key2gyaan'\", \"Sep 29 08:50:45 krypto NetworkManager[975]: <info>   nameserver '192.168.42.129'\", \"Sep 29 08:50:45 krypto dbus[599]: [system] Activating service name='org.freedesktop.nm_dispatcher' (using servicehelper)\", \"Sep 29 08:50:45 krypto dbus[599]: [system] Successfully activated service 'org.freedesktop.nm_dispatcher'\", 'Sep 29 08:51:39 krypto kernel: [ 3820.630486] usb 2-1: USB disconnect, device number 6', '']\n"
     ]
    }
   ],
   "source": [
    "my_log = '''\n",
    "Sep 29 08:50:45 krypto dhclient: bound to 192.168.42.151 -- renewal in 1253 seconds.\n",
    "Sep 29 08:50:45 krypto NetworkManager[975]: <info> (usb0): DHCPv4 state changed bound -> renew\n",
    "Sep 29 08:50:45 krypto NetworkManager[975]: <info>   address 192.168.42.151\n",
    "Sep 29 08:50:45 krypto NetworkManager[975]: <info>   prefix 24 (255.255.255.0)\n",
    "Sep 29 08:50:45 krypto NetworkManager[975]: <info>   gateway 192.168.42.129\n",
    "Sep 29 08:50:45 krypto NetworkManager[975]: <info>   hostname 'key2gyaan'\n",
    "Sep 29 08:50:45 krypto NetworkManager[975]: <info>   nameserver '192.168.42.129'\n",
    "Sep 29 08:50:45 krypto dbus[599]: [system] Activating service name='org.freedesktop.nm_dispatcher' (using servicehelper)\n",
    "Sep 29 08:50:45 krypto dbus[599]: [system] Successfully activated service 'org.freedesktop.nm_dispatcher'\n",
    "Sep 29 08:51:39 krypto kernel: [ 3820.630486] usb 2-1: USB disconnect, device number 6\n",
    "'''\n",
    "\n",
    "my_list = my_log.split('\\n')\n",
    "\n",
    "print(my_list)\n",
    "   "
   ]
  },
  {
   "cell_type": "code",
   "execution_count": 57,
   "metadata": {
    "collapsed": false
   },
   "outputs": [
    {
     "name": "stdout",
     "output_type": "stream",
     "text": [
      "Sep 29 08:50:45  dhclient: bound to 192.168.42.151 -- renewal in 1253 seconds.\n",
      "Sep 29 08:50:45  NetworkManager[975]: <info> (usb0): DHCPv4 state changed bound -> renew\n",
      "Sep 29 08:50:45  NetworkManager[975]: <info>   address 192.168.42.151\n",
      "Sep 29 08:50:45  NetworkManager[975]: <info>   prefix 24 (255.255.255.0)\n",
      "Sep 29 08:50:45  NetworkManager[975]: <info>   gateway 192.168.42.129\n",
      "Sep 29 08:50:45  NetworkManager[975]: <info>   hostname 'key2gyaan'\n",
      "Sep 29 08:50:45  NetworkManager[975]: <info>   nameserver '192.168.42.129'\n",
      "Sep 29 08:50:45  dbus[599]: [system] Activating service name='org.freedesktop.nm_dispatcher' (using servicehelper)\n",
      "Sep 29 08:50:45  dbus[599]: [system] Successfully activated service 'org.freedesktop.nm_dispatcher'\n",
      "Sep 29 08:51:39  kernel: [ 3820.630486] usb 2-1: USB disconnect, device number 6\n"
     ]
    }
   ],
   "source": [
    "for value in my_list:\n",
    "    if re.search('krypto',value,re.I):\n",
    "        m = re.search('krypto',value,re.I)\n",
    "        print ((value[:m.start()] +  value[m.end():])) "
   ]
  },
  {
   "cell_type": "code",
   "execution_count": null,
   "metadata": {
    "collapsed": true
   },
   "outputs": [],
   "source": [
    "# references\n",
    "# https://docs.python.org/2/howto/regex.html\n",
    "# https://docs.python.org/2/library/re.html"
   ]
  }
 ],
 "metadata": {
  "kernelspec": {
   "display_name": "Python 3",
   "language": "python",
   "name": "python3"
  },
  "language_info": {
   "codemirror_mode": {
    "name": "ipython",
    "version": 3
   },
   "file_extension": ".py",
   "mimetype": "text/x-python",
   "name": "python",
   "nbconvert_exporter": "python",
   "pygments_lexer": "ipython3",
   "version": "3.5.2"
  }
 },
 "nbformat": 4,
 "nbformat_minor": 1
}
