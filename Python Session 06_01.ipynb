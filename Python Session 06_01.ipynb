{
 "cells": [
  {
   "cell_type": "markdown",
   "metadata": {},
   "source": [
    "**Closing and Opening Files**\n",
    "\n",
    "+ Python, along with associated packages, supports a number of formats for file reading and writing. \n",
    "+ The file types supported are txt, csv, tsv, xls, xlsx, doc, docx, dat, output, sql (and some specialized formats such as R, .dta, sas7bdat)\n",
    "+ Here, we will cover some of the options and will look at the rest in session on pandas.\n",
    "+ In order to open a file, use open() method specifying file name and mode of opening (read, write, append, etc)\n",
    "+ Open returns a file handle \n",
    "+ handle = open(filename, mode)\n",
    "+ Once work is done, it is always better to close the file otherwise other programs might not be able to access the file.\n",
    "+ File closing is done using close() method"
   ]
  },
  {
   "cell_type": "markdown",
   "metadata": {},
   "source": [
    "```python\n",
    "Syntax:\n",
    "file_handle = open(<filename>, <mode>)\n",
    "```"
   ]
  },
  {
   "cell_type": "code",
   "execution_count": 2,
   "metadata": {
    "collapsed": false
   },
   "outputs": [
    {
     "data": {
      "text/plain": [
       "'C:\\\\Users\\\\Subba Reddy Yeruva\\\\Desktop\\\\Python Classes'"
      ]
     },
     "execution_count": 2,
     "metadata": {},
     "output_type": "execute_result"
    }
   ],
   "source": [
    "pwd"
   ]
  },
  {
   "cell_type": "code",
   "execution_count": 3,
   "metadata": {
    "collapsed": false
   },
   "outputs": [],
   "source": [
    "f = open('abc.txt', 'r')"
   ]
  },
  {
   "cell_type": "markdown",
   "metadata": {},
   "source": [
    "<b>Modes:</b><br>\n",
    "<u>Text Modes</u>\n",
    "\n",
    "    r or rt - read mode, if file not exists throws IOError\n",
    "    w or wt - write mode, if file not exists creats new one\n",
    "    a or at - append mode is write mode but starts writing, from the end of the file\n",
    "\n",
    "    r+ or rt+ - read write\n",
    "    w+ or wt+ - write read\n",
    "    a+ or at+ - append read\n",
    "    \n",
    "<u>Binary Modes</u>\n",
    "\n",
    "    rb - Binray read\n",
    "    wb - Binary write\n",
    "    ab - append\n",
    "    rb+ - read and write in binary\n",
    "    wb+ - read and write in binary\n",
    "    ab+ - read and append in binary"
   ]
  },
  {
   "cell_type": "code",
   "execution_count": null,
   "metadata": {
    "collapsed": true
   },
   "outputs": [],
   "source": [
    "# Files - regular files"
   ]
  },
  {
   "cell_type": "markdown",
   "metadata": {},
   "source": [
    "# Text Files"
   ]
  },
  {
   "cell_type": "code",
   "execution_count": 4,
   "metadata": {
    "collapsed": false
   },
   "outputs": [
    {
     "data": {
      "text/plain": [
       "'C:\\\\Users\\\\Subba Reddy Yeruva\\\\Desktop\\\\Python Classes'"
      ]
     },
     "execution_count": 4,
     "metadata": {},
     "output_type": "execute_result"
    }
   ],
   "source": [
    "import os\n",
    "os.getcwd()"
   ]
  },
  {
   "cell_type": "code",
   "execution_count": 5,
   "metadata": {
    "collapsed": false
   },
   "outputs": [
    {
     "data": {
      "text/plain": [
       "'C:\\\\Users\\\\Subba Reddy Yeruva\\\\Desktop\\\\Python Classes'"
      ]
     },
     "execution_count": 5,
     "metadata": {},
     "output_type": "execute_result"
    }
   ],
   "source": [
    "pwd"
   ]
  },
  {
   "cell_type": "code",
   "execution_count": 6,
   "metadata": {
    "collapsed": true
   },
   "outputs": [],
   "source": [
    "#os.chdir('C:\\\\Users\\\\syeruva4\\\\Desktop\\\\Python Classes\\\\myfile.txt')"
   ]
  },
  {
   "cell_type": "code",
   "execution_count": 7,
   "metadata": {
    "collapsed": true
   },
   "outputs": [],
   "source": [
    "# f is a file handle.\n",
    "f = open('abc.txt')"
   ]
  },
  {
   "cell_type": "code",
   "execution_count": 8,
   "metadata": {
    "collapsed": false
   },
   "outputs": [
    {
     "name": "stdout",
     "output_type": "stream",
     "text": [
      "<class '_io.TextIOWrapper'>\n",
      "<_io.TextIOWrapper name='abc.txt' mode='r' encoding='cp1252'>\n"
     ]
    }
   ],
   "source": [
    "print (type(f))\n",
    "print (f)"
   ]
  },
  {
   "cell_type": "code",
   "execution_count": null,
   "metadata": {
    "collapsed": true
   },
   "outputs": [],
   "source": [
    "# modes\n",
    "# r -> read the file.\n",
    "# w -> write into the file.\n",
    "# NOTE: if file exists w overwrites a file and if it doesnt exit it will create it.\n",
    "# a -> append. Appending the data to the file.\n",
    "# b -> binary.\n",
    "# rb,wb,ab\n",
    "# r+ -> Read and write into same file"
   ]
  },
  {
   "cell_type": "code",
   "execution_count": 50,
   "metadata": {
    "collapsed": false
   },
   "outputs": [
    {
     "name": "stdout",
     "output_type": "stream",
     "text": [
      "['_CHUNK_SIZE', '__class__', '__del__', '__delattr__', '__dict__', '__dir__', '__doc__', '__enter__', '__eq__', '__exit__', '__format__', '__ge__', '__getattribute__', '__getstate__', '__gt__', '__hash__', '__init__', '__iter__', '__le__', '__lt__', '__ne__', '__new__', '__next__', '__reduce__', '__reduce_ex__', '__repr__', '__setattr__', '__sizeof__', '__str__', '__subclasshook__', '_checkClosed', '_checkReadable', '_checkSeekable', '_checkWritable', '_finalizing', 'buffer', 'close', 'closed', 'detach', 'encoding', 'errors', 'fileno', 'flush', 'isatty', 'line_buffering', 'mode', 'name', 'newlines', 'read', 'readable', 'readline', 'readlines', 'seek', 'seekable', 'tell', 'truncate', 'writable', 'write', 'writelines']\n"
     ]
    }
   ],
   "source": [
    "print (dir(f))"
   ]
  },
  {
   "cell_type": "code",
   "execution_count": null,
   "metadata": {
    "collapsed": false
   },
   "outputs": [],
   "source": [
    "# reading a file.\n",
    "print (help(f.read))"
   ]
  },
  {
   "cell_type": "code",
   "execution_count": 55,
   "metadata": {
    "collapsed": false
   },
   "outputs": [
    {
     "data": {
      "text/plain": [
       "0"
      ]
     },
     "execution_count": 55,
     "metadata": {},
     "output_type": "execute_result"
    }
   ],
   "source": [
    "#f.seek(0)"
   ]
  },
  {
   "cell_type": "code",
   "execution_count": 9,
   "metadata": {
    "collapsed": false
   },
   "outputs": [
    {
     "name": "stdout",
     "output_type": "stream",
     "text": [
      "first \n"
     ]
    }
   ],
   "source": [
    "print (f.read(6))"
   ]
  },
  {
   "cell_type": "code",
   "execution_count": 10,
   "metadata": {
    "collapsed": false
   },
   "outputs": [
    {
     "name": "stdout",
     "output_type": "stream",
     "text": [
      "line \n",
      "second line \n",
      "third line\n",
      "4th line \n"
     ]
    }
   ],
   "source": [
    "print(f.read())"
   ]
  },
  {
   "cell_type": "code",
   "execution_count": 11,
   "metadata": {
    "collapsed": false
   },
   "outputs": [
    {
     "name": "stdout",
     "output_type": "stream",
     "text": [
      "\n"
     ]
    }
   ],
   "source": [
    "print(f.read())"
   ]
  },
  {
   "cell_type": "code",
   "execution_count": 12,
   "metadata": {
    "collapsed": false
   },
   "outputs": [
    {
     "name": "stdout",
     "output_type": "stream",
     "text": [
      "Help on built-in function tell:\n",
      "\n",
      "tell() method of _io.TextIOWrapper instance\n",
      "    Return current stream position.\n",
      "\n",
      "None\n"
     ]
    }
   ],
   "source": [
    "# f.tell -> Current Position\n",
    "print (help(f.tell))"
   ]
  },
  {
   "cell_type": "code",
   "execution_count": 13,
   "metadata": {
    "collapsed": false
   },
   "outputs": [
    {
     "name": "stdout",
     "output_type": "stream",
     "text": [
      "48\n"
     ]
    }
   ],
   "source": [
    "print (f.tell())"
   ]
  },
  {
   "cell_type": "code",
   "execution_count": null,
   "metadata": {
    "collapsed": false
   },
   "outputs": [],
   "source": [
    "# f.seek --> New absolute position\n",
    "print (help(f.seek))\n"
   ]
  },
  {
   "cell_type": "code",
   "execution_count": 14,
   "metadata": {
    "collapsed": false
   },
   "outputs": [
    {
     "name": "stdout",
     "output_type": "stream",
     "text": [
      "0\n"
     ]
    }
   ],
   "source": [
    "print (f.seek(0))\n"
   ]
  },
  {
   "cell_type": "code",
   "execution_count": 15,
   "metadata": {
    "collapsed": false
   },
   "outputs": [
    {
     "name": "stdout",
     "output_type": "stream",
     "text": [
      "0\n"
     ]
    }
   ],
   "source": [
    "print (f.tell())"
   ]
  },
  {
   "cell_type": "code",
   "execution_count": 16,
   "metadata": {
    "collapsed": false
   },
   "outputs": [
    {
     "name": "stdout",
     "output_type": "stream",
     "text": [
      "first line \n",
      "second line \n",
      "third line\n",
      "4th line \n"
     ]
    }
   ],
   "source": [
    "print(f.read())"
   ]
  },
  {
   "cell_type": "code",
   "execution_count": null,
   "metadata": {
    "collapsed": false
   },
   "outputs": [],
   "source": [
    "# f.readline\n",
    "print (help(f.readline))"
   ]
  },
  {
   "cell_type": "code",
   "execution_count": 17,
   "metadata": {
    "collapsed": false
   },
   "outputs": [
    {
     "name": "stdout",
     "output_type": "stream",
     "text": [
      "fi\n"
     ]
    }
   ],
   "source": [
    "f.seek(0)\n",
    "print (f.readline(2))"
   ]
  },
  {
   "cell_type": "code",
   "execution_count": null,
   "metadata": {
    "collapsed": false
   },
   "outputs": [],
   "source": [
    "# f.readlines\n",
    "print (help(f.readlines))"
   ]
  },
  {
   "cell_type": "code",
   "execution_count": 18,
   "metadata": {
    "collapsed": true
   },
   "outputs": [],
   "source": [
    "f.seek(0)\n",
    "my_strings = f.readlines()"
   ]
  },
  {
   "cell_type": "code",
   "execution_count": 19,
   "metadata": {
    "collapsed": false
   },
   "outputs": [
    {
     "data": {
      "text/plain": [
       "['first line \\n', 'second line \\n', 'third line\\n', '4th line ']"
      ]
     },
     "execution_count": 19,
     "metadata": {},
     "output_type": "execute_result"
    }
   ],
   "source": [
    "my_strings"
   ]
  },
  {
   "cell_type": "code",
   "execution_count": null,
   "metadata": {
    "collapsed": false
   },
   "outputs": [],
   "source": [
    "# f.readinto\n",
    "#print (help(f.readinto))\n",
    "# f.xreadlines\n",
    "#print (help(f.xreadlines))"
   ]
  },
  {
   "cell_type": "code",
   "execution_count": 20,
   "metadata": {
    "collapsed": true
   },
   "outputs": [],
   "source": [
    "g = open('myfile1.txt','w')"
   ]
  },
  {
   "cell_type": "code",
   "execution_count": 21,
   "metadata": {
    "collapsed": false
   },
   "outputs": [
    {
     "data": {
      "text/plain": [
       "87"
      ]
     },
     "execution_count": 21,
     "metadata": {},
     "output_type": "execute_result"
    }
   ],
   "source": [
    "# g.write\n",
    "g.write(\"This is my 1st line.\\nThis is my 2nd line.\\nThis is my 3rd line.\\nThis is my fourth line.\\n\")"
   ]
  },
  {
   "cell_type": "code",
   "execution_count": null,
   "metadata": {
    "collapsed": false
   },
   "outputs": [],
   "source": [
    "# flush\n",
    "print (help(g.flush))\n",
    "# close\n",
    "print (help(g.close))"
   ]
  },
  {
   "cell_type": "raw",
   "metadata": {},
   "source": [
    "input devices -> buffer -> cpu -> buffer -> output devices"
   ]
  },
  {
   "cell_type": "code",
   "execution_count": 22,
   "metadata": {
    "collapsed": true
   },
   "outputs": [],
   "source": [
    "g.flush()"
   ]
  },
  {
   "cell_type": "code",
   "execution_count": 23,
   "metadata": {
    "collapsed": false
   },
   "outputs": [
    {
     "name": "stdout",
     "output_type": "stream",
     "text": [
      "Help on built-in function flush:\n",
      "\n",
      "flush() method of _io.TextIOWrapper instance\n",
      "    Flush write buffers, if applicable.\n",
      "    \n",
      "    This is not implemented for read-only and non-blocking streams.\n",
      "\n"
     ]
    }
   ],
   "source": [
    "help(g.flush)"
   ]
  },
  {
   "cell_type": "code",
   "execution_count": 24,
   "metadata": {
    "collapsed": false
   },
   "outputs": [
    {
     "data": {
      "text/plain": [
       "<_io.TextIOWrapper name='myfile1.txt' mode='w' encoding='cp1252'>"
      ]
     },
     "execution_count": 24,
     "metadata": {},
     "output_type": "execute_result"
    }
   ],
   "source": [
    "g"
   ]
  },
  {
   "cell_type": "code",
   "execution_count": 25,
   "metadata": {
    "collapsed": false
   },
   "outputs": [],
   "source": [
    "g.close()\n"
   ]
  },
  {
   "cell_type": "code",
   "execution_count": 68,
   "metadata": {
    "collapsed": false
   },
   "outputs": [
    {
     "data": {
      "text/plain": [
       "<_io.TextIOWrapper name='myfile1.txt' mode='w' encoding='cp1252'>"
      ]
     },
     "execution_count": 68,
     "metadata": {},
     "output_type": "execute_result"
    }
   ],
   "source": [
    "g"
   ]
  },
  {
   "cell_type": "code",
   "execution_count": 26,
   "metadata": {
    "collapsed": false
   },
   "outputs": [
    {
     "name": "stdout",
     "output_type": "stream",
     "text": [
      "True\n"
     ]
    }
   ],
   "source": [
    "# closed\n",
    "print (g.closed)"
   ]
  },
  {
   "cell_type": "code",
   "execution_count": 27,
   "metadata": {
    "collapsed": false
   },
   "outputs": [
    {
     "ename": "ValueError",
     "evalue": "I/O operation on closed file.",
     "output_type": "error",
     "traceback": [
      "\u001b[1;31m---------------------------------------------------------------------------\u001b[0m",
      "\u001b[1;31mValueError\u001b[0m                                Traceback (most recent call last)",
      "\u001b[1;32m<ipython-input-27-625aece13929>\u001b[0m in \u001b[0;36m<module>\u001b[1;34m()\u001b[0m\n\u001b[1;32m----> 1\u001b[1;33m \u001b[0mg\u001b[0m\u001b[1;33m.\u001b[0m\u001b[0mwrite\u001b[0m\u001b[1;33m(\u001b[0m\u001b[1;34m\"hey i am writing into the file.\"\u001b[0m\u001b[1;33m)\u001b[0m\u001b[1;33m\u001b[0m\u001b[0m\n\u001b[0m",
      "\u001b[1;31mValueError\u001b[0m: I/O operation on closed file."
     ]
    }
   ],
   "source": [
    "g.write(\"hey i am writing into the file.\")"
   ]
  },
  {
   "cell_type": "code",
   "execution_count": 28,
   "metadata": {
    "collapsed": false
   },
   "outputs": [
    {
     "name": "stdout",
     "output_type": "stream",
     "text": [
      "the file is closed\n"
     ]
    }
   ],
   "source": [
    "# conditional flow\n",
    "if g.closed:\n",
    "    print (\"the file is closed\")\n",
    "else:\n",
    "    print (g.write(\"hey i am writing into the file.\"))"
   ]
  },
  {
   "cell_type": "code",
   "execution_count": 72,
   "metadata": {
    "collapsed": false
   },
   "outputs": [
    {
     "name": "stdout",
     "output_type": "stream",
     "text": [
      "Sorry!! the files is closed.\n"
     ]
    }
   ],
   "source": [
    "# Exceptions\n",
    "try:\n",
    "    g.write(\"hey i am writing into the file.\")\n",
    "except ValueError:\n",
    "    print (\"Sorry!! the files is closed.\")\n",
    "else:\n",
    "    g.write(\"hey i am writing into the file.\")\n",
    "finally:\n",
    "    g.close()"
   ]
  },
  {
   "cell_type": "code",
   "execution_count": 75,
   "metadata": {
    "collapsed": false
   },
   "outputs": [
    {
     "data": {
      "text/plain": [
       "'C:\\\\Users\\\\Subba Reddy Yeruva\\\\Desktop\\\\Python Classes'"
      ]
     },
     "execution_count": 75,
     "metadata": {},
     "output_type": "execute_result"
    }
   ],
   "source": [
    "pwd"
   ]
  },
  {
   "cell_type": "code",
   "execution_count": 29,
   "metadata": {
    "collapsed": true
   },
   "outputs": [],
   "source": [
    "# with\n",
    "with open('myfile1.txt','a') as h:\n",
    "    h.write(\"hey i am writing into the file.\")"
   ]
  },
  {
   "cell_type": "code",
   "execution_count": 30,
   "metadata": {
    "collapsed": false
   },
   "outputs": [
    {
     "name": "stdout",
     "output_type": "stream",
     "text": [
      "<_io.TextIOWrapper name='myfile1.txt' mode='a' encoding='cp1252'>\n"
     ]
    }
   ],
   "source": [
    "print (h)"
   ]
  },
  {
   "cell_type": "code",
   "execution_count": 31,
   "metadata": {
    "collapsed": false
   },
   "outputs": [
    {
     "name": "stdout",
     "output_type": "stream",
     "text": [
      "['first line \\n', 'second line \\n', 'third line\\n', '4th line ']\n"
     ]
    }
   ],
   "source": [
    "# g.writelines\n",
    "print (my_strings)\n",
    "h = open('myfile1.txt','a')\n",
    "h.writelines(my_strings)"
   ]
  },
  {
   "cell_type": "code",
   "execution_count": 32,
   "metadata": {
    "collapsed": false
   },
   "outputs": [
    {
     "data": {
      "text/plain": [
       "['first line \\n', 'second line \\n', 'third line\\n', '4th line ']"
      ]
     },
     "execution_count": 32,
     "metadata": {},
     "output_type": "execute_result"
    }
   ],
   "source": [
    "my_strings"
   ]
  },
  {
   "cell_type": "code",
   "execution_count": 82,
   "metadata": {
    "collapsed": false
   },
   "outputs": [
    {
     "data": {
      "text/plain": [
       "<function TextIOWrapper.close>"
      ]
     },
     "execution_count": 82,
     "metadata": {},
     "output_type": "execute_result"
    }
   ],
   "source": [
    "h.close"
   ]
  },
  {
   "cell_type": "code",
   "execution_count": null,
   "metadata": {
    "collapsed": true
   },
   "outputs": [],
   "source": [
    "# f.next()   --> to read the file line by line \n",
    "# EOF ?   --> exception = StopIteration: "
   ]
  },
  {
   "cell_type": "code",
   "execution_count": 86,
   "metadata": {
    "collapsed": false
   },
   "outputs": [
    {
     "name": "stdout",
     "output_type": "stream",
     "text": [
      "Days of the Week\n",
      "\n",
      "line1\n",
      "line2 \n",
      "line3 \n"
     ]
    }
   ],
   "source": [
    "path = 'C:/Users/Subba Reddy Yeruva/Desktop/Python Classes/myfile.txt'\n",
    "\n",
    "\n",
    "\n",
    "days_file = open(path,'r')\n",
    "days = days_file.read()\n",
    "\n",
    "\n",
    "new_path = 'C:/Users/Subba Reddy Yeruva/Desktop/Python Classes/new_days.txt'\n",
    "new_days = open(new_path,'w')\n",
    "\n",
    "title = 'Days of the Week\\n'\n",
    "new_days.write(title)\n",
    "print(title)\n",
    "\n",
    "new_days.write(days)\n",
    "print(days)\n",
    "\n",
    "days_file.close()\n",
    "new_days.close()"
   ]
  },
  {
   "cell_type": "code",
   "execution_count": null,
   "metadata": {
    "collapsed": true
   },
   "outputs": [],
   "source": [
    "# If would like to update the file based on some criteria then how you do it ?\n",
    "# There are many options "
   ]
  },
  {
   "cell_type": "markdown",
   "metadata": {},
   "source": [
    "# CSV files"
   ]
  },
  {
   "cell_type": "code",
   "execution_count": 35,
   "metadata": {
    "collapsed": false
   },
   "outputs": [
    {
     "data": {
      "text/html": [
       "<div>\n",
       "<table border=\"1\" class=\"dataframe\">\n",
       "  <thead>\n",
       "    <tr style=\"text-align: right;\">\n",
       "      <th></th>\n",
       "      <th>0</th>\n",
       "      <th>1</th>\n",
       "      <th>2</th>\n",
       "    </tr>\n",
       "  </thead>\n",
       "  <tbody>\n",
       "    <tr>\n",
       "      <th>0</th>\n",
       "      <td>Bharat</td>\n",
       "      <td>1</td>\n",
       "      <td>abc@gmail.com</td>\n",
       "    </tr>\n",
       "    <tr>\n",
       "      <th>1</th>\n",
       "      <td>venu</td>\n",
       "      <td>2</td>\n",
       "      <td>abc1@gmail.com</td>\n",
       "    </tr>\n",
       "    <tr>\n",
       "      <th>2</th>\n",
       "      <td>sandeep</td>\n",
       "      <td>3</td>\n",
       "      <td>abc2@gmail.com</td>\n",
       "    </tr>\n",
       "    <tr>\n",
       "      <th>3</th>\n",
       "      <td>karthik</td>\n",
       "      <td>4</td>\n",
       "      <td>abc3@gmail.com</td>\n",
       "    </tr>\n",
       "    <tr>\n",
       "      <th>4</th>\n",
       "      <td>narasimha</td>\n",
       "      <td>5</td>\n",
       "      <td>abc4@gmail.com</td>\n",
       "    </tr>\n",
       "  </tbody>\n",
       "</table>\n",
       "</div>"
      ],
      "text/plain": [
       "           0  1               2\n",
       "0     Bharat  1   abc@gmail.com\n",
       "1       venu  2  abc1@gmail.com\n",
       "2    sandeep  3  abc2@gmail.com\n",
       "3    karthik  4  abc3@gmail.com\n",
       "4  narasimha  5  abc4@gmail.com"
      ]
     },
     "execution_count": 35,
     "metadata": {},
     "output_type": "execute_result"
    }
   ],
   "source": [
    "import pandas as pd\n",
    "\n",
    "df = pd.read_csv('attendees.csv',header=None)\n",
    "df"
   ]
  },
  {
   "cell_type": "code",
   "execution_count": null,
   "metadata": {
    "collapsed": true
   },
   "outputs": [],
   "source": [
    "pd.read"
   ]
  },
  {
   "cell_type": "code",
   "execution_count": 36,
   "metadata": {
    "collapsed": false
   },
   "outputs": [
    {
     "name": "stdout",
     "output_type": "stream",
     "text": [
      "['Bharat', '1', 'abc@gmail.com']\n",
      "['venu', '2', 'abc1@gmail.com']\n",
      "['sandeep', '3', 'abc2@gmail.com']\n",
      "['karthik', '4', 'abc3@gmail.com']\n",
      "['narasimha', '5', 'abc4@gmail.com']\n"
     ]
    }
   ],
   "source": [
    "import csv\n",
    "\n",
    "f = open('attendees.csv')\n",
    "csv_f = csv.reader(f)\n",
    "\n",
    "for row in csv_f:\n",
    "      print (row)"
   ]
  },
  {
   "cell_type": "code",
   "execution_count": 37,
   "metadata": {
    "collapsed": false
   },
   "outputs": [
    {
     "name": "stdout",
     "output_type": "stream",
     "text": [
      "abc@gmail.com\n",
      "abc1@gmail.com\n",
      "abc2@gmail.com\n",
      "abc3@gmail.com\n",
      "abc4@gmail.com\n"
     ]
    }
   ],
   "source": [
    "import csv\n",
    "\n",
    "f = open('attendees.csv')\n",
    "csv_f = csv.reader(f)\n",
    "\n",
    "for row in csv_f:\n",
    "      print (row[2])"
   ]
  },
  {
   "cell_type": "code",
   "execution_count": 38,
   "metadata": {
    "collapsed": false
   },
   "outputs": [
    {
     "name": "stdout",
     "output_type": "stream",
     "text": [
      "['abc@gmail.com', 'abc1@gmail.com', 'abc2@gmail.com', 'abc3@gmail.com', 'abc4@gmail.com']\n"
     ]
    }
   ],
   "source": [
    "\n",
    "f = open('attendees.csv')\n",
    "csv_f = csv.reader(f)\n",
    "\n",
    "attendee_emails = []\n",
    "\n",
    "for row in csv_f:\n",
    "      attendee_emails.append(row[2])\n",
    "\n",
    "print (attendee_emails)\n"
   ]
  },
  {
   "cell_type": "code",
   "execution_count": 39,
   "metadata": {
    "collapsed": false
   },
   "outputs": [
    {
     "name": "stdout",
     "output_type": "stream",
     "text": [
      "{'abc6@gmail.com', 'abc5@gmail.com'}\n"
     ]
    }
   ],
   "source": [
    "f = open('attendees.csv')\n",
    "csv_f = csv.reader(f)\n",
    "\n",
    "attendee_emails1 = []\n",
    "\n",
    "for row in csv_f:\n",
    "      attendee_emails1.append(row[2])\n",
    "\n",
    "\n",
    "f = open('attendees2.csv')\n",
    "csv_f = csv.reader(f)\n",
    "\n",
    "attendee_emails2 = []\n",
    "\n",
    "for row in csv_f:\n",
    "      attendee_emails2.append(row[2])\n",
    "\n",
    "attendee_emails11 = set(attendee_emails1)\n",
    "attendee_emails22 = set(attendee_emails2)\n",
    "\n",
    "second_year_attendees = attendee_emails22.difference(attendee_emails11)   # B - A\n",
    "\n",
    "print (second_year_attendees)\n"
   ]
  },
  {
   "cell_type": "code",
   "execution_count": 40,
   "metadata": {
    "collapsed": false
   },
   "outputs": [
    {
     "name": "stdout",
     "output_type": "stream",
     "text": [
      "Title 1,Title 2,Title 3\n",
      "\n",
      "1,a,08/01/07\n",
      "\n",
      "2,b,08/02/07\n",
      "\n",
      "3,c,08/03/07\n",
      "\n",
      "4,d,08/04/07\n",
      "\n",
      "5,e,08/05/07\n",
      "\n",
      "6,f,08/06/07\n",
      "\n",
      "7,g,08/07/07\n",
      "\n",
      "8,h,08/08/07\n",
      "\n",
      "9,i,08/09/07\n",
      "\n",
      "10,j,08/10/07\n",
      "\n",
      "\n"
     ]
    }
   ],
   "source": [
    "import csv\n",
    "import sys\n",
    "\n",
    "f = open(\"dummy.csv\", 'wt')\n",
    "try:\n",
    "    writer = csv.writer(f)\n",
    "    writer.writerow( ('Title 1', 'Title 2', 'Title 3') )\n",
    "    for i in range(10):\n",
    "        writer.writerow( (i+1, chr(ord('a') + i), '08/%02d/07' % (i+1)) )\n",
    "finally:\n",
    "    f.close()\n",
    "\n",
    "print (open(\"dummy.csv\", 'rt').read())"
   ]
  },
  {
   "cell_type": "code",
   "execution_count": 41,
   "metadata": {
    "collapsed": false
   },
   "outputs": [
    {
     "name": "stdout",
     "output_type": "stream",
     "text": [
      "Title 1|Title 2|Title 3\n",
      "\n",
      "1|a|08/01/07\n",
      "\n",
      "2|b|08/02/07\n",
      "\n",
      "3|c|08/03/07\n",
      "\n",
      "4|d|08/04/07\n",
      "\n",
      "5|e|08/05/07\n",
      "\n",
      "6|f|08/06/07\n",
      "\n",
      "7|g|08/07/07\n",
      "\n",
      "8|h|08/08/07\n",
      "\n",
      "9|i|08/09/07\n",
      "\n",
      "10|j|08/10/07\n",
      "\n",
      "\n"
     ]
    }
   ],
   "source": [
    "        \n",
    "import csv\n",
    "import sys\n",
    "\n",
    "#csv.register_dialect('pipes', delimiter='|')\n",
    "\n",
    "f = open(\"dummy1.csv\", 'wt')\n",
    "\n",
    "try:\n",
    "    writer = csv.writer(f,delimiter=\"|\")\n",
    "    writer.writerow( ('Title 1', 'Title 2', 'Title 3') )\n",
    "    \n",
    "    for i in range(10):\n",
    "              writer.writerow( (i+1, chr(ord('a') + i), '08/%02d/07' % (i+1)) )     \n",
    "finally:\n",
    "    f.close()\n",
    "\n",
    "print (open(\"dummy1.csv\", 'rt').read())"
   ]
  },
  {
   "cell_type": "markdown",
   "metadata": {},
   "source": [
    "# SAS files Handling"
   ]
  },
  {
   "cell_type": "code",
   "execution_count": null,
   "metadata": {
    "collapsed": false
   },
   "outputs": [],
   "source": [
    "#!pip install sas7bdat    # to install sas7bdat\n",
    "import sas7bdat\n",
    "from sas7bdat import *\n",
    "\n",
    "# To convert a SAS file in to a text file"
   ]
  },
  {
   "cell_type": "code",
   "execution_count": null,
   "metadata": {
    "collapsed": false
   },
   "outputs": [],
   "source": [
    "data = SAS7BDAT('a120926s1d.sas7bdat')"
   ]
  },
  {
   "cell_type": "code",
   "execution_count": null,
   "metadata": {
    "collapsed": false
   },
   "outputs": [],
   "source": []
  },
  {
   "cell_type": "code",
   "execution_count": null,
   "metadata": {
    "collapsed": false
   },
   "outputs": [],
   "source": [
    "data.convert_file('sas_data.txt','\\t')"
   ]
  },
  {
   "cell_type": "code",
   "execution_count": null,
   "metadata": {
    "collapsed": true
   },
   "outputs": [],
   "source": [
    "sf = open('sas_data.txt')\n",
    "print (sf.read())\n",
    "sf.seek(0)"
   ]
  },
  {
   "cell_type": "code",
   "execution_count": null,
   "metadata": {
    "collapsed": true
   },
   "outputs": [],
   "source": [
    "print(sf.readline())"
   ]
  },
  {
   "cell_type": "code",
   "execution_count": null,
   "metadata": {
    "collapsed": true
   },
   "outputs": [],
   "source": [
    "with SAS7BDAT('a120926s1d.sas7bdat') as f:\n",
    "    for row in f:\n",
    "        print (row)\n",
    "    f.seek(0)"
   ]
  },
  {
   "cell_type": "code",
   "execution_count": null,
   "metadata": {
    "collapsed": true
   },
   "outputs": [],
   "source": [
    "# Introducing Pandas for undersanding purpose of data only\n",
    "import pandas as pd"
   ]
  },
  {
   "cell_type": "code",
   "execution_count": null,
   "metadata": {
    "collapsed": false
   },
   "outputs": [],
   "source": [
    "with SAS7BDAT('a120926s1d.sas7bdat') as g:\n",
    "    df = g.to_data_frame()   #to data frame conversion "
   ]
  },
  {
   "cell_type": "code",
   "execution_count": null,
   "metadata": {
    "collapsed": true
   },
   "outputs": [],
   "source": [
    "df.head(5)"
   ]
  },
  {
   "cell_type": "code",
   "execution_count": null,
   "metadata": {
    "collapsed": true
   },
   "outputs": [],
   "source": [
    "df.dtypes"
   ]
  },
  {
   "cell_type": "code",
   "execution_count": null,
   "metadata": {
    "collapsed": false
   },
   "outputs": [],
   "source": [
    "#import pandas as pd\n",
    "\n",
    "#data = pd.read_sas('a120926s1d.sas7bdat')\n",
    "#pd.DataFrame.to_csv(data, 'sastocsv_file.csv')"
   ]
  },
  {
   "cell_type": "code",
   "execution_count": null,
   "metadata": {
    "collapsed": true
   },
   "outputs": [],
   "source": [
    "# XML Data \n",
    "# How about the package BeautifulSoup    \n",
    "# At this stage i don't want to take this up as part of processing the data"
   ]
  },
  {
   "cell_type": "markdown",
   "metadata": {},
   "source": [
    "# Database Connection"
   ]
  },
  {
   "cell_type": "code",
   "execution_count": null,
   "metadata": {
    "collapsed": true
   },
   "outputs": [],
   "source": [
    "# Please note that below commands are for illustration purpose only "
   ]
  },
  {
   "cell_type": "code",
   "execution_count": 27,
   "metadata": {
    "collapsed": false
   },
   "outputs": [
    {
     "ename": "ImportError",
     "evalue": "No module named 'MySQLdb'",
     "output_type": "error",
     "traceback": [
      "\u001b[1;31m---------------------------------------------------------------------------\u001b[0m",
      "\u001b[1;31mImportError\u001b[0m                               Traceback (most recent call last)",
      "\u001b[1;32m<ipython-input-27-f35bc67539ab>\u001b[0m in \u001b[0;36m<module>\u001b[1;34m()\u001b[0m\n\u001b[1;32m----> 1\u001b[1;33m \u001b[1;32mimport\u001b[0m \u001b[0mMySQLdb\u001b[0m \u001b[1;32mas\u001b[0m \u001b[0mmdb\u001b[0m\u001b[1;33m\u001b[0m\u001b[0m\n\u001b[0m",
      "\u001b[1;31mImportError\u001b[0m: No module named 'MySQLdb'"
     ]
    }
   ],
   "source": [
    "import MySQLdb as mdb"
   ]
  },
  {
   "cell_type": "code",
   "execution_count": 28,
   "metadata": {
    "collapsed": false
   },
   "outputs": [
    {
     "name": "stdout",
     "output_type": "stream",
     "text": [
      "Collecting MySQLdb\n"
     ]
    },
    {
     "name": "stderr",
     "output_type": "stream",
     "text": [
      "  Could not find a version that satisfies the requirement MySQLdb (from versions: )\n",
      "No matching distribution found for MySQLdb\n"
     ]
    }
   ],
   "source": [
    "!pip install MySQLdb"
   ]
  },
  {
   "cell_type": "code",
   "execution_count": null,
   "metadata": {
    "collapsed": true
   },
   "outputs": [],
   "source": [
    "# Select Query \n",
    "# pyodbc package for ODBC connector \n",
    "#!/usr/bin/python\n",
    "import MySQLdb as mdb\n",
    "con = mdb.connect('localhost','user52','user52','dbname')     # 10.0.1    # pseudo name # ASFGPROD\n",
    "# connection = mdb.connect(Mysqlserver,user,password,database)\n",
    "cur = con.cursor()\n",
    "cur.execute('select user()')    # select * from table where a = 1\n",
    "my_user = cur.fetchone()[0].split('@')[0]\n",
    "print (\"the user i am connect to is {}\".format(my_user))"
   ]
  },
  {
   "cell_type": "code",
   "execution_count": null,
   "metadata": {
    "collapsed": true
   },
   "outputs": [],
   "source": [
    "df2 = pd.read_sql(\"select * from table where a = 1\",con)"
   ]
  },
  {
   "cell_type": "code",
   "execution_count": null,
   "metadata": {
    "collapsed": true
   },
   "outputs": [],
   "source": [
    "# Insert Query \n",
    "\n",
    "#!/usr/bin/python\n",
    "import MySQLdb as mdb\n",
    "con = mdb.connect('localhost','user52','user52','dbname')\n",
    "# connection = mdb.connect(Mysqlserver,user,password,database)\n",
    "cur = con.cursor()\n",
    "cur.execute(\"create table students (name varchar(10),gender varchar(6))\")\n",
    "con.close()"
   ]
  },
  {
   "cell_type": "code",
   "execution_count": null,
   "metadata": {
    "collapsed": true
   },
   "outputs": [],
   "source": [
    "# Create table name \n",
    "\n",
    "#!/usr/bin/python\n",
    "import MySQLdb as mdb\n",
    "con = mdb.connect('localhost','user52','user52','dbname')\n",
    "# connection = mdb.connect(Mysqlserver,user,password,database)\n",
    "cur = con.cursor()\n",
    "cur.execute(\"create table students (name varchar(10),gender varchar(6))\")\n",
    "con.close()"
   ]
  },
  {
   "cell_type": "code",
   "execution_count": null,
   "metadata": {
    "collapsed": true
   },
   "outputs": [],
   "source": [
    "#conn = pyodbc.connect(\"DRIVER={NetezzaSQL};SERVER=<myserver>;PORT=<myport>;DATABASE=<mydbschema>;\n",
    "#                        UID=<user>;PWD=<password>;\")\n"
   ]
  },
  {
   "cell_type": "code",
   "execution_count": null,
   "metadata": {
    "collapsed": true
   },
   "outputs": [],
   "source": [
    "pyodbc, jaydbeapi"
   ]
  }
 ],
 "metadata": {
  "kernelspec": {
   "display_name": "Python 3",
   "language": "python",
   "name": "python3"
  },
  "language_info": {
   "codemirror_mode": {
    "name": "ipython",
    "version": 3
   },
   "file_extension": ".py",
   "mimetype": "text/x-python",
   "name": "python",
   "nbconvert_exporter": "python",
   "pygments_lexer": "ipython3",
   "version": "3.5.2"
  }
 },
 "nbformat": 4,
 "nbformat_minor": 2
}
