{
 "cells": [
  {
   "cell_type": "code",
   "execution_count": null,
   "metadata": {
    "collapsed": true
   },
   "outputs": [],
   "source": [
    "list1 = [] \n",
    "dict1 = {}\n",
    "tuple1 = ()\n",
    "sets1 = {}\n",
    "strings1 = \n",
    "\n",
    "\n",
    " list(set1)\n",
    " set(list1) \n"
   ]
  },
  {
   "cell_type": "markdown",
   "metadata": {},
   "source": [
    "# Functions"
   ]
  },
  {
   "cell_type": "code",
   "execution_count": null,
   "metadata": {
    "collapsed": true
   },
   "outputs": [],
   "source": [
    "# Functions\n",
    "# Block of code."
   ]
  },
  {
   "cell_type": "code",
   "execution_count": null,
   "metadata": {
    "collapsed": false
   },
   "outputs": [],
   "source": [
    "# creation of a function\n",
    "# Every function has return value.\n",
    "\n",
    "def my_func():  # optional parameters\n",
    "    \n",
    "    a = 1+2\n",
    "\n",
    "my_func()\n",
    "\n"
   ]
  },
  {
   "cell_type": "code",
   "execution_count": null,
   "metadata": {
    "collapsed": false
   },
   "outputs": [],
   "source": [
    "# your function either gets a None or a return value.\n",
    "# return marks the end of the function.\n",
    "\n",
    "def my_func():  # optional parameters\n",
    "    a = 1+2\n",
    "    return a\n",
    "    \n",
    "\n",
    "b= my_func()\n",
    "\n",
    "c = b+2\n",
    "\n",
    "print(a)"
   ]
  },
  {
   "cell_type": "code",
   "execution_count": null,
   "metadata": {
    "collapsed": false
   },
   "outputs": [],
   "source": [
    "c"
   ]
  },
  {
   "cell_type": "code",
   "execution_count": null,
   "metadata": {
    "collapsed": false
   },
   "outputs": [],
   "source": [
    "# Function Namespaces\n",
    "# The varaible within the function are available during the runtime of the function.\n",
    "# The variable within a function are called as local variables or local scope/namespaces.\n",
    "# locals() is a inbuild function to display the local variables.\n",
    "\n",
    "t = 0 \n",
    "\n",
    "def my_func():\n",
    "    x = 1\n",
    "    y = 1\n",
    "    z = 0\n",
    "    print (locals())\n",
    "    print (id(x))\n",
    "    return x\n",
    "\n",
    "# Main program\n",
    "# calling the function\n",
    "a = my_func()\n",
    "print (id(a),a)\n",
    "print(x)\n",
    "#print (y)        "
   ]
  },
  {
   "cell_type": "code",
   "execution_count": 3,
   "metadata": {
    "collapsed": false
   },
   "outputs": [
    {
     "name": "stdout",
     "output_type": "stream",
     "text": [
      "True\n",
      "{'x': 1}\n",
      "1\n",
      "10\n"
     ]
    }
   ],
   "source": [
    "# Local variable is given higher precedence than global variables inside functions.\n",
    "\n",
    "# Function\n",
    "x = 10         # global variable\n",
    "def my_func():\n",
    "    x = 1      # local variable\n",
    "    print (locals())\n",
    "    return x\n",
    "\n",
    "# Main Program\n",
    "#print (\"global value => x:{},my_func:{}\".format(globals()['x'],globals()['my_func']))\n",
    "print ('my_func' in globals())\n",
    "print (my_func()) # 1\n",
    "print (x)"
   ]
  },
  {
   "cell_type": "code",
   "execution_count": 4,
   "metadata": {
    "collapsed": false
   },
   "outputs": [
    {
     "name": "stdout",
     "output_type": "stream",
     "text": [
      "{}\n",
      "10\n"
     ]
    }
   ],
   "source": [
    "# if a function has no local variables, its looks for global scope.\n",
    "# first local then global.\n",
    "\n",
    "# Function\n",
    "z = 10         # global variable\n",
    "def my_func():\n",
    "    #z = 1\n",
    "    print (locals())\n",
    "    return z\n",
    "\n",
    "# Main program\n",
    "print (my_func()) # 10"
   ]
  },
  {
   "cell_type": "code",
   "execution_count": 7,
   "metadata": {
    "collapsed": false
   },
   "outputs": [
    {
     "name": "stdout",
     "output_type": "stream",
     "text": [
      "1000\n",
      "1000\n"
     ]
    }
   ],
   "source": [
    "# global keyword.\n",
    "# \n",
    "\n",
    "balance = 0\n",
    "\n",
    "# Function\n",
    "def deposit():\n",
    "    global balance\n",
    "    balance = 0\n",
    "    balance = balance + 1000\n",
    "    return balance\n",
    "\n",
    "# Main program\n",
    "print (deposit())   \n",
    "\n",
    "print(balance)"
   ]
  },
  {
   "cell_type": "code",
   "execution_count": 8,
   "metadata": {
    "collapsed": false
   },
   "outputs": [
    {
     "name": "stdout",
     "output_type": "stream",
     "text": [
      "1000\n",
      "-200\n",
      "0\n"
     ]
    }
   ],
   "source": [
    "balance1 = 0\n",
    "\n",
    "# Function\n",
    "def deposit():\n",
    "    balance1 = 0\n",
    "    balance1 = balance1 + 1000\n",
    "    return balance1\n",
    "\n",
    "def withdraw():\n",
    "    balance1 = 0\n",
    "    balance1 = balance1 - 200\n",
    "    return balance1\n",
    "\n",
    "# Main program\n",
    "print (deposit())\n",
    "print (withdraw())\n",
    "\n",
    "print(balance1)"
   ]
  },
  {
   "cell_type": "code",
   "execution_count": 9,
   "metadata": {
    "collapsed": false
   },
   "outputs": [
    {
     "name": "stdout",
     "output_type": "stream",
     "text": [
      "global value => balance:0 before calling deposit\n",
      "{}\n",
      "1000\n",
      "global value => balance:1000 after deposit\n",
      "{}\n",
      "800\n",
      "global value => balance:800 after withdraw\n",
      "800\n"
     ]
    }
   ],
   "source": [
    "balance = 0\n",
    "print (\"global value => balance:{} before calling deposit\".format(globals()['balance']))\n",
    "\n",
    "# Function\n",
    "def deposit():\n",
    "    global balance\n",
    "    print (locals())\n",
    "    balance = balance + 1000\n",
    "    return balance\n",
    "\n",
    "def withdraw():\n",
    "    global balance\n",
    "    print (locals())\n",
    "    balance = balance - 200\n",
    "    return balance\n",
    "\n",
    "# Main program\n",
    "print (deposit())\n",
    "print (\"global value => balance:{} after deposit\".format(globals()['balance']))\n",
    "print (withdraw())\n",
    "print (\"global value => balance:{} after withdraw\".format(globals()['balance']))\n",
    "\n",
    "print(balance)"
   ]
  },
  {
   "cell_type": "code",
   "execution_count": 12,
   "metadata": {
    "collapsed": false
   },
   "outputs": [
    {
     "name": "stdout",
     "output_type": "stream",
     "text": [
      "11 12 {'a': 11, 'b': 12}\n"
     ]
    },
    {
     "data": {
      "text/plain": [
       "23"
      ]
     },
     "execution_count": 12,
     "metadata": {},
     "output_type": "execute_result"
    }
   ],
   "source": [
    "# passing functional variables\n",
    "# Function\n",
    "def my_func(a,b):\n",
    "    print (a,b,locals())\n",
    "    add = a + b\n",
    "    return add\n",
    "    \n",
    "# Main program\n",
    "#print (my_func(11))\n",
    "#print (my_func(b=9,a=-1))\n",
    "\n",
    "\n",
    "b = my_func(11,12)\n",
    "b"
   ]
  },
  {
   "cell_type": "code",
   "execution_count": 15,
   "metadata": {
    "collapsed": false
   },
   "outputs": [
    {
     "name": "stdout",
     "output_type": "stream",
     "text": [
      " 3 *  1 =   3\n",
      " 3 *  2 =   6\n",
      " 3 *  3 =   9\n",
      " 3 *  4 =  12\n",
      " 3 *  5 =  15\n"
     ]
    }
   ],
   "source": [
    "# Default parameter\n",
    "# default is not a keyword\n",
    "\n",
    "# Function\n",
    "def my_multi(num,default=10):\n",
    "    for value in range(1,default+1):\n",
    "        print (\"{0:2d} * {1:2d} = {2:3d}\".format(num,value,num*value))\n",
    "\n",
    "# Main Program\n",
    "#my_multi(2)\n",
    "#my_multi(2,5)\n",
    "my_multi(default=5,num=3)\n",
    "\n"
   ]
  },
  {
   "cell_type": "code",
   "execution_count": 16,
   "metadata": {
    "collapsed": false
   },
   "outputs": [
    {
     "name": "stdout",
     "output_type": "stream",
     "text": [
      "Values inside the function:  [10, 20, 30, [1, 2, 3, 4]]\n",
      "Values outside the function:  [10, 20, 30, [1, 2, 3, 4]]\n"
     ]
    }
   ],
   "source": [
    "def changeme( mylist ):\n",
    "#\"This changes a passed list into this function\"\n",
    "   mylist.append([1,2,3,4])\n",
    "   print (\"Values inside the function: \", mylist)\n",
    "   return\n",
    "\n",
    "# Now you can call changeme function\n",
    "mylist = [10,20,30];\n",
    "changeme( mylist );\n",
    "print (\"Values outside the function: \", mylist)"
   ]
  },
  {
   "cell_type": "code",
   "execution_count": 18,
   "metadata": {
    "collapsed": false
   },
   "outputs": [],
   "source": [
    "# *,**,*args,**kwargs\n",
    "\n",
    "def my_func(a,b,c):\n",
    "    return a + b + c\n",
    "\n",
    "my_list = [11,22,33] # a = my_list[0] ...\n",
    "my_new  = ['today','is','mon']\n",
    "my_list1 = [11,22,33,44]\n",
    "my_list2 = [11,22]\n",
    "\n"
   ]
  },
  {
   "cell_type": "code",
   "execution_count": 19,
   "metadata": {
    "collapsed": false
   },
   "outputs": [
    {
     "name": "stdout",
     "output_type": "stream",
     "text": [
      "66\n"
     ]
    }
   ],
   "source": [
    "print (my_func(*my_list))"
   ]
  },
  {
   "cell_type": "code",
   "execution_count": 20,
   "metadata": {
    "collapsed": false
   },
   "outputs": [
    {
     "name": "stdout",
     "output_type": "stream",
     "text": [
      "todayismon\n"
     ]
    }
   ],
   "source": [
    "print (my_func(*my_new))"
   ]
  },
  {
   "cell_type": "code",
   "execution_count": 21,
   "metadata": {
    "collapsed": false
   },
   "outputs": [
    {
     "ename": "TypeError",
     "evalue": "my_func() takes 3 positional arguments but 4 were given",
     "output_type": "error",
     "traceback": [
      "\u001b[1;31m---------------------------------------------------------------------------\u001b[0m",
      "\u001b[1;31mTypeError\u001b[0m                                 Traceback (most recent call last)",
      "\u001b[1;32m<ipython-input-21-3f987c10d084>\u001b[0m in \u001b[0;36m<module>\u001b[1;34m()\u001b[0m\n\u001b[1;32m----> 1\u001b[1;33m \u001b[0mprint\u001b[0m \u001b[1;33m(\u001b[0m\u001b[0mmy_func\u001b[0m\u001b[1;33m(\u001b[0m\u001b[1;33m*\u001b[0m\u001b[0mmy_list1\u001b[0m\u001b[1;33m)\u001b[0m\u001b[1;33m)\u001b[0m\u001b[1;33m\u001b[0m\u001b[0m\n\u001b[0m",
      "\u001b[1;31mTypeError\u001b[0m: my_func() takes 3 positional arguments but 4 were given"
     ]
    }
   ],
   "source": [
    "print (my_func(*my_list1))"
   ]
  },
  {
   "cell_type": "code",
   "execution_count": 22,
   "metadata": {
    "collapsed": false
   },
   "outputs": [
    {
     "ename": "TypeError",
     "evalue": "my_func() missing 1 required positional argument: 'c'",
     "output_type": "error",
     "traceback": [
      "\u001b[1;31m---------------------------------------------------------------------------\u001b[0m",
      "\u001b[1;31mTypeError\u001b[0m                                 Traceback (most recent call last)",
      "\u001b[1;32m<ipython-input-22-8c76ad1de36c>\u001b[0m in \u001b[0;36m<module>\u001b[1;34m()\u001b[0m\n\u001b[1;32m----> 1\u001b[1;33m \u001b[0mprint\u001b[0m \u001b[1;33m(\u001b[0m\u001b[0mmy_func\u001b[0m\u001b[1;33m(\u001b[0m\u001b[1;33m*\u001b[0m\u001b[0mmy_list2\u001b[0m\u001b[1;33m)\u001b[0m\u001b[1;33m)\u001b[0m\u001b[1;33m\u001b[0m\u001b[0m\n\u001b[0m",
      "\u001b[1;31mTypeError\u001b[0m: my_func() missing 1 required positional argument: 'c'"
     ]
    }
   ],
   "source": [
    "print (my_func(*my_list2))"
   ]
  },
  {
   "cell_type": "code",
   "execution_count": 23,
   "metadata": {
    "collapsed": false
   },
   "outputs": [
    {
     "name": "stdout",
     "output_type": "stream",
     "text": [
      "66\n"
     ]
    }
   ],
   "source": [
    "# ** - dictionary\n",
    "# the number elements of dictionary  should be similar to that of parameters.\n",
    "\n",
    "def my_func(a,b,c):\n",
    "    return a + b + c\n",
    "\n",
    "my_dict = {'b':11,'c':22,'a':33}\n",
    "my_dict1 = {'b':11,'c':22,'f':33}  # error\n",
    "my_dict2 = {'b':11,'c':22,'a':33,'d':44} # error\n",
    "print (my_func(**my_dict))"
   ]
  },
  {
   "cell_type": "code",
   "execution_count": 24,
   "metadata": {
    "collapsed": false
   },
   "outputs": [
    {
     "ename": "TypeError",
     "evalue": "my_func() got an unexpected keyword argument 'f'",
     "output_type": "error",
     "traceback": [
      "\u001b[1;31m---------------------------------------------------------------------------\u001b[0m",
      "\u001b[1;31mTypeError\u001b[0m                                 Traceback (most recent call last)",
      "\u001b[1;32m<ipython-input-24-9cf21d65e1c8>\u001b[0m in \u001b[0;36m<module>\u001b[1;34m()\u001b[0m\n\u001b[1;32m----> 1\u001b[1;33m \u001b[0mprint\u001b[0m \u001b[1;33m(\u001b[0m\u001b[0mmy_func\u001b[0m\u001b[1;33m(\u001b[0m\u001b[1;33m**\u001b[0m\u001b[0mmy_dict1\u001b[0m\u001b[1;33m)\u001b[0m\u001b[1;33m)\u001b[0m\u001b[1;33m\u001b[0m\u001b[0m\n\u001b[0m",
      "\u001b[1;31mTypeError\u001b[0m: my_func() got an unexpected keyword argument 'f'"
     ]
    }
   ],
   "source": [
    "print (my_func(**my_dict1))"
   ]
  },
  {
   "cell_type": "code",
   "execution_count": 25,
   "metadata": {
    "collapsed": false
   },
   "outputs": [
    {
     "ename": "TypeError",
     "evalue": "my_func() got an unexpected keyword argument 'd'",
     "output_type": "error",
     "traceback": [
      "\u001b[1;31m---------------------------------------------------------------------------\u001b[0m",
      "\u001b[1;31mTypeError\u001b[0m                                 Traceback (most recent call last)",
      "\u001b[1;32m<ipython-input-25-1cc557f82cd7>\u001b[0m in \u001b[0;36m<module>\u001b[1;34m()\u001b[0m\n\u001b[1;32m----> 1\u001b[1;33m \u001b[0mprint\u001b[0m \u001b[1;33m(\u001b[0m\u001b[0mmy_func\u001b[0m\u001b[1;33m(\u001b[0m\u001b[1;33m**\u001b[0m\u001b[0mmy_dict2\u001b[0m\u001b[1;33m)\u001b[0m\u001b[1;33m)\u001b[0m\u001b[1;33m\u001b[0m\u001b[0m\n\u001b[0m",
      "\u001b[1;31mTypeError\u001b[0m: my_func() got an unexpected keyword argument 'd'"
     ]
    }
   ],
   "source": [
    "print (my_func(**my_dict2))"
   ]
  },
  {
   "cell_type": "code",
   "execution_count": 28,
   "metadata": {
    "collapsed": true
   },
   "outputs": [],
   "source": [
    "args = (1,2,3,4,5)"
   ]
  },
  {
   "cell_type": "code",
   "execution_count": 30,
   "metadata": {
    "collapsed": false
   },
   "outputs": [
    {
     "data": {
      "text/plain": [
       "5"
      ]
     },
     "execution_count": 30,
     "metadata": {},
     "output_type": "execute_result"
    }
   ],
   "source": [
    "args[4]"
   ]
  },
  {
   "cell_type": "code",
   "execution_count": 26,
   "metadata": {
    "collapsed": false
   },
   "outputs": [
    {
     "name": "stdout",
     "output_type": "stream",
     "text": [
      "33\n"
     ]
    }
   ],
   "source": [
    "# *args is used for passing multiple values\n",
    "# *args gives us tuples.\n",
    "def gmax(*args):\n",
    "    big = -1\n",
    "    for value in args:  # args is the variable which holds values.\n",
    "        if value > big:\n",
    "            big=value\n",
    "    return big\n",
    "\n",
    "print (gmax(22,33,19))"
   ]
  },
  {
   "cell_type": "code",
   "execution_count": 27,
   "metadata": {
    "collapsed": false
   },
   "outputs": [
    {
     "name": "stdout",
     "output_type": "stream",
     "text": [
      "99\n"
     ]
    }
   ],
   "source": [
    "print (gmax(22,33,44,55,10,99))"
   ]
  },
  {
   "cell_type": "code",
   "execution_count": null,
   "metadata": {
    "collapsed": false
   },
   "outputs": [],
   "source": [
    "print (gmax(\"sweet \",\"apple\"))"
   ]
  },
  {
   "cell_type": "code",
   "execution_count": null,
   "metadata": {
    "collapsed": true
   },
   "outputs": [],
   "source": [
    "#ASCII - a - z, A - Z , 0-9 , \n",
    "\n",
    "#UTF-8 "
   ]
  },
  {
   "cell_type": "code",
   "execution_count": null,
   "metadata": {
    "collapsed": true
   },
   "outputs": [],
   "source": [
    "dcit1 = {a:1,b:2}"
   ]
  },
  {
   "cell_type": "code",
   "execution_count": 31,
   "metadata": {
    "collapsed": false
   },
   "outputs": [
    {
     "name": "stdout",
     "output_type": "stream",
     "text": [
      "your name is xyz\n",
      "your mother name is abc\n"
     ]
    }
   ],
   "source": [
    "# **kwargs\n",
    "# **kwargs provides us dictionary.\n",
    "def callme(**kwargs):\n",
    "    if 'name' in kwargs:\n",
    "        print (\"your name is {}\".format(kwargs['name']))\n",
    "    if 'mother' in kwargs:\n",
    "        print (\"your mother name is {}\".format(kwargs['mother']))\n",
    "    if 'address' in kwargs:\n",
    "        print (\"your address is {}\".format(kwargs['address']))\n",
    "    if 'mobile' in kwargs:\n",
    "        print (\"your mobile num is {}\".format(kwargs['mobile']))\n",
    "\n",
    "callme(name=\"xyz\",mother=\"abc\")\n"
   ]
  },
  {
   "cell_type": "code",
   "execution_count": 33,
   "metadata": {
    "collapsed": false
   },
   "outputs": [
    {
     "name": "stdout",
     "output_type": "stream",
     "text": [
      "your name is xyz\n",
      "your mother name is zyx\n",
      "your address is MN\n",
      "your mobile num is 9999\n"
     ]
    }
   ],
   "source": [
    "#callme(name=\"xyz\",address=\"MN\",mobile=9999)\n",
    "\n",
    "callme(name=\"xyz\",address=\"MN\",mobile=9999,mother=\"zyx\")\n",
    "\n"
   ]
  },
  {
   "cell_type": "code",
   "execution_count": 35,
   "metadata": {
    "collapsed": false
   },
   "outputs": [
    {
     "name": "stdout",
     "output_type": "stream",
     "text": [
      "-11\n"
     ]
    }
   ],
   "source": [
    "# Function are first class objects.\n",
    "# one of the keys for decorators.\n",
    "\n",
    "def my_extra(func,a,b):                 \n",
    "    return func(a,b)    # my_add(a,b)\n",
    "\n",
    "def my_add(a,b):\n",
    "    return a + b\n",
    "\n",
    "def my_sub(a,b):\n",
    "    return a - b\n",
    "\n",
    "#print (my_extra(my_add,11,22))\n",
    "print (my_extra(my_sub,33,44))"
   ]
  },
  {
   "cell_type": "code",
   "execution_count": null,
   "metadata": {
    "collapsed": false
   },
   "outputs": [],
   "source": [
    "# function within a function\n",
    "\n",
    "def upper():\n",
    "    x = 1\n",
    "    def lower():\n",
    "        return x\n",
    "    return lower()    # retun the local function instead of value \n",
    "\n",
    "print (upper()) #1\n"
   ]
  },
  {
   "cell_type": "code",
   "execution_count": null,
   "metadata": {
    "collapsed": false
   },
   "outputs": [],
   "source": [
    "print (lower())"
   ]
  },
  {
   "cell_type": "code",
   "execution_count": null,
   "metadata": {
    "collapsed": false
   },
   "outputs": [],
   "source": [
    "# Function defination\n",
    "# function closures - during defination of a function , all variables available both globally and \n",
    "# locally will be also enclosed when you return the address.\n",
    "def upper():\n",
    "    x = 1\n",
    "    def lower():\n",
    "        return x\n",
    "    return lower # addres of the lower\n",
    "\n",
    "# Main program\n",
    "foo = upper()\n",
    "print (foo)\n",
    "print (foo()) # 1"
   ]
  },
  {
   "cell_type": "markdown",
   "metadata": {},
   "source": [
    "Lambda Function:-"
   ]
  },
  {
   "cell_type": "code",
   "execution_count": null,
   "metadata": {
    "collapsed": true
   },
   "outputs": [],
   "source": [
    "sum = lambda x, y : 2*x + 3*y + 4"
   ]
  },
  {
   "cell_type": "code",
   "execution_count": 38,
   "metadata": {
    "collapsed": false
   },
   "outputs": [],
   "source": [
    "sum = lambda x, y : x + y            # lambda argumnets : operation "
   ]
  },
  {
   "cell_type": "code",
   "execution_count": 39,
   "metadata": {
    "collapsed": false
   },
   "outputs": [
    {
     "data": {
      "text/plain": [
       "7"
      ]
     },
     "execution_count": 39,
     "metadata": {},
     "output_type": "execute_result"
    }
   ],
   "source": [
    "sum(3,4)"
   ]
  },
  {
   "cell_type": "code",
   "execution_count": 36,
   "metadata": {
    "collapsed": true
   },
   "outputs": [],
   "source": [
    "def sum(x,y):\n",
    "    return x + y"
   ]
  },
  {
   "cell_type": "code",
   "execution_count": 37,
   "metadata": {
    "collapsed": false
   },
   "outputs": [
    {
     "data": {
      "text/plain": [
       "7"
      ]
     },
     "execution_count": 37,
     "metadata": {},
     "output_type": "execute_result"
    }
   ],
   "source": [
    "sum(3,4)"
   ]
  },
  {
   "cell_type": "code",
   "execution_count": null,
   "metadata": {
    "collapsed": false
   },
   "outputs": [],
   "source": [
    "#sum = map(lambda x, y : x + y,3,4)\n",
    "#sum"
   ]
  },
  {
   "cell_type": "markdown",
   "metadata": {},
   "source": [
    "Map Function:-\n",
    "\n",
    "The map function is the simplest one among Python built-ins used for functional programming. These tools apply functions to sequences and other iterables. "
   ]
  },
  {
   "cell_type": "code",
   "execution_count": null,
   "metadata": {
    "collapsed": false
   },
   "outputs": [],
   "source": [
    "#list2 = []\n",
    "#c= 0\n",
    "#i = 0\n",
    "#def square(list1):\n",
    "    #return a * a\n",
    "    \n",
    "#    for i in list1:\n",
    "#        c = i*i\n",
    "#        list2.append(c)\n",
    "#    return list2\n",
    "\n",
    "#list1 = [1,2,3,4]                   # -->   z = [1,4,9,16]\n",
    "#z= list(map(square,list1))     # map( function, data struct- list/touple/dict )\n",
    "#z"
   ]
  },
  {
   "cell_type": "code",
   "execution_count": 40,
   "metadata": {
    "collapsed": false
   },
   "outputs": [
    {
     "data": {
      "text/plain": [
       "[121, 1024, 484, 1764, 441]"
      ]
     },
     "execution_count": 40,
     "metadata": {},
     "output_type": "execute_result"
    }
   ],
   "source": [
    "z = list(map(lambda a:a*a,[11,32,22,42,21]))     # map(funct, iterable item)   --> list, tuple , dcit , string \n",
    "z"
   ]
  },
  {
   "cell_type": "code",
   "execution_count": 41,
   "metadata": {
    "collapsed": false
   },
   "outputs": [
    {
     "name": "stdout",
     "output_type": "stream",
     "text": [
      "[18, 14, 14, 14]\n"
     ]
    }
   ],
   "source": [
    "a = [1,2,3,4]\n",
    "b = [17,12,11,10]\n",
    "c = [-1,-4,5,9]\n",
    "\n",
    "print(list(map(lambda x,y:x+y, a,b)))     # map(func)"
   ]
  },
  {
   "cell_type": "code",
   "execution_count": null,
   "metadata": {
    "collapsed": true
   },
   "outputs": [],
   "source": [
    "lambda parameter : operation\n",
    "\n",
    "Func: \n",
    "    \n",
    "*args \n",
    "**kwargs \n",
    "**args --> dict"
   ]
  },
  {
   "cell_type": "code",
   "execution_count": 42,
   "metadata": {
    "collapsed": false
   },
   "outputs": [
    {
     "name": "stdout",
     "output_type": "stream",
     "text": [
      "[17, 10, 19, 23]\n"
     ]
    }
   ],
   "source": [
    "print(list(map(lambda x,y,z:x+y+z, a,b,c)))"
   ]
  },
  {
   "cell_type": "code",
   "execution_count": 43,
   "metadata": {
    "collapsed": false
   },
   "outputs": [
    {
     "name": "stdout",
     "output_type": "stream",
     "text": [
      "[37.5, 38.0, 39.5, 51.0]\n"
     ]
    }
   ],
   "source": [
    "print(list(map(lambda x,y,z : 2.5*x*x + 2*y - z, a,b,c)))"
   ]
  },
  {
   "cell_type": "markdown",
   "metadata": {},
   "source": [
    "Filter:-\n",
    "\n",
    "The filter filters out items based on a test function which is a filter and apply functions to pairs of item and running result which is reduce."
   ]
  },
  {
   "cell_type": "code",
   "execution_count": null,
   "metadata": {
    "collapsed": true
   },
   "outputs": [],
   "source": [
    "def func1(a):\n",
    "    b = a%2 \n",
    "    if b == 0: \n",
    "        c = True\n",
    "    else:\n",
    "        c = False \n",
    "    return c"
   ]
  },
  {
   "cell_type": "code",
   "execution_count": 44,
   "metadata": {
    "collapsed": false
   },
   "outputs": [
    {
     "name": "stdout",
     "output_type": "stream",
     "text": [
      "[1, 1, 3, 5, 13, 21, 55]\n"
     ]
    }
   ],
   "source": [
    "fibonacci = [0,1,1,2,3,5,8,13,21,34,55]\n",
    "odd_numbers = list(filter(lambda x: x % 2, fibonacci))\n",
    "print(odd_numbers)"
   ]
  },
  {
   "cell_type": "code",
   "execution_count": 45,
   "metadata": {
    "collapsed": false
   },
   "outputs": [
    {
     "name": "stdout",
     "output_type": "stream",
     "text": [
      "[0, 1, 1, 0, 1, 1, 0, 1, 1, 0, 1]\n"
     ]
    }
   ],
   "source": [
    "# check for the difference b/w map and filter\n",
    "fibonacci = [0,1,1,2,3,5,8,13,21,34,55]\n",
    "odd_numbers = list(map(lambda x: x % 2, fibonacci))\n",
    "print(odd_numbers)"
   ]
  },
  {
   "cell_type": "markdown",
   "metadata": {},
   "source": [
    "Enumerate:-\n",
    "\n",
    "The enumerate() function adds a counter to an iterable. So for each element in cursor , a tuple is produced with (counter, element) ; the for loop binds that to row_number and row , respectively. It's a builtin generator function"
   ]
  },
  {
   "cell_type": "code",
   "execution_count": 46,
   "metadata": {
    "collapsed": false
   },
   "outputs": [
    {
     "name": "stdout",
     "output_type": "stream",
     "text": [
      "foo\n",
      "bar\n",
      "baz\n"
     ]
    }
   ],
   "source": [
    "elements = ('foo', 'bar', 'baz')\n",
    "for elem in elements:\n",
    "    print (elem)"
   ]
  },
  {
   "cell_type": "code",
   "execution_count": 47,
   "metadata": {
    "collapsed": false
   },
   "outputs": [
    {
     "name": "stdout",
     "output_type": "stream",
     "text": [
      "0 foo\n",
      "1 bar\n",
      "2 baz\n"
     ]
    }
   ],
   "source": [
    "for count, elem in enumerate(elements): # enumerate --> assing an counter and print the values one by one\n",
    "    print (count, elem)"
   ]
  },
  {
   "cell_type": "code",
   "execution_count": 48,
   "metadata": {
    "collapsed": false
   },
   "outputs": [
    {
     "name": "stdout",
     "output_type": "stream",
     "text": [
      "20 foo\n",
      "21 bar\n",
      "22 baz\n"
     ]
    }
   ],
   "source": [
    "for count, elem in enumerate(elements,20):   # list1(19) and List2 \n",
    "    print (count, elem)"
   ]
  },
  {
   "cell_type": "code",
   "execution_count": 49,
   "metadata": {
    "collapsed": false
   },
   "outputs": [
    {
     "name": "stdout",
     "output_type": "stream",
     "text": [
      "<class 'enumerate'>\n"
     ]
    }
   ],
   "source": [
    "xyz = enumerate(elements)\n",
    "print(type(xyz))"
   ]
  },
  {
   "cell_type": "code",
   "execution_count": 50,
   "metadata": {
    "collapsed": false
   },
   "outputs": [
    {
     "name": "stdout",
     "output_type": "stream",
     "text": [
      "[(0, 'foo'), (1, 'bar'), (2, 'baz')]\n"
     ]
    }
   ],
   "source": [
    "print(list(xyz))"
   ]
  },
  {
   "cell_type": "code",
   "execution_count": null,
   "metadata": {
    "collapsed": true
   },
   "outputs": [],
   "source": [
    "# Python Programming Exercises\n",
    "#https://github.com/zhiwehu/Python-programming-exercises/blob/master/100%2B%20Python%20challenging%20programming%20exercises.txt"
   ]
  },
  {
   "cell_type": "markdown",
   "metadata": {},
   "source": [
    "# Modules"
   ]
  },
  {
   "cell_type": "markdown",
   "metadata": {
    "collapsed": true
   },
   "source": [
    "Script 1  <-  Srciprt 2"
   ]
  },
  {
   "cell_type": "code",
   "execution_count": null,
   "metadata": {
    "collapsed": false
   },
   "outputs": [],
   "source": [
    "import os\n",
    "os.getcwd()"
   ]
  },
  {
   "cell_type": "code",
   "execution_count": null,
   "metadata": {
    "collapsed": true
   },
   "outputs": [],
   "source": [
    "os.chdir('C:\\\\Users\\\\Subba Reddy Yeruva\\\\Desktop\\\\Python Classes\\\\narasim')\n",
    "\n"
   ]
  },
  {
   "cell_type": "code",
   "execution_count": null,
   "metadata": {
    "collapsed": false
   },
   "outputs": [],
   "source": [
    "import sys\n",
    "sys.path.append('C:\\\\Users\\\\syeruva4\\\\Desktop\\\\Python Classes')"
   ]
  },
  {
   "cell_type": "code",
   "execution_count": null,
   "metadata": {
    "collapsed": false
   },
   "outputs": [],
   "source": [
    "import fibo"
   ]
  },
  {
   "cell_type": "code",
   "execution_count": null,
   "metadata": {
    "collapsed": false
   },
   "outputs": [],
   "source": [
    "fibo.my_multi(1,2)"
   ]
  },
  {
   "cell_type": "code",
   "execution_count": null,
   "metadata": {
    "collapsed": false
   },
   "outputs": [],
   "source": [
    "dir(fibo)"
   ]
  },
  {
   "cell_type": "code",
   "execution_count": null,
   "metadata": {
    "collapsed": true
   },
   "outputs": [],
   "source": [
    "fibo."
   ]
  },
  {
   "cell_type": "code",
   "execution_count": null,
   "metadata": {
    "collapsed": false
   },
   "outputs": [],
   "source": [
    "help(fibo.my_multi)"
   ]
  },
  {
   "cell_type": "code",
   "execution_count": null,
   "metadata": {
    "collapsed": false,
    "scrolled": true
   },
   "outputs": [],
   "source": [
    "my_multi(2)"
   ]
  },
  {
   "cell_type": "code",
   "execution_count": null,
   "metadata": {
    "collapsed": false
   },
   "outputs": [],
   "source": [
    "import arithmaticop"
   ]
  },
  {
   "cell_type": "code",
   "execution_count": null,
   "metadata": {
    "collapsed": false
   },
   "outputs": [],
   "source": [
    "dir(arithmaticop)"
   ]
  },
  {
   "cell_type": "code",
   "execution_count": null,
   "metadata": {
    "collapsed": false
   },
   "outputs": [],
   "source": [
    "help(arithmaticop.my_add)"
   ]
  },
  {
   "cell_type": "code",
   "execution_count": null,
   "metadata": {
    "collapsed": true
   },
   "outputs": [],
   "source": [
    "import math as m"
   ]
  },
  {
   "cell_type": "code",
   "execution_count": null,
   "metadata": {
    "collapsed": false
   },
   "outputs": [],
   "source": [
    "m.pow(2,3)"
   ]
  },
  {
   "cell_type": "code",
   "execution_count": null,
   "metadata": {
    "collapsed": false
   },
   "outputs": [],
   "source": [
    "m.acos"
   ]
  },
  {
   "cell_type": "code",
   "execution_count": null,
   "metadata": {
    "collapsed": false
   },
   "outputs": [],
   "source": [
    "from math import pi,pow\n",
    "# i have made the pi,pow function part of my local scope.\n",
    "print (pi)\n",
    "print (pow(2,3))"
   ]
  },
  {
   "cell_type": "code",
   "execution_count": null,
   "metadata": {
    "collapsed": false
   },
   "outputs": [],
   "source": [
    "#import subprocess\n",
    "\n",
    "#subprocess.call(\"fibo.py\", )\n",
    "\n",
    "#subprocess.call?"
   ]
  },
  {
   "cell_type": "code",
   "execution_count": null,
   "metadata": {
    "collapsed": true
   },
   "outputs": [],
   "source": [
    "subprocess.call?"
   ]
  },
  {
   "cell_type": "code",
   "execution_count": null,
   "metadata": {
    "collapsed": false
   },
   "outputs": [],
   "source": [
    "#subprocess.call(\"fibo.py\",2,3)"
   ]
  },
  {
   "cell_type": "markdown",
   "metadata": {},
   "source": [
    "# Exceptions"
   ]
  },
  {
   "cell_type": "code",
   "execution_count": null,
   "metadata": {
    "collapsed": true
   },
   "outputs": [],
   "source": [
    "# Abnormal terminiation of the program is called exception.\n",
    "# Handling the above condition is called excpetion handling.\n",
    "# Pre-production.\n",
    "# try .. except .. else .. finally\n",
    "# try - computation\n",
    "# except - this is for handling your exceptions.\n",
    "# else - if all is True in try .. go to else."
   ]
  },
  {
   "cell_type": "raw",
   "metadata": {},
   "source": [
    "#import exceptions as e\n",
    "\n",
    "['ArithmeticError', 'AssertionError', 'AttributeError', 'BaseException', 'BufferError', 'BytesWarning', \n",
    " 'DeprecationWarning', 'EOFError', 'EnvironmentError', 'Exception', 'FloatingPointError', 'FutureWarning', \n",
    " 'GeneratorExit', 'IOError', 'ImportError', 'ImportWarning', 'IndentationError', 'IndexError', 'KeyError', \n",
    " 'KeyboardInterrupt', 'LookupError', 'MemoryError', 'NameError', 'NotImplementedError', 'OSError', 'OverflowError', \n",
    " 'PendingDeprecationWarning', 'ReferenceError', 'RuntimeError', 'RuntimeWarning', 'StandardError', 'StopIteration',\n",
    " 'SyntaxError', 'SyntaxWarning', 'SystemError', 'SystemExit', 'TabError', 'TypeError', 'UnboundLocalError', \n",
    " 'UnicodeDecodeError', 'UnicodeEncodeError', 'UnicodeError', 'UnicodeTranslateError', 'UnicodeWarning', \n",
    " 'UserWarning', 'ValueError', 'Warning', 'ZeroDivisionError', '__doc__', '__name__', '__package__']\n"
   ]
  },
  {
   "cell_type": "code",
   "execution_count": 51,
   "metadata": {
    "collapsed": false
   },
   "outputs": [
    {
     "name": "stdout",
     "output_type": "stream",
     "text": [
      "please enter the num1:1\n",
      "please enter the num2:0\n",
      "Please enter numbers. Make sure the denominator is non-zero\n"
     ]
    }
   ],
   "source": [
    "# example1:\n",
    "try:\n",
    "    num1 = int(input(\"please enter the num1:\"))\n",
    "    num2 = int(input(\"please enter the num2:\"))\n",
    "    division = num1/num2\n",
    "except:\n",
    "    print (\"Please enter numbers. Make sure the denominator is non-zero\")\n",
    "else:\n",
    "    print (division)"
   ]
  },
  {
   "cell_type": "code",
   "execution_count": null,
   "metadata": {
    "collapsed": false
   },
   "outputs": [],
   "source": [
    "# example2: Making the code very specific to your exception.\n",
    "try:\n",
    "    num1 = int(input(\"please enter the num1:\"))\n",
    "    num2 = int(input(\"please enter the num2:\"))\n",
    "    division = num1/num2\n",
    "except (ValueError,ZeroDivisionError):\n",
    "    print (\"Please enter numbers. Make sure the denominator is non-zero\")\n",
    "else:\n",
    "    print (division)"
   ]
  },
  {
   "cell_type": "code",
   "execution_count": null,
   "metadata": {
    "collapsed": false
   },
   "outputs": [],
   "source": [
    "# example3: \n",
    "try:\n",
    "    num1 = int(input(\"please enter the num1:\"))\n",
    "    num2 = int(input(\"please enter the num2:\"))\n",
    "    div = num1/num2\n",
    "except ValueError:\n",
    "    print (\"please enter the numbers.\")\n",
    "except ZeroDivisionError:\n",
    "    print (\"Make sure the denominator is non-zero\")\n",
    "else:\n",
    "    print (div)"
   ]
  },
  {
   "cell_type": "code",
   "execution_count": null,
   "metadata": {
    "collapsed": false
   },
   "outputs": [],
   "source": [
    "# Example 4:\n",
    "# case1 : when all values are valid, try.. else.. finally.\n",
    "# case2 : when i gave invalid value, handled by exception .. try..except .. finally.\n",
    "# case3 : when i gave invalid value, not handled by exception .. try.. finally .. exception.\n",
    "try:\n",
    "    num1 = int(input(\"please enter the num1:\"))\n",
    "    num2 = int(input(\"please enter the num2:\"))\n",
    "    div = num1/num2\n",
    "except ValueError:\n",
    "    print (\"please enter the numbers.\")\n",
    "else:\n",
    "    print (div)\n",
    "finally:\n",
    "    print (\"close all the resources.\")"
   ]
  },
  {
   "cell_type": "code",
   "execution_count": null,
   "metadata": {
    "collapsed": false
   },
   "outputs": [],
   "source": [
    "# Example 5: Noting the errors.\n",
    "try:\n",
    "    num1 = int(input(\"please enter the num1:\"))\n",
    "    num2 = int(input(\"please enter the num2:\"))\n",
    "    div = num1/num2\n",
    "except ValueError as err:\n",
    "    print (\"please enter the numbers:\", err)\n",
    "    \n",
    "except ZeroDivisionError as err:\n",
    "    print (\"Make sure the denominator is non-zero:\", err)\n",
    "    \n",
    "else:\n",
    "    print (div)"
   ]
  },
  {
   "cell_type": "code",
   "execution_count": null,
   "metadata": {
    "collapsed": false
   },
   "outputs": [],
   "source": [
    "# Example 6 : Raising Exceptions \n",
    "raise NameError('HiThere')"
   ]
  },
  {
   "cell_type": "code",
   "execution_count": null,
   "metadata": {
    "collapsed": false
   },
   "outputs": [],
   "source": [
    "try:\n",
    "    a = int(input())\n",
    "    b = int(input())\n",
    "    if a > b:\n",
    "       c = a + b\n",
    "    else:\n",
    "        raise NameError('HiThere')\n",
    "except NameError:\n",
    "    print('An exception flew by!')\n",
    "    raise"
   ]
  },
  {
   "cell_type": "code",
   "execution_count": null,
   "metadata": {
    "collapsed": true
   },
   "outputs": [],
   "source": []
  }
 ],
 "metadata": {
  "kernelspec": {
   "display_name": "Python 3",
   "language": "python",
   "name": "python3"
  },
  "language_info": {
   "codemirror_mode": {
    "name": "ipython",
    "version": 3
   },
   "file_extension": ".py",
   "mimetype": "text/x-python",
   "name": "python",
   "nbconvert_exporter": "python",
   "pygments_lexer": "ipython3",
   "version": "3.5.2"
  }
 },
 "nbformat": 4,
 "nbformat_minor": 2
}
